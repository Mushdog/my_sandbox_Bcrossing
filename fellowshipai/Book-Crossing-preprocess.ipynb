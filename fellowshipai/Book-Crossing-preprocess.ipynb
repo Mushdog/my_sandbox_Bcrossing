{
 "cells": [
  {
   "cell_type": "markdown",
   "metadata": {},
   "source": [
    "# Book-Crossing preprocess\n",
    "\n",
    "https://github.com/tttgm/fellowshipai/blob/master/.ipynb_checkpoints/Book-Crossing-Recommender-checkpoint.ipynb\n",
    "The pre-processing of the original data is built on the basis of the fellowshipai repo. \n",
    "\n",
    "https://github.com/tttgm/fellowshipai/blob/master/.ipynb_checkpoints/Book-Crossing-Recommender-checkpoint.ipynb\n",
    "\n",
    "## Various files in the /books/ directory will be generated at the end"
   ]
  },
  {
   "cell_type": "code",
   "execution_count": 1,
   "metadata": {},
   "outputs": [],
   "source": [
    "import pandas as pd\n",
    "import numpy as np\n",
    "import matplotlib.pyplot as plt\n",
    "import pickle\n",
    "import warnings\n",
    "warnings.filterwarnings('ignore') # Turn off warnings\n",
    "plt.style.use('seaborn-white') # Use seaborn-style plots\n",
    "plt.rcParams.update({'font.size': 15}) # Set larger default plot font size\n",
    "%matplotlib inline"
   ]
  },
  {
   "cell_type": "markdown",
   "metadata": {},
   "source": [
    "## Import the dataset"
   ]
  },
  {
   "cell_type": "code",
   "execution_count": 2,
   "metadata": {},
   "outputs": [],
   "source": [
    "# The dataset is comprised of three separate tables: BX-Users, BX-Books, and BX-Book-Ratings.\n",
    "# Each is separated by semi-colons, and the first row contains the column headers.\n",
    "users = pd.read_csv('orginal_book_crossing_dataset/orginal_BX-Users.csv', sep=';')\n",
    "books = pd.read_csv('orginal_book_crossing_dataset/orginal_BX-Books.csv', sep=';')\n",
    "book_ratings = pd.read_csv('orginal_book_crossing_dataset/orginal_BX-Book-Ratings.csv', sep=';')"
   ]
  },
  {
   "cell_type": "code",
   "execution_count": 3,
   "metadata": {},
   "outputs": [
    {
     "data": {
      "text/html": [
       "<div>\n",
       "<style scoped>\n",
       "    .dataframe tbody tr th:only-of-type {\n",
       "        vertical-align: middle;\n",
       "    }\n",
       "\n",
       "    .dataframe tbody tr th {\n",
       "        vertical-align: top;\n",
       "    }\n",
       "\n",
       "    .dataframe thead th {\n",
       "        text-align: right;\n",
       "    }\n",
       "</style>\n",
       "<table border=\"1\" class=\"dataframe\">\n",
       "  <thead>\n",
       "    <tr style=\"text-align: right;\">\n",
       "      <th></th>\n",
       "      <th>User-ID</th>\n",
       "      <th>ISBN</th>\n",
       "      <th>Book-Rating</th>\n",
       "    </tr>\n",
       "  </thead>\n",
       "  <tbody>\n",
       "    <tr>\n",
       "      <th>0</th>\n",
       "      <td>276725</td>\n",
       "      <td>034545104X</td>\n",
       "      <td>0</td>\n",
       "    </tr>\n",
       "    <tr>\n",
       "      <th>1</th>\n",
       "      <td>276726</td>\n",
       "      <td>0155061224</td>\n",
       "      <td>5</td>\n",
       "    </tr>\n",
       "    <tr>\n",
       "      <th>2</th>\n",
       "      <td>276727</td>\n",
       "      <td>0446520802</td>\n",
       "      <td>0</td>\n",
       "    </tr>\n",
       "    <tr>\n",
       "      <th>3</th>\n",
       "      <td>276729</td>\n",
       "      <td>052165615X</td>\n",
       "      <td>3</td>\n",
       "    </tr>\n",
       "    <tr>\n",
       "      <th>4</th>\n",
       "      <td>276729</td>\n",
       "      <td>0521795028</td>\n",
       "      <td>6</td>\n",
       "    </tr>\n",
       "  </tbody>\n",
       "</table>\n",
       "</div>"
      ],
      "text/plain": [
       "   User-ID        ISBN  Book-Rating\n",
       "0   276725  034545104X            0\n",
       "1   276726  0155061224            5\n",
       "2   276727  0446520802            0\n",
       "3   276729  052165615X            3\n",
       "4   276729  0521795028            6"
      ]
     },
     "execution_count": 3,
     "metadata": {},
     "output_type": "execute_result"
    }
   ],
   "source": [
    "book_ratings.head()"
   ]
  },
  {
   "cell_type": "code",
   "execution_count": 4,
   "metadata": {},
   "outputs": [
    {
     "data": {
      "text/html": [
       "<div>\n",
       "<style scoped>\n",
       "    .dataframe tbody tr th:only-of-type {\n",
       "        vertical-align: middle;\n",
       "    }\n",
       "\n",
       "    .dataframe tbody tr th {\n",
       "        vertical-align: top;\n",
       "    }\n",
       "\n",
       "    .dataframe thead th {\n",
       "        text-align: right;\n",
       "    }\n",
       "</style>\n",
       "<table border=\"1\" class=\"dataframe\">\n",
       "  <thead>\n",
       "    <tr style=\"text-align: right;\">\n",
       "      <th></th>\n",
       "      <th>User-ID</th>\n",
       "      <th>Location</th>\n",
       "      <th>Age</th>\n",
       "    </tr>\n",
       "  </thead>\n",
       "  <tbody>\n",
       "    <tr>\n",
       "      <th>0</th>\n",
       "      <td>1</td>\n",
       "      <td>nyc, new york, usa</td>\n",
       "      <td>NaN</td>\n",
       "    </tr>\n",
       "    <tr>\n",
       "      <th>1</th>\n",
       "      <td>2</td>\n",
       "      <td>stockton, california, usa</td>\n",
       "      <td>18.0</td>\n",
       "    </tr>\n",
       "    <tr>\n",
       "      <th>2</th>\n",
       "      <td>3</td>\n",
       "      <td>moscow, yukon territory, russia</td>\n",
       "      <td>NaN</td>\n",
       "    </tr>\n",
       "    <tr>\n",
       "      <th>3</th>\n",
       "      <td>4</td>\n",
       "      <td>porto, v.n.gaia, portugal</td>\n",
       "      <td>17.0</td>\n",
       "    </tr>\n",
       "    <tr>\n",
       "      <th>4</th>\n",
       "      <td>5</td>\n",
       "      <td>farnborough, hants, united kingdom</td>\n",
       "      <td>NaN</td>\n",
       "    </tr>\n",
       "  </tbody>\n",
       "</table>\n",
       "</div>"
      ],
      "text/plain": [
       "   User-ID                            Location   Age\n",
       "0        1                  nyc, new york, usa   NaN\n",
       "1        2           stockton, california, usa  18.0\n",
       "2        3     moscow, yukon territory, russia   NaN\n",
       "3        4           porto, v.n.gaia, portugal  17.0\n",
       "4        5  farnborough, hants, united kingdom   NaN"
      ]
     },
     "execution_count": 4,
     "metadata": {},
     "output_type": "execute_result"
    }
   ],
   "source": [
    "users.head()"
   ]
  },
  {
   "cell_type": "code",
   "execution_count": null,
   "metadata": {},
   "outputs": [],
   "source": []
  },
  {
   "cell_type": "markdown",
   "metadata": {},
   "source": [
    "## Preprocess1 :'users' dataframe"
   ]
  },
  {
   "cell_type": "markdown",
   "metadata": {},
   "source": [
    "First, let's tidy up the column names."
   ]
  },
  {
   "cell_type": "code",
   "execution_count": 5,
   "metadata": {},
   "outputs": [
    {
     "data": {
      "text/html": [
       "<div>\n",
       "<style scoped>\n",
       "    .dataframe tbody tr th:only-of-type {\n",
       "        vertical-align: middle;\n",
       "    }\n",
       "\n",
       "    .dataframe tbody tr th {\n",
       "        vertical-align: top;\n",
       "    }\n",
       "\n",
       "    .dataframe thead th {\n",
       "        text-align: right;\n",
       "    }\n",
       "</style>\n",
       "<table border=\"1\" class=\"dataframe\">\n",
       "  <thead>\n",
       "    <tr style=\"text-align: right;\">\n",
       "      <th></th>\n",
       "      <th>user_id</th>\n",
       "      <th>location</th>\n",
       "      <th>age</th>\n",
       "    </tr>\n",
       "  </thead>\n",
       "  <tbody>\n",
       "    <tr>\n",
       "      <th>0</th>\n",
       "      <td>1</td>\n",
       "      <td>nyc, new york, usa</td>\n",
       "      <td>NaN</td>\n",
       "    </tr>\n",
       "    <tr>\n",
       "      <th>1</th>\n",
       "      <td>2</td>\n",
       "      <td>stockton, california, usa</td>\n",
       "      <td>18.0</td>\n",
       "    </tr>\n",
       "    <tr>\n",
       "      <th>2</th>\n",
       "      <td>3</td>\n",
       "      <td>moscow, yukon territory, russia</td>\n",
       "      <td>NaN</td>\n",
       "    </tr>\n",
       "    <tr>\n",
       "      <th>3</th>\n",
       "      <td>4</td>\n",
       "      <td>porto, v.n.gaia, portugal</td>\n",
       "      <td>17.0</td>\n",
       "    </tr>\n",
       "    <tr>\n",
       "      <th>4</th>\n",
       "      <td>5</td>\n",
       "      <td>farnborough, hants, united kingdom</td>\n",
       "      <td>NaN</td>\n",
       "    </tr>\n",
       "  </tbody>\n",
       "</table>\n",
       "</div>"
      ],
      "text/plain": [
       "   user_id                            location   age\n",
       "0        1                  nyc, new york, usa   NaN\n",
       "1        2           stockton, california, usa  18.0\n",
       "2        3     moscow, yukon territory, russia   NaN\n",
       "3        4           porto, v.n.gaia, portugal  17.0\n",
       "4        5  farnborough, hants, united kingdom   NaN"
      ]
     },
     "execution_count": 5,
     "metadata": {},
     "output_type": "execute_result"
    }
   ],
   "source": [
    "users.columns = users.columns.str.strip().str.lower().str.replace('-', '_')\n",
    "users.head()"
   ]
  },
  {
   "cell_type": "code",
   "execution_count": 6,
   "metadata": {},
   "outputs": [
    {
     "data": {
      "text/plain": [
       "user_id       int64\n",
       "location     object\n",
       "age         float64\n",
       "dtype: object"
      ]
     },
     "execution_count": 6,
     "metadata": {},
     "output_type": "execute_result"
    }
   ],
   "source": [
    "users.dtypes"
   ]
  },
  {
   "cell_type": "code",
   "execution_count": 7,
   "metadata": {},
   "outputs": [],
   "source": [
    "users.loc[(users.age<5) | (users.age>100), 'age'] = np.nan"
   ]
  },
  {
   "cell_type": "markdown",
   "metadata": {},
   "source": [
    "Next, can we expand the 'Location' field to break it up into 'City', 'State', and 'Country'."
   ]
  },
  {
   "cell_type": "code",
   "execution_count": 8,
   "metadata": {},
   "outputs": [],
   "source": [
    "# Note: Used Pandas Series.str.split method as it has an 'expand' parameter which can handle None cases\n",
    "user_location_expanded = users.location.str.split(',', 2, expand=True)\n",
    "user_location_expanded.columns = ['city', 'state', 'country']\n",
    "users = users.join(user_location_expanded)"
   ]
  },
  {
   "cell_type": "code",
   "execution_count": 9,
   "metadata": {},
   "outputs": [
    {
     "data": {
      "text/html": [
       "<div>\n",
       "<style scoped>\n",
       "    .dataframe tbody tr th:only-of-type {\n",
       "        vertical-align: middle;\n",
       "    }\n",
       "\n",
       "    .dataframe tbody tr th {\n",
       "        vertical-align: top;\n",
       "    }\n",
       "\n",
       "    .dataframe thead th {\n",
       "        text-align: right;\n",
       "    }\n",
       "</style>\n",
       "<table border=\"1\" class=\"dataframe\">\n",
       "  <thead>\n",
       "    <tr style=\"text-align: right;\">\n",
       "      <th></th>\n",
       "      <th>user_id</th>\n",
       "      <th>age</th>\n",
       "      <th>city</th>\n",
       "      <th>state</th>\n",
       "      <th>country</th>\n",
       "    </tr>\n",
       "  </thead>\n",
       "  <tbody>\n",
       "    <tr>\n",
       "      <th>0</th>\n",
       "      <td>1</td>\n",
       "      <td>NaN</td>\n",
       "      <td>nyc</td>\n",
       "      <td>new york</td>\n",
       "      <td>usa</td>\n",
       "    </tr>\n",
       "    <tr>\n",
       "      <th>1</th>\n",
       "      <td>2</td>\n",
       "      <td>18.0</td>\n",
       "      <td>stockton</td>\n",
       "      <td>california</td>\n",
       "      <td>usa</td>\n",
       "    </tr>\n",
       "    <tr>\n",
       "      <th>2</th>\n",
       "      <td>3</td>\n",
       "      <td>NaN</td>\n",
       "      <td>moscow</td>\n",
       "      <td>yukon territory</td>\n",
       "      <td>russia</td>\n",
       "    </tr>\n",
       "    <tr>\n",
       "      <th>3</th>\n",
       "      <td>4</td>\n",
       "      <td>17.0</td>\n",
       "      <td>porto</td>\n",
       "      <td>v.n.gaia</td>\n",
       "      <td>portugal</td>\n",
       "    </tr>\n",
       "    <tr>\n",
       "      <th>4</th>\n",
       "      <td>5</td>\n",
       "      <td>NaN</td>\n",
       "      <td>farnborough</td>\n",
       "      <td>hants</td>\n",
       "      <td>united kingdom</td>\n",
       "    </tr>\n",
       "  </tbody>\n",
       "</table>\n",
       "</div>"
      ],
      "text/plain": [
       "   user_id   age         city             state          country\n",
       "0        1   NaN          nyc          new york              usa\n",
       "1        2  18.0     stockton        california              usa\n",
       "2        3   NaN       moscow   yukon territory           russia\n",
       "3        4  17.0        porto          v.n.gaia         portugal\n",
       "4        5   NaN  farnborough             hants   united kingdom"
      ]
     },
     "execution_count": 9,
     "metadata": {},
     "output_type": "execute_result"
    }
   ],
   "source": [
    "users.drop(columns=['location'], inplace=True)\n",
    "users.head()"
   ]
  },
  {
   "cell_type": "markdown",
   "metadata": {},
   "source": [
    "It looks like an empty 'Country' field is in the top 10 most common entries! "
   ]
  },
  {
   "cell_type": "code",
   "execution_count": 10,
   "metadata": {},
   "outputs": [
    {
     "name": "stdout",
     "output_type": "stream",
     "text": [
      "There are 4561 entries with empty strings, and 2 NaN entries in the Country field\n"
     ]
    }
   ],
   "source": [
    "empty_string_country = users[users.country == ''].country.count()\n",
    "nan_country = users.country.isnull().sum()\n",
    "print(f'There are {empty_string_country} entries with empty strings, and {nan_country} NaN entries in the Country field')"
   ]
  },
  {
   "cell_type": "markdown",
   "metadata": {},
   "source": [
    "We should probably change these empty strings to NaNs."
   ]
  },
  {
   "cell_type": "code",
   "execution_count": 11,
   "metadata": {},
   "outputs": [],
   "source": [
    "users.country.replace('', np.nan, inplace=True)"
   ]
  },
  {
   "cell_type": "markdown",
   "metadata": {},
   "source": [
    "## Preprocess2 :'books' dataframe"
   ]
  },
  {
   "cell_type": "code",
   "execution_count": 12,
   "metadata": {},
   "outputs": [
    {
     "data": {
      "text/html": [
       "<div>\n",
       "<style scoped>\n",
       "    .dataframe tbody tr th:only-of-type {\n",
       "        vertical-align: middle;\n",
       "    }\n",
       "\n",
       "    .dataframe tbody tr th {\n",
       "        vertical-align: top;\n",
       "    }\n",
       "\n",
       "    .dataframe thead th {\n",
       "        text-align: right;\n",
       "    }\n",
       "</style>\n",
       "<table border=\"1\" class=\"dataframe\">\n",
       "  <thead>\n",
       "    <tr style=\"text-align: right;\">\n",
       "      <th></th>\n",
       "      <th>ISBN</th>\n",
       "      <th>Book-Title</th>\n",
       "      <th>Book-Author</th>\n",
       "      <th>Year-Of-Publication</th>\n",
       "      <th>Publisher</th>\n",
       "      <th>Image-URL-S</th>\n",
       "      <th>Image-URL-M</th>\n",
       "      <th>Image-URL-L</th>\n",
       "    </tr>\n",
       "  </thead>\n",
       "  <tbody>\n",
       "    <tr>\n",
       "      <th>0</th>\n",
       "      <td>0195153448</td>\n",
       "      <td>Classical Mythology</td>\n",
       "      <td>Mark P. O. Morford</td>\n",
       "      <td>2002</td>\n",
       "      <td>Oxford University Press</td>\n",
       "      <td>http://images.amazon.com/images/P/0195153448.0...</td>\n",
       "      <td>http://images.amazon.com/images/P/0195153448.0...</td>\n",
       "      <td>http://images.amazon.com/images/P/0195153448.0...</td>\n",
       "    </tr>\n",
       "    <tr>\n",
       "      <th>1</th>\n",
       "      <td>0002005018</td>\n",
       "      <td>Clara Callan</td>\n",
       "      <td>Richard Bruce Wright</td>\n",
       "      <td>2001</td>\n",
       "      <td>HarperFlamingo Canada</td>\n",
       "      <td>http://images.amazon.com/images/P/0002005018.0...</td>\n",
       "      <td>http://images.amazon.com/images/P/0002005018.0...</td>\n",
       "      <td>http://images.amazon.com/images/P/0002005018.0...</td>\n",
       "    </tr>\n",
       "    <tr>\n",
       "      <th>2</th>\n",
       "      <td>0060973129</td>\n",
       "      <td>Decision in Normandy</td>\n",
       "      <td>Carlo D'Este</td>\n",
       "      <td>1991</td>\n",
       "      <td>HarperPerennial</td>\n",
       "      <td>http://images.amazon.com/images/P/0060973129.0...</td>\n",
       "      <td>http://images.amazon.com/images/P/0060973129.0...</td>\n",
       "      <td>http://images.amazon.com/images/P/0060973129.0...</td>\n",
       "    </tr>\n",
       "    <tr>\n",
       "      <th>3</th>\n",
       "      <td>0374157065</td>\n",
       "      <td>Flu: The Story of the Great Influenza Pandemic...</td>\n",
       "      <td>Gina Bari Kolata</td>\n",
       "      <td>1999</td>\n",
       "      <td>Farrar Straus Giroux</td>\n",
       "      <td>http://images.amazon.com/images/P/0374157065.0...</td>\n",
       "      <td>http://images.amazon.com/images/P/0374157065.0...</td>\n",
       "      <td>http://images.amazon.com/images/P/0374157065.0...</td>\n",
       "    </tr>\n",
       "    <tr>\n",
       "      <th>4</th>\n",
       "      <td>0393045218</td>\n",
       "      <td>The Mummies of Urumchi</td>\n",
       "      <td>E. J. W. Barber</td>\n",
       "      <td>1999</td>\n",
       "      <td>W. W. Norton &amp;amp Company</td>\n",
       "      <td>http://images.amazon.com/images/P/0393045218.0...</td>\n",
       "      <td>http://images.amazon.com/images/P/0393045218.0...</td>\n",
       "      <td>http://images.amazon.com/images/P/0393045218.0...</td>\n",
       "    </tr>\n",
       "  </tbody>\n",
       "</table>\n",
       "</div>"
      ],
      "text/plain": [
       "         ISBN                                         Book-Title  \\\n",
       "0  0195153448                                Classical Mythology   \n",
       "1  0002005018                                       Clara Callan   \n",
       "2  0060973129                               Decision in Normandy   \n",
       "3  0374157065  Flu: The Story of the Great Influenza Pandemic...   \n",
       "4  0393045218                             The Mummies of Urumchi   \n",
       "\n",
       "            Book-Author Year-Of-Publication                  Publisher  \\\n",
       "0    Mark P. O. Morford                2002    Oxford University Press   \n",
       "1  Richard Bruce Wright                2001      HarperFlamingo Canada   \n",
       "2          Carlo D'Este                1991            HarperPerennial   \n",
       "3      Gina Bari Kolata                1999       Farrar Straus Giroux   \n",
       "4       E. J. W. Barber                1999  W. W. Norton &amp Company   \n",
       "\n",
       "                                         Image-URL-S  \\\n",
       "0  http://images.amazon.com/images/P/0195153448.0...   \n",
       "1  http://images.amazon.com/images/P/0002005018.0...   \n",
       "2  http://images.amazon.com/images/P/0060973129.0...   \n",
       "3  http://images.amazon.com/images/P/0374157065.0...   \n",
       "4  http://images.amazon.com/images/P/0393045218.0...   \n",
       "\n",
       "                                         Image-URL-M  \\\n",
       "0  http://images.amazon.com/images/P/0195153448.0...   \n",
       "1  http://images.amazon.com/images/P/0002005018.0...   \n",
       "2  http://images.amazon.com/images/P/0060973129.0...   \n",
       "3  http://images.amazon.com/images/P/0374157065.0...   \n",
       "4  http://images.amazon.com/images/P/0393045218.0...   \n",
       "\n",
       "                                         Image-URL-L  \n",
       "0  http://images.amazon.com/images/P/0195153448.0...  \n",
       "1  http://images.amazon.com/images/P/0002005018.0...  \n",
       "2  http://images.amazon.com/images/P/0060973129.0...  \n",
       "3  http://images.amazon.com/images/P/0374157065.0...  \n",
       "4  http://images.amazon.com/images/P/0393045218.0...  "
      ]
     },
     "execution_count": 12,
     "metadata": {},
     "output_type": "execute_result"
    }
   ],
   "source": [
    "books.head()"
   ]
  },
  {
   "cell_type": "markdown",
   "metadata": {},
   "source": [
    "First, let's tidy up the column names. And we can probably drop the image-url link columns."
   ]
  },
  {
   "cell_type": "code",
   "execution_count": 13,
   "metadata": {},
   "outputs": [
    {
     "data": {
      "text/html": [
       "<div>\n",
       "<style scoped>\n",
       "    .dataframe tbody tr th:only-of-type {\n",
       "        vertical-align: middle;\n",
       "    }\n",
       "\n",
       "    .dataframe tbody tr th {\n",
       "        vertical-align: top;\n",
       "    }\n",
       "\n",
       "    .dataframe thead th {\n",
       "        text-align: right;\n",
       "    }\n",
       "</style>\n",
       "<table border=\"1\" class=\"dataframe\">\n",
       "  <thead>\n",
       "    <tr style=\"text-align: right;\">\n",
       "      <th></th>\n",
       "      <th>isbn</th>\n",
       "      <th>book_title</th>\n",
       "      <th>book_author</th>\n",
       "      <th>year_of_publication</th>\n",
       "      <th>publisher</th>\n",
       "    </tr>\n",
       "  </thead>\n",
       "  <tbody>\n",
       "    <tr>\n",
       "      <th>0</th>\n",
       "      <td>0195153448</td>\n",
       "      <td>Classical Mythology</td>\n",
       "      <td>Mark P. O. Morford</td>\n",
       "      <td>2002</td>\n",
       "      <td>Oxford University Press</td>\n",
       "    </tr>\n",
       "    <tr>\n",
       "      <th>1</th>\n",
       "      <td>0002005018</td>\n",
       "      <td>Clara Callan</td>\n",
       "      <td>Richard Bruce Wright</td>\n",
       "      <td>2001</td>\n",
       "      <td>HarperFlamingo Canada</td>\n",
       "    </tr>\n",
       "    <tr>\n",
       "      <th>2</th>\n",
       "      <td>0060973129</td>\n",
       "      <td>Decision in Normandy</td>\n",
       "      <td>Carlo D'Este</td>\n",
       "      <td>1991</td>\n",
       "      <td>HarperPerennial</td>\n",
       "    </tr>\n",
       "    <tr>\n",
       "      <th>3</th>\n",
       "      <td>0374157065</td>\n",
       "      <td>Flu: The Story of the Great Influenza Pandemic...</td>\n",
       "      <td>Gina Bari Kolata</td>\n",
       "      <td>1999</td>\n",
       "      <td>Farrar Straus Giroux</td>\n",
       "    </tr>\n",
       "    <tr>\n",
       "      <th>4</th>\n",
       "      <td>0393045218</td>\n",
       "      <td>The Mummies of Urumchi</td>\n",
       "      <td>E. J. W. Barber</td>\n",
       "      <td>1999</td>\n",
       "      <td>W. W. Norton &amp;amp Company</td>\n",
       "    </tr>\n",
       "  </tbody>\n",
       "</table>\n",
       "</div>"
      ],
      "text/plain": [
       "         isbn                                         book_title  \\\n",
       "0  0195153448                                Classical Mythology   \n",
       "1  0002005018                                       Clara Callan   \n",
       "2  0060973129                               Decision in Normandy   \n",
       "3  0374157065  Flu: The Story of the Great Influenza Pandemic...   \n",
       "4  0393045218                             The Mummies of Urumchi   \n",
       "\n",
       "            book_author year_of_publication                  publisher  \n",
       "0    Mark P. O. Morford                2002    Oxford University Press  \n",
       "1  Richard Bruce Wright                2001      HarperFlamingo Canada  \n",
       "2          Carlo D'Este                1991            HarperPerennial  \n",
       "3      Gina Bari Kolata                1999       Farrar Straus Giroux  \n",
       "4       E. J. W. Barber                1999  W. W. Norton &amp Company  "
      ]
     },
     "execution_count": 13,
     "metadata": {},
     "output_type": "execute_result"
    }
   ],
   "source": [
    "books.columns = books.columns.str.strip().str.lower().str.replace('-', '_') # clean column names\n",
    "books.drop(columns=['image_url_s', 'image_url_m', 'image_url_l'], inplace=True) # drop image-url columns\n",
    "books.head()"
   ]
  },
  {
   "cell_type": "markdown",
   "metadata": {},
   "source": [
    "What about the 'type' of each field? We probably want Year of Publication to be ints or floats, and the rest to be strings ('object'). Note: The ISBN numbers may contain some letters, so we CAN'T convert them to numeric values. Will leave as strings."
   ]
  },
  {
   "cell_type": "code",
   "execution_count": 14,
   "metadata": {},
   "outputs": [
    {
     "data": {
      "text/plain": [
       "isbn                   object\n",
       "book_title             object\n",
       "book_author            object\n",
       "year_of_publication    object\n",
       "publisher              object\n",
       "dtype: object"
      ]
     },
     "execution_count": 14,
     "metadata": {},
     "output_type": "execute_result"
    }
   ],
   "source": [
    "books.dtypes"
   ]
  },
  {
   "cell_type": "code",
   "execution_count": 15,
   "metadata": {},
   "outputs": [],
   "source": [
    "# Convert years to float\n",
    "books.year_of_publication = pd.to_numeric(books.year_of_publication, errors='coerce')"
   ]
  },
  {
   "cell_type": "code",
   "execution_count": 16,
   "metadata": {},
   "outputs": [
    {
     "name": "stdout",
     "output_type": "stream",
     "text": [
      "There are 4619 entries as '0', and 3 NaN entries in the Year of Publication field\n"
     ]
    }
   ],
   "source": [
    "# Check for 0's or NaNs in Year of Publication\n",
    "zero_yr = books[books.year_of_publication == 0].year_of_publication.count()\n",
    "nan_yr = books.year_of_publication.isnull().sum()\n",
    "print(f'There are {zero_yr} entries as \\'0\\', and {nan_yr} NaN entries in the Year of Publication field')"
   ]
  },
  {
   "cell_type": "code",
   "execution_count": 17,
   "metadata": {},
   "outputs": [],
   "source": [
    "# Replace all years of zero with NaN\n",
    "books.year_of_publication.replace(0, np.nan, inplace=True)"
   ]
  },
  {
   "cell_type": "markdown",
   "metadata": {},
   "source": [
    "Let's take a look at some of those 'outlier' books. Maybe we'll even keep them as a separate dataset so we can filter them out if we need to later in the analysis. We'll leave them in for now, and then figure out how to handle them once we have more info later on.\n",
    "\n",
    "\n",
    "I think we can probably omit the 'historical_books' as they may potentially skew the model and do not seem to have much relevance to the wider userbase.\n",
    "\n",
    "Some of the 'future' books actually appear to be errors (e.g. Alice in Wonderland, Edgar Allen Poe, etc.)... Perhaps they were supposed to be e.g. 1950 instead of 2050? However, instead of investigating this further, since there are <20 books here I will simply remove them from the 'books' table."
   ]
  },
  {
   "cell_type": "code",
   "execution_count": 18,
   "metadata": {},
   "outputs": [
    {
     "name": "stdout",
     "output_type": "stream",
     "text": [
      "Historical books:\n",
      "                                               book_title  year_of_publication\n",
      "171826  Complete Works 10 Volumes [2,6,7,8,9] (Notable...               1806.0\n",
      "227544                   Dalan-i bihisht (Dastan-i Irani)               1378.0\n",
      "245622  Hugh Wynne, Free Quaker (2 Volumes (BCL1-PS Am...               1897.0\n",
      "253767                                       Tasht-i khun               1376.0\n",
      "\n",
      "\n",
      "Future books:\n",
      "                                               book_title  year_of_publication\n",
      "30011                                          The Royals               2020.0\n",
      "37488   MY TEACHER FRIED MY BRAINS (RACK SIZE) (MY TEA...               2030.0\n",
      "55679   MY TEACHER FLUNKED THE PLANET (RACK SIZE) (MY ...               2030.0\n",
      "78171                                    Crossing America               2030.0\n",
      "80267   Alice's Adventures in Wonderland and Through t...               2050.0\n",
      "92160                     Edgar Allen Poe Collected Poems               2020.0\n",
      "97830       Outline of European Architecture (Pelican S.)               2050.0\n",
      "116058                       Three Plays of Eugene Oneill               2038.0\n",
      "118299        Das groÃ?Â?e BÃ?Â¶se- MÃ?Â¤dchen- Lesebuch.               2026.0\n",
      "183779                                              Heidi               2021.0\n",
      "193004  Field Guide to the Birds of North America, 3rd...               2030.0\n",
      "228187       FOREST PEOPLE (Touchstone Books (Hardcover))               2030.0\n",
      "238832                                LOOK HOMEWARD ANGEL               2020.0\n",
      "240184            In Our Time: Stories (Scribner Classic)               2030.0\n",
      "246858                                              CLOUT               2024.0\n",
      "255426                               To Have and Have Not               2037.0\n",
      "260992        FOOTBALL SUPER TEAMS : FOOTBALL SUPER TEAMS               2030.0\n"
     ]
    }
   ],
   "source": [
    "historical_books = books[books.year_of_publication<1900] # create df of old books\n",
    "books_from_the_future = books[books.year_of_publication>2018] # create df of books with publication yrs in the future!\n",
    "\n",
    "hist_books_mini = historical_books[['book_title', 'year_of_publication']]\n",
    "future_books_mini = books_from_the_future[['book_title', 'year_of_publication']]\n",
    "print(f'Historical books:\\n{hist_books_mini}')\n",
    "print('\\n')\n",
    "print(f'Future books:\\n{future_books_mini}')"
   ]
  },
  {
   "cell_type": "code",
   "execution_count": 19,
   "metadata": {},
   "outputs": [
    {
     "name": "stdout",
     "output_type": "stream",
     "text": [
      "Length of books dataset before removal: 271379\n",
      "Length of books dataset after removal: 271358\n"
     ]
    }
   ],
   "source": [
    "print(f'Length of books dataset before removal: {len(books)}')\n",
    "books = books.loc[~(books.isbn.isin(historical_books.isbn))] # remove historical books\n",
    "books = books.loc[~(books.isbn.isin(books_from_the_future.isbn))] # remove historical books\n",
    "print(f'Length of books dataset after removal: {len(books)}')"
   ]
  },
  {
   "cell_type": "markdown",
   "metadata": {},
   "source": [
    "We clean up the ampersand formatting in the Publisher field."
   ]
  },
  {
   "cell_type": "code",
   "execution_count": 20,
   "metadata": {},
   "outputs": [
    {
     "data": {
      "text/html": [
       "<div>\n",
       "<style scoped>\n",
       "    .dataframe tbody tr th:only-of-type {\n",
       "        vertical-align: middle;\n",
       "    }\n",
       "\n",
       "    .dataframe tbody tr th {\n",
       "        vertical-align: top;\n",
       "    }\n",
       "\n",
       "    .dataframe thead th {\n",
       "        text-align: right;\n",
       "    }\n",
       "</style>\n",
       "<table border=\"1\" class=\"dataframe\">\n",
       "  <thead>\n",
       "    <tr style=\"text-align: right;\">\n",
       "      <th></th>\n",
       "      <th>isbn</th>\n",
       "      <th>book_title</th>\n",
       "      <th>book_author</th>\n",
       "      <th>year_of_publication</th>\n",
       "      <th>publisher</th>\n",
       "    </tr>\n",
       "  </thead>\n",
       "  <tbody>\n",
       "    <tr>\n",
       "      <th>0</th>\n",
       "      <td>0195153448</td>\n",
       "      <td>Classical Mythology</td>\n",
       "      <td>Mark P. O. Morford</td>\n",
       "      <td>2002.0</td>\n",
       "      <td>Oxford University Press</td>\n",
       "    </tr>\n",
       "    <tr>\n",
       "      <th>1</th>\n",
       "      <td>0002005018</td>\n",
       "      <td>Clara Callan</td>\n",
       "      <td>Richard Bruce Wright</td>\n",
       "      <td>2001.0</td>\n",
       "      <td>HarperFlamingo Canada</td>\n",
       "    </tr>\n",
       "    <tr>\n",
       "      <th>2</th>\n",
       "      <td>0060973129</td>\n",
       "      <td>Decision in Normandy</td>\n",
       "      <td>Carlo D'Este</td>\n",
       "      <td>1991.0</td>\n",
       "      <td>HarperPerennial</td>\n",
       "    </tr>\n",
       "    <tr>\n",
       "      <th>3</th>\n",
       "      <td>0374157065</td>\n",
       "      <td>Flu: The Story of the Great Influenza Pandemic...</td>\n",
       "      <td>Gina Bari Kolata</td>\n",
       "      <td>1999.0</td>\n",
       "      <td>Farrar Straus Giroux</td>\n",
       "    </tr>\n",
       "    <tr>\n",
       "      <th>4</th>\n",
       "      <td>0393045218</td>\n",
       "      <td>The Mummies of Urumchi</td>\n",
       "      <td>E. J. W. Barber</td>\n",
       "      <td>1999.0</td>\n",
       "      <td>W. W. Norton &amp; Company</td>\n",
       "    </tr>\n",
       "  </tbody>\n",
       "</table>\n",
       "</div>"
      ],
      "text/plain": [
       "         isbn                                         book_title  \\\n",
       "0  0195153448                                Classical Mythology   \n",
       "1  0002005018                                       Clara Callan   \n",
       "2  0060973129                               Decision in Normandy   \n",
       "3  0374157065  Flu: The Story of the Great Influenza Pandemic...   \n",
       "4  0393045218                             The Mummies of Urumchi   \n",
       "\n",
       "            book_author  year_of_publication                publisher  \n",
       "0    Mark P. O. Morford               2002.0  Oxford University Press  \n",
       "1  Richard Bruce Wright               2001.0    HarperFlamingo Canada  \n",
       "2          Carlo D'Este               1991.0          HarperPerennial  \n",
       "3      Gina Bari Kolata               1999.0     Farrar Straus Giroux  \n",
       "4       E. J. W. Barber               1999.0   W. W. Norton & Company  "
      ]
     },
     "execution_count": 20,
     "metadata": {},
     "output_type": "execute_result"
    }
   ],
   "source": [
    "books.publisher = books.publisher.str.replace('&amp', '&', regex=False)\n",
    "books.head()"
   ]
  },
  {
   "cell_type": "markdown",
   "metadata": {},
   "source": [
    "Check that there are no duplicated book entries."
   ]
  },
  {
   "cell_type": "code",
   "execution_count": 21,
   "metadata": {},
   "outputs": [
    {
     "name": "stdout",
     "output_type": "stream",
     "text": [
      "No. of unique books: 271358 | All book entries: 271358\n"
     ]
    }
   ],
   "source": [
    "uniq_books = books.isbn.nunique()\n",
    "all_books = books.isbn.count()\n",
    "print(f'No. of unique books: {uniq_books} | All book entries: {all_books}')"
   ]
  },
  {
   "cell_type": "markdown",
   "metadata": {},
   "source": [
    "We should search for empty or NaN values in authors  fields too."
   ]
  },
  {
   "cell_type": "code",
   "execution_count": 22,
   "metadata": {},
   "outputs": [
    {
     "name": "stdout",
     "output_type": "stream",
     "text": [
      "There are 0 entries with empty strings, and 2 NaN entries in the Publisher field\n"
     ]
    }
   ],
   "source": [
    "empty_string_publisher = books[books.publisher == ''].publisher.count()\n",
    "nan_publisher = books.publisher.isnull().sum()\n",
    "print(f'There are {empty_string_publisher} entries with empty strings, and {nan_publisher} NaN entries in the Publisher field')"
   ]
  },
  {
   "cell_type": "markdown",
   "metadata": {},
   "source": [
    "here are 0 entries with empty strings, and 2 NaN entries in the Publisher field\n",
    "Great - no empty strings in the Publisher field, and only 2 NaNs.\n"
   ]
  },
  {
   "cell_type": "code",
   "execution_count": 23,
   "metadata": {},
   "outputs": [
    {
     "name": "stdout",
     "output_type": "stream",
     "text": [
      "There are 0 entries with empty strings, and 1 NaN entries in the Author field\n"
     ]
    }
   ],
   "source": [
    "empty_string_author = books[books.book_author == ''].book_author.count()\n",
    "nan_author = books.book_author.isnull().sum()\n",
    "print(f'There are {empty_string_author} entries with empty strings, and {nan_author} NaN entries in the Author field')"
   ]
  },
  {
   "cell_type": "markdown",
   "metadata": {},
   "source": [
    "There are 0 entries with empty strings, and 1 NaN entries in the Author field"
   ]
  },
  {
   "cell_type": "markdown",
   "metadata": {},
   "source": [
    "## Preprocess3:'book_ratings' table"
   ]
  },
  {
   "cell_type": "markdown",
   "metadata": {},
   "source": [
    "Again, let's tidy up the column names."
   ]
  },
  {
   "cell_type": "code",
   "execution_count": 24,
   "metadata": {},
   "outputs": [
    {
     "data": {
      "text/html": [
       "<div>\n",
       "<style scoped>\n",
       "    .dataframe tbody tr th:only-of-type {\n",
       "        vertical-align: middle;\n",
       "    }\n",
       "\n",
       "    .dataframe tbody tr th {\n",
       "        vertical-align: top;\n",
       "    }\n",
       "\n",
       "    .dataframe thead th {\n",
       "        text-align: right;\n",
       "    }\n",
       "</style>\n",
       "<table border=\"1\" class=\"dataframe\">\n",
       "  <thead>\n",
       "    <tr style=\"text-align: right;\">\n",
       "      <th></th>\n",
       "      <th>user_id</th>\n",
       "      <th>isbn</th>\n",
       "      <th>book_rating</th>\n",
       "    </tr>\n",
       "  </thead>\n",
       "  <tbody>\n",
       "    <tr>\n",
       "      <th>0</th>\n",
       "      <td>276725</td>\n",
       "      <td>034545104X</td>\n",
       "      <td>0</td>\n",
       "    </tr>\n",
       "    <tr>\n",
       "      <th>1</th>\n",
       "      <td>276726</td>\n",
       "      <td>0155061224</td>\n",
       "      <td>5</td>\n",
       "    </tr>\n",
       "    <tr>\n",
       "      <th>2</th>\n",
       "      <td>276727</td>\n",
       "      <td>0446520802</td>\n",
       "      <td>0</td>\n",
       "    </tr>\n",
       "    <tr>\n",
       "      <th>3</th>\n",
       "      <td>276729</td>\n",
       "      <td>052165615X</td>\n",
       "      <td>3</td>\n",
       "    </tr>\n",
       "    <tr>\n",
       "      <th>4</th>\n",
       "      <td>276729</td>\n",
       "      <td>0521795028</td>\n",
       "      <td>6</td>\n",
       "    </tr>\n",
       "  </tbody>\n",
       "</table>\n",
       "</div>"
      ],
      "text/plain": [
       "   user_id        isbn  book_rating\n",
       "0   276725  034545104X            0\n",
       "1   276726  0155061224            5\n",
       "2   276727  0446520802            0\n",
       "3   276729  052165615X            3\n",
       "4   276729  0521795028            6"
      ]
     },
     "execution_count": 24,
     "metadata": {},
     "output_type": "execute_result"
    }
   ],
   "source": [
    "book_ratings.columns = book_ratings.columns.str.strip().str.lower().str.replace('-', '_')\n",
    "book_ratings.head()"
   ]
  },
  {
   "cell_type": "code",
   "execution_count": 25,
   "metadata": {},
   "outputs": [
    {
     "data": {
      "text/plain": [
       "user_id         int64\n",
       "isbn           object\n",
       "book_rating     int64\n",
       "dtype: object"
      ]
     },
     "execution_count": 25,
     "metadata": {},
     "output_type": "execute_result"
    }
   ],
   "source": [
    "book_ratings.dtypes"
   ]
  },
  {
   "cell_type": "code",
   "execution_count": 26,
   "metadata": {},
   "outputs": [
    {
     "name": "stdout",
     "output_type": "stream",
     "text": [
      "The 20 users with the most ratings:\n",
      "user_id\n",
      "11676     13602\n",
      "198711     7550\n",
      "153662     6109\n",
      "98391      5891\n",
      "35859      5850\n",
      "212898     4785\n",
      "278418     4533\n",
      "76352      3367\n",
      "110973     3100\n",
      "235105     3067\n",
      "230522     2991\n",
      "16795      2948\n",
      "234623     2674\n",
      "36836      2529\n",
      "52584      2512\n",
      "245963     2507\n",
      "204864     2504\n",
      "55492      2459\n",
      "185233     2448\n",
      "171118     2421\n",
      "Name: isbn, dtype: int64\n"
     ]
    }
   ],
   "source": [
    "super_users_ = book_ratings.groupby('user_id').isbn.count().sort_values(ascending=False)\n",
    "print(f'The 20 users with the most ratings:\\n{super_users_[:20]}')"
   ]
  },
  {
   "cell_type": "code",
   "execution_count": 27,
   "metadata": {},
   "outputs": [
    {
     "data": {
      "image/png": "[encoded data removed]",
      "text/plain": [
       "<Figure size 640x480 with 1 Axes>"
      ]
     },
     "metadata": {},
     "output_type": "display_data"
    }
   ],
   "source": [
    "# user distribution - users with more than 50 ratings removed\n",
    "user_hist = super_users_.where(super_users_<50)\n",
    "user_hist.hist(bins=30)\n",
    "plt.xlabel('No. of ratings')\n",
    "plt.ylabel('count')\n",
    "plt.show()\n"
   ]
  },
  {
   "cell_type": "markdown",
   "metadata": {},
   "source": [
    "It looks like by far the most frequent events are users with only 1 or 2 rating entries. We can see that the 'super users' with thousands of ratings are significant outliers.\n",
    "\n",
    "This becomes clear if we make the same histogram with a cutoff for users with a minimum of 1000 ratings."
   ]
  },
  {
   "cell_type": "code",
   "execution_count": 28,
   "metadata": {},
   "outputs": [
    {
     "data": {
      "image/png": "[encoded data removed]",
      "text/plain": [
       "<Figure size 640x480 with 1 Axes>"
      ]
     },
     "metadata": {},
     "output_type": "display_data"
    }
   ],
   "source": [
    "# only users with more than 1000 ratings\n",
    "super_user_hist = super_users_.where(super_users_>1000)\n",
    "super_user_hist.hist(bins=30)\n",
    "plt.xlabel('No. of ratings (min. 1000)')\n",
    "plt.ylabel('count')\n",
    "plt.show()"
   ]
  },
  {
   "cell_type": "markdown",
   "metadata": {},
   "source": [
    "For the modeling step we'll only be looking at *explicit* ratings, and so the 0 rating entry rows will be removed."
   ]
  },
  {
   "cell_type": "code",
   "execution_count": 29,
   "metadata": {},
   "outputs": [
    {
     "name": "stdout",
     "output_type": "stream",
     "text": [
      "Size of book_ratings before removing zero ratings: 1149780\n",
      "Size of book_ratings after removing zero ratings: 433671\n"
     ]
    }
   ],
   "source": [
    "print(f'Size of book_ratings before removing zero ratings: {len(book_ratings)}')\n",
    "book_ratings = book_ratings[book_ratings.book_rating != 0]\n",
    "print(f'Size of book_ratings after removing zero ratings: {len(book_ratings)}')"
   ]
  },
  {
   "cell_type": "markdown",
   "metadata": {},
   "source": [
    "By removing the implicit ratings we have reduced our sample size by more than half."
   ]
  },
  {
   "cell_type": "markdown",
   "metadata": {},
   "source": [
    "##  Preprocess4: Unify the 'users', 'books', and 'book_ratings' tables"
   ]
  },
  {
   "cell_type": "markdown",
   "metadata": {},
   "source": [
    "First, we'll join the 'books' table to the 'book_ratings' table on the ISBN field."
   ]
  },
  {
   "cell_type": "code",
   "execution_count": 30,
   "metadata": {},
   "outputs": [
    {
     "name": "stdout",
     "output_type": "stream",
     "text": [
      "Books table size: 271358\n",
      "Ratings table size: 433671\n",
      "New table size: 433671\n"
     ]
    }
   ],
   "source": [
    "print(f'Books table size: {len(books)}')\n",
    "print(f'Ratings table size: {len(book_ratings)}')\n",
    "books_with_ratings = book_ratings.join(books.set_index('isbn'), on='isbn')\n",
    "print(f'New table size: {len(books_with_ratings)}')"
   ]
  },
  {
   "cell_type": "markdown",
   "metadata": {},
   "source": [
    "Let's take a look at the new table."
   ]
  },
  {
   "cell_type": "code",
   "execution_count": 31,
   "metadata": {},
   "outputs": [
    {
     "data": {
      "text/html": [
       "<div>\n",
       "<style scoped>\n",
       "    .dataframe tbody tr th:only-of-type {\n",
       "        vertical-align: middle;\n",
       "    }\n",
       "\n",
       "    .dataframe tbody tr th {\n",
       "        vertical-align: top;\n",
       "    }\n",
       "\n",
       "    .dataframe thead th {\n",
       "        text-align: right;\n",
       "    }\n",
       "</style>\n",
       "<table border=\"1\" class=\"dataframe\">\n",
       "  <thead>\n",
       "    <tr style=\"text-align: right;\">\n",
       "      <th></th>\n",
       "      <th>user_id</th>\n",
       "      <th>isbn</th>\n",
       "      <th>book_rating</th>\n",
       "      <th>book_title</th>\n",
       "      <th>book_author</th>\n",
       "      <th>year_of_publication</th>\n",
       "      <th>publisher</th>\n",
       "    </tr>\n",
       "  </thead>\n",
       "  <tbody>\n",
       "    <tr>\n",
       "      <th>1</th>\n",
       "      <td>276726</td>\n",
       "      <td>0155061224</td>\n",
       "      <td>5</td>\n",
       "      <td>Rites of Passage</td>\n",
       "      <td>Judith Rae</td>\n",
       "      <td>2001.0</td>\n",
       "      <td>Heinle</td>\n",
       "    </tr>\n",
       "    <tr>\n",
       "      <th>3</th>\n",
       "      <td>276729</td>\n",
       "      <td>052165615X</td>\n",
       "      <td>3</td>\n",
       "      <td>Help!: Level 1</td>\n",
       "      <td>Philip Prowse</td>\n",
       "      <td>1999.0</td>\n",
       "      <td>Cambridge University Press</td>\n",
       "    </tr>\n",
       "    <tr>\n",
       "      <th>4</th>\n",
       "      <td>276729</td>\n",
       "      <td>0521795028</td>\n",
       "      <td>6</td>\n",
       "      <td>The Amsterdam Connection : Level 4 (Cambridge ...</td>\n",
       "      <td>Sue Leather</td>\n",
       "      <td>2001.0</td>\n",
       "      <td>Cambridge University Press</td>\n",
       "    </tr>\n",
       "    <tr>\n",
       "      <th>6</th>\n",
       "      <td>276736</td>\n",
       "      <td>3257224281</td>\n",
       "      <td>8</td>\n",
       "      <td>NaN</td>\n",
       "      <td>NaN</td>\n",
       "      <td>NaN</td>\n",
       "      <td>NaN</td>\n",
       "    </tr>\n",
       "    <tr>\n",
       "      <th>7</th>\n",
       "      <td>276737</td>\n",
       "      <td>0600570967</td>\n",
       "      <td>6</td>\n",
       "      <td>NaN</td>\n",
       "      <td>NaN</td>\n",
       "      <td>NaN</td>\n",
       "      <td>NaN</td>\n",
       "    </tr>\n",
       "  </tbody>\n",
       "</table>\n",
       "</div>"
      ],
      "text/plain": [
       "   user_id        isbn  book_rating  \\\n",
       "1   276726  0155061224            5   \n",
       "3   276729  052165615X            3   \n",
       "4   276729  0521795028            6   \n",
       "6   276736  3257224281            8   \n",
       "7   276737  0600570967            6   \n",
       "\n",
       "                                          book_title    book_author  \\\n",
       "1                                   Rites of Passage     Judith Rae   \n",
       "3                                     Help!: Level 1  Philip Prowse   \n",
       "4  The Amsterdam Connection : Level 4 (Cambridge ...    Sue Leather   \n",
       "6                                                NaN            NaN   \n",
       "7                                                NaN            NaN   \n",
       "\n",
       "   year_of_publication                   publisher  \n",
       "1               2001.0                      Heinle  \n",
       "3               1999.0  Cambridge University Press  \n",
       "4               2001.0  Cambridge University Press  \n",
       "6                  NaN                         NaN  \n",
       "7                  NaN                         NaN  "
      ]
     },
     "execution_count": 31,
     "metadata": {},
     "output_type": "execute_result"
    }
   ],
   "source": [
    "books_with_ratings.head()"
   ]
  },
  {
   "cell_type": "code",
   "execution_count": 32,
   "metadata": {},
   "outputs": [
    {
     "name": "stdout",
     "output_type": "stream",
     "text": [
      "There are 49851 books with no title/author information.\n",
      "This represents 8.70% of the ratings dataset.\n"
     ]
    }
   ],
   "source": [
    "print(f'There are {books_with_ratings.book_title.isnull().sum()} books with no title/author information.')\n",
    "print(f'This represents {len(books_with_ratings)/books_with_ratings.book_title.isnull().sum():.2f}% of the ratings dataset.')"
   ]
  },
  {
   "cell_type": "markdown",
   "metadata": {},
   "source": [
    "There seems to be quite a few ISBNs in the ratings table that did not match an ISBN in the books table, almost 9% of all entries!\n",
    "\n",
    "There isn't really anything we can do about that, but we should really remove them from the dataset as we won't be able to access the title of the book to make a recommendation even if the model can use them.\n"
   ]
  },
  {
   "cell_type": "code",
   "execution_count": 33,
   "metadata": {},
   "outputs": [
    {
     "name": "stdout",
     "output_type": "stream",
     "text": [
      "<class 'pandas.core.frame.DataFrame'>\n",
      "Int64Index: 433671 entries, 1 to 1149779\n",
      "Data columns (total 7 columns):\n",
      " #   Column               Non-Null Count   Dtype  \n",
      "---  ------               --------------   -----  \n",
      " 0   user_id              433671 non-null  int64  \n",
      " 1   isbn                 433671 non-null  object \n",
      " 2   book_rating          433671 non-null  int64  \n",
      " 3   book_title           383820 non-null  object \n",
      " 4   book_author          383819 non-null  object \n",
      " 5   year_of_publication  378035 non-null  float64\n",
      " 6   publisher            383818 non-null  object \n",
      "dtypes: float64(1), int64(2), object(4)\n",
      "memory usage: 26.5+ MB\n"
     ]
    }
   ],
   "source": [
    "books_with_ratings.info()"
   ]
  },
  {
   "cell_type": "markdown",
   "metadata": {},
   "source": [
    "It looks like the ```year_of_publication``` field contains the most NaN entries, while ```user_id```, ```isbn```, and ```book_rating``` are full. The ```book_title```, ```book_author```, and ```publisher``` fields contain approximately the same number of missing entries.\n",
    "\n",
    "We'll choose to remove rows for which the ```book_title``` is empty, as this is the most crucial piece of data needed to identify the book."
   ]
  },
  {
   "cell_type": "code",
   "execution_count": 34,
   "metadata": {},
   "outputs": [],
   "source": [
    "books_with_ratings.dropna(subset=['book_title'], inplace=True) # remove rows with missing title/author data"
   ]
  },
  {
   "cell_type": "markdown",
   "metadata": {},
   "source": [
    "Now I'd like to tackle the challenge of the same book potentially having multiple ISBN numbers (for the different formats it is available in). We should clean that up here before we add the 'user' table.\n",
    "\n"
   ]
  },
  {
   "cell_type": "markdown",
   "metadata": {},
   "source": [
    "## Restrict books to a \"single ISBN per book\" (regardless of format)"
   ]
  },
  {
   "cell_type": "markdown",
   "metadata": {},
   "source": [
    "Let's look again at the book titles which have the most associated ISBN numbers."
   ]
  },
  {
   "cell_type": "code",
   "execution_count": 35,
   "metadata": {},
   "outputs": [
    {
     "data": {
      "text/plain": [
       "book_title\n",
       "The Secret Garden                 18\n",
       "Selected Poems                    16\n",
       "Dracula                           15\n",
       "Adventures of Huckleberry Finn    15\n",
       "Jane Eyre                         14\n",
       "Little Women                      14\n",
       "Wuthering Heights                 14\n",
       "Beloved                           14\n",
       "Pride and Prejudice               14\n",
       "The Hobbit                        12\n",
       "Name: isbn, dtype: int64"
      ]
     },
     "execution_count": 35,
     "metadata": {},
     "output_type": "execute_result"
    }
   ],
   "source": [
    "books_with_ratings.groupby('book_title').isbn.nunique().sort_values(ascending=False)[:10]"
   ]
  },
  {
   "cell_type": "code",
   "execution_count": 36,
   "metadata": {},
   "outputs": [
    {
     "data": {
      "text/plain": [
       "1     125328\n",
       "2       7872\n",
       "3       1497\n",
       "4        493\n",
       "5        181\n",
       "6         86\n",
       "7         44\n",
       "8         27\n",
       "9         11\n",
       "10         8\n",
       "14         5\n",
       "15         2\n",
       "11         2\n",
       "16         1\n",
       "12         1\n",
       "18         1\n",
       "Name: isbn, dtype: int64"
      ]
     },
     "execution_count": 36,
     "metadata": {},
     "output_type": "execute_result"
    }
   ],
   "source": [
    "multiple_isbns = books_with_ratings.groupby('book_title').isbn.nunique()\n",
    "multiple_isbns.value_counts()"
   ]
  },
  {
   "cell_type": "markdown",
   "metadata": {},
   "source": [
    "We can see that the vast majority of books have less only 1 associated ISBN number, however quite a few multiple ISBNs. We want to create a unique_isbn such that a single book will only have 1 identifier when fed to the recommendation model."
   ]
  },
  {
   "cell_type": "code",
   "execution_count": 37,
   "metadata": {},
   "outputs": [],
   "source": [
    "has_mult_isbns = multiple_isbns.where(multiple_isbns>1)\n",
    "has_mult_isbns.dropna(inplace=True) # remove NaNs, which in this case is books with a single ISBN number"
   ]
  },
  {
   "cell_type": "code",
   "execution_count": 38,
   "metadata": {},
   "outputs": [
    {
     "name": "stdout",
     "output_type": "stream",
     "text": [
      "There are 10231 book titles with multiple ISBN numbers which we will try to re-assign to a unique identifier\n"
     ]
    }
   ],
   "source": [
    "print(f'There are {len(has_mult_isbns)} book titles with multiple ISBN numbers which we will try to re-assign to a unique identifier')"
   ]
  },
  {
   "cell_type": "code",
   "execution_count": 39,
   "metadata": {},
   "outputs": [
    {
     "data": {
      "text/plain": [
       "14.0"
      ]
     },
     "execution_count": 39,
     "metadata": {},
     "output_type": "execute_result"
    }
   ],
   "source": [
    "# Check to see that our friend Jane Eyre still has multiple ISBN values\n",
    "has_mult_isbns['Jane Eyre']"
   ]
  },
  {
   "cell_type": "markdown",
   "metadata": {},
   "source": [
    "Note: Created the dictionary below and pickled it, just need to load it again (or run it if the first time on a new system).\n",
    "\n"
   ]
  },
  {
   "cell_type": "code",
   "execution_count": 40,
   "metadata": {},
   "outputs": [
    {
     "name": "stdout",
     "output_type": "stream",
     "text": [
      "CPU times: user 34.1 ms, sys: 88 µs, total: 34.2 ms\n",
      "Wall time: 33.8 ms\n"
     ]
    }
   ],
   "source": [
    "# Create dictionary for books with multiple isbns\n",
    "def make_isbn_dict(df):\n",
    "    title_isbn_dict = {}\n",
    "    for title in has_mult_isbns.index:\n",
    "        isbn_series = df.loc[df.book_title==title].isbn.unique() # returns only the unique ISBNs\n",
    "        title_isbn_dict[title] = isbn_series.tolist()    \n",
    "        return title_isbn_dict\n",
    "\n",
    "%time dict_unique_isbn = make_isbn_dict(books_with_ratings)"
   ]
  },
  {
   "cell_type": "code",
   "execution_count": 41,
   "metadata": {},
   "outputs": [],
   "source": [
    "# As the loop takes a while to run (8 min on the full dataset), pickle this dict for future use\n",
    "with open('multiple_isbn_dict.pickle', 'wb') as handle:\n",
    "    pickle.dump(dict_unique_isbn, handle, protocol=pickle.HIGHEST_PROTOCOL)"
   ]
  },
  {
   "cell_type": "code",
   "execution_count": 42,
   "metadata": {},
   "outputs": [],
   "source": [
    "# LOAD isbn_dict back into namespace\n",
    "with open('multiple_isbn_dict.pickle', 'rb') as handle:\n",
    "    multiple_isbn_dict = pickle.load(handle)"
   ]
  },
  {
   "cell_type": "code",
   "execution_count": 43,
   "metadata": {},
   "outputs": [
    {
     "name": "stdout",
     "output_type": "stream",
     "text": [
      "There are now 1 books in the ISBN dictionary that have multiple ISBN numbers\n"
     ]
    }
   ],
   "source": [
    "print(f'There are now {len(multiple_isbn_dict)} books in the ISBN dictionary that have multiple ISBN numbers')"
   ]
  },
  {
   "cell_type": "markdown",
   "metadata": {},
   "source": [
    "Note: ISBN numbers are currently 13 digits long, but used to be 10. Any ISBN that isn't 10 or 13 digits long is probably an error that should be handled somehow. Any that are 9 digits long might actually be SBN numbers (pre-1970), and can be converted into ISBN's by just pre-fixing with a zero."
   ]
  },
  {
   "cell_type": "code",
   "execution_count": 44,
   "metadata": {},
   "outputs": [
    {
     "name": "stdout",
     "output_type": "stream",
     "text": [
      "CPU times: user 5.57 s, sys: 40.9 ms, total: 5.61 s\n",
      "Wall time: 5.61 s\n"
     ]
    }
   ],
   "source": [
    "# Add 'unique_isbn' column to 'books_with_ratings' dataframe that includes the first ISBN if multiple ISBNS,\n",
    "# or just the ISBN if only 1 ISBN present anyway.\n",
    "def add_unique_isbn_col(df):\n",
    "    df['unique_isbn'] = df.apply(lambda row: multiple_isbn_dict[row.book_title][0] if row.book_title in multiple_isbn_dict.keys() else row.isbn, axis=1)\n",
    "    return df\n",
    "\n",
    "%time books_with_ratings = add_unique_isbn_col(books_with_ratings)"
   ]
  },
  {
   "cell_type": "code",
   "execution_count": 45,
   "metadata": {},
   "outputs": [
    {
     "data": {
      "text/html": [
       "<div>\n",
       "<style scoped>\n",
       "    .dataframe tbody tr th:only-of-type {\n",
       "        vertical-align: middle;\n",
       "    }\n",
       "\n",
       "    .dataframe tbody tr th {\n",
       "        vertical-align: top;\n",
       "    }\n",
       "\n",
       "    .dataframe thead th {\n",
       "        text-align: right;\n",
       "    }\n",
       "</style>\n",
       "<table border=\"1\" class=\"dataframe\">\n",
       "  <thead>\n",
       "    <tr style=\"text-align: right;\">\n",
       "      <th></th>\n",
       "      <th>user_id</th>\n",
       "      <th>isbn</th>\n",
       "      <th>book_rating</th>\n",
       "      <th>book_title</th>\n",
       "      <th>book_author</th>\n",
       "      <th>year_of_publication</th>\n",
       "      <th>publisher</th>\n",
       "      <th>unique_isbn</th>\n",
       "    </tr>\n",
       "  </thead>\n",
       "  <tbody>\n",
       "    <tr>\n",
       "      <th>1</th>\n",
       "      <td>276726</td>\n",
       "      <td>0155061224</td>\n",
       "      <td>5</td>\n",
       "      <td>Rites of Passage</td>\n",
       "      <td>Judith Rae</td>\n",
       "      <td>2001.0</td>\n",
       "      <td>Heinle</td>\n",
       "      <td>0155061224</td>\n",
       "    </tr>\n",
       "    <tr>\n",
       "      <th>3</th>\n",
       "      <td>276729</td>\n",
       "      <td>052165615X</td>\n",
       "      <td>3</td>\n",
       "      <td>Help!: Level 1</td>\n",
       "      <td>Philip Prowse</td>\n",
       "      <td>1999.0</td>\n",
       "      <td>Cambridge University Press</td>\n",
       "      <td>052165615X</td>\n",
       "    </tr>\n",
       "    <tr>\n",
       "      <th>4</th>\n",
       "      <td>276729</td>\n",
       "      <td>0521795028</td>\n",
       "      <td>6</td>\n",
       "      <td>The Amsterdam Connection : Level 4 (Cambridge ...</td>\n",
       "      <td>Sue Leather</td>\n",
       "      <td>2001.0</td>\n",
       "      <td>Cambridge University Press</td>\n",
       "      <td>0521795028</td>\n",
       "    </tr>\n",
       "    <tr>\n",
       "      <th>8</th>\n",
       "      <td>276744</td>\n",
       "      <td>038550120X</td>\n",
       "      <td>7</td>\n",
       "      <td>A Painted House</td>\n",
       "      <td>JOHN GRISHAM</td>\n",
       "      <td>2001.0</td>\n",
       "      <td>Doubleday</td>\n",
       "      <td>038550120X</td>\n",
       "    </tr>\n",
       "    <tr>\n",
       "      <th>16</th>\n",
       "      <td>276747</td>\n",
       "      <td>0060517794</td>\n",
       "      <td>9</td>\n",
       "      <td>Little Altars Everywhere</td>\n",
       "      <td>Rebecca Wells</td>\n",
       "      <td>2003.0</td>\n",
       "      <td>HarperTorch</td>\n",
       "      <td>0060517794</td>\n",
       "    </tr>\n",
       "  </tbody>\n",
       "</table>\n",
       "</div>"
      ],
      "text/plain": [
       "    user_id        isbn  book_rating  \\\n",
       "1    276726  0155061224            5   \n",
       "3    276729  052165615X            3   \n",
       "4    276729  0521795028            6   \n",
       "8    276744  038550120X            7   \n",
       "16   276747  0060517794            9   \n",
       "\n",
       "                                           book_title    book_author  \\\n",
       "1                                    Rites of Passage     Judith Rae   \n",
       "3                                      Help!: Level 1  Philip Prowse   \n",
       "4   The Amsterdam Connection : Level 4 (Cambridge ...    Sue Leather   \n",
       "8                                     A Painted House   JOHN GRISHAM   \n",
       "16                           Little Altars Everywhere  Rebecca Wells   \n",
       "\n",
       "    year_of_publication                   publisher unique_isbn  \n",
       "1                2001.0                      Heinle  0155061224  \n",
       "3                1999.0  Cambridge University Press  052165615X  \n",
       "4                2001.0  Cambridge University Press  0521795028  \n",
       "8                2001.0                   Doubleday  038550120X  \n",
       "16               2003.0                 HarperTorch  0060517794  "
      ]
     },
     "execution_count": 45,
     "metadata": {},
     "output_type": "execute_result"
    }
   ],
   "source": [
    "books_with_ratings.head()"
   ]
  },
  {
   "cell_type": "markdown",
   "metadata": {},
   "source": [
    "The table now includes our unique_isbn field."
   ]
  },
  {
   "cell_type": "markdown",
   "metadata": {},
   "source": [
    "## Join the 'users' table on the 'user_id' field"
   ]
  },
  {
   "cell_type": "code",
   "execution_count": 46,
   "metadata": {},
   "outputs": [
    {
     "name": "stdout",
     "output_type": "stream",
     "text": [
      "Books+Ratings table size: 383820\n",
      "Users table size: 278858\n",
      "New \"books_users_ratings\" table size: 383820\n"
     ]
    }
   ],
   "source": [
    "print(f'Books+Ratings table size: {len(books_with_ratings)}')\n",
    "print(f'Users table size: {len(users)}')\n",
    "books_users_ratings = books_with_ratings.join(users.set_index('user_id'), on='user_id')\n",
    "print(f'New \"books_users_ratings\" table size: {len(books_users_ratings)}')"
   ]
  },
  {
   "cell_type": "markdown",
   "metadata": {},
   "source": [
    "## Join the 'book_id'  column"
   ]
  },
  {
   "cell_type": "markdown",
   "metadata": {},
   "source": []
  },
  {
   "cell_type": "code",
   "execution_count": 47,
   "metadata": {},
   "outputs": [],
   "source": [
    "books_map = {}\n",
    "\n",
    "for i,item in enumerate(books.isbn):\n",
    "    books_map[item] = i"
   ]
  },
  {
   "cell_type": "code",
   "execution_count": 48,
   "metadata": {},
   "outputs": [],
   "source": [
    "from pandas.core.frame import DataFrame\n",
    "\n",
    "\n",
    "book_id = DataFrame(books_map.items(),columns=[\"isbn\",\"book_id\"])"
   ]
  },
  {
   "cell_type": "code",
   "execution_count": 49,
   "metadata": {},
   "outputs": [],
   "source": [
    "books_users_ratings = books_users_ratings.join(book_id.set_index('isbn'),how=\"inner\",on='isbn')"
   ]
  },
  {
   "cell_type": "code",
   "execution_count": 50,
   "metadata": {},
   "outputs": [
    {
     "data": {
      "text/html": [
       "<div>\n",
       "<style scoped>\n",
       "    .dataframe tbody tr th:only-of-type {\n",
       "        vertical-align: middle;\n",
       "    }\n",
       "\n",
       "    .dataframe tbody tr th {\n",
       "        vertical-align: top;\n",
       "    }\n",
       "\n",
       "    .dataframe thead th {\n",
       "        text-align: right;\n",
       "    }\n",
       "</style>\n",
       "<table border=\"1\" class=\"dataframe\">\n",
       "  <thead>\n",
       "    <tr style=\"text-align: right;\">\n",
       "      <th></th>\n",
       "      <th>user_id</th>\n",
       "      <th>isbn</th>\n",
       "      <th>book_rating</th>\n",
       "      <th>book_title</th>\n",
       "      <th>book_author</th>\n",
       "      <th>year_of_publication</th>\n",
       "      <th>publisher</th>\n",
       "      <th>unique_isbn</th>\n",
       "      <th>age</th>\n",
       "      <th>city</th>\n",
       "      <th>state</th>\n",
       "      <th>country</th>\n",
       "      <th>book_id</th>\n",
       "    </tr>\n",
       "  </thead>\n",
       "  <tbody>\n",
       "    <tr>\n",
       "      <th>432969</th>\n",
       "      <td>103102</td>\n",
       "      <td>0312271166</td>\n",
       "      <td>7</td>\n",
       "      <td>Our Lady of the Circus</td>\n",
       "      <td>David Toscana</td>\n",
       "      <td>2001.0</td>\n",
       "      <td>Thomas Dunne Books</td>\n",
       "      <td>0312271166</td>\n",
       "      <td>28.0</td>\n",
       "      <td>asheville</td>\n",
       "      <td>north carolina</td>\n",
       "      <td>usa</td>\n",
       "      <td>132335</td>\n",
       "    </tr>\n",
       "    <tr>\n",
       "      <th>432973</th>\n",
       "      <td>103102</td>\n",
       "      <td>0553053566</td>\n",
       "      <td>7</td>\n",
       "      <td>Bad Girls, Good Women</td>\n",
       "      <td>Rosie Thomas</td>\n",
       "      <td>1989.0</td>\n",
       "      <td>Bantam Dell Pub Group</td>\n",
       "      <td>0553053566</td>\n",
       "      <td>28.0</td>\n",
       "      <td>asheville</td>\n",
       "      <td>north carolina</td>\n",
       "      <td>usa</td>\n",
       "      <td>76424</td>\n",
       "    </tr>\n",
       "    <tr>\n",
       "      <th>723254</th>\n",
       "      <td>174830</td>\n",
       "      <td>0553053566</td>\n",
       "      <td>3</td>\n",
       "      <td>Bad Girls, Good Women</td>\n",
       "      <td>Rosie Thomas</td>\n",
       "      <td>1989.0</td>\n",
       "      <td>Bantam Dell Pub Group</td>\n",
       "      <td>0553053566</td>\n",
       "      <td>NaN</td>\n",
       "      <td>college station</td>\n",
       "      <td>texas</td>\n",
       "      <td>usa</td>\n",
       "      <td>76424</td>\n",
       "    </tr>\n",
       "    <tr>\n",
       "      <th>432975</th>\n",
       "      <td>103107</td>\n",
       "      <td>3423242442</td>\n",
       "      <td>6</td>\n",
       "      <td>Windgesang.</td>\n",
       "      <td>Margaret Skjelbred</td>\n",
       "      <td>2001.0</td>\n",
       "      <td>Dtv</td>\n",
       "      <td>3423242442</td>\n",
       "      <td>31.0</td>\n",
       "      <td>heidelberg</td>\n",
       "      <td>baden-wuerttemberg</td>\n",
       "      <td>germany</td>\n",
       "      <td>233870</td>\n",
       "    </tr>\n",
       "    <tr>\n",
       "      <th>432976</th>\n",
       "      <td>103107</td>\n",
       "      <td>3426621649</td>\n",
       "      <td>5</td>\n",
       "      <td>Der Wanderchirurg.</td>\n",
       "      <td>Wolf Serno</td>\n",
       "      <td>2002.0</td>\n",
       "      <td>Droemersche Verlagsanstalt Th. Knaur Nachf., G...</td>\n",
       "      <td>3426621649</td>\n",
       "      <td>31.0</td>\n",
       "      <td>heidelberg</td>\n",
       "      <td>baden-wuerttemberg</td>\n",
       "      <td>germany</td>\n",
       "      <td>150141</td>\n",
       "    </tr>\n",
       "    <tr>\n",
       "      <th>432977</th>\n",
       "      <td>103107</td>\n",
       "      <td>3442451426</td>\n",
       "      <td>5</td>\n",
       "      <td>Die Tauschung</td>\n",
       "      <td>Charlotte Link</td>\n",
       "      <td>2002.0</td>\n",
       "      <td>Distribooks</td>\n",
       "      <td>3442451426</td>\n",
       "      <td>31.0</td>\n",
       "      <td>heidelberg</td>\n",
       "      <td>baden-wuerttemberg</td>\n",
       "      <td>germany</td>\n",
       "      <td>44652</td>\n",
       "    </tr>\n",
       "    <tr>\n",
       "      <th>517181</th>\n",
       "      <td>125276</td>\n",
       "      <td>3442451426</td>\n",
       "      <td>8</td>\n",
       "      <td>Die Tauschung</td>\n",
       "      <td>Charlotte Link</td>\n",
       "      <td>2002.0</td>\n",
       "      <td>Distribooks</td>\n",
       "      <td>3442451426</td>\n",
       "      <td>NaN</td>\n",
       "      <td>limbach-oberfrohna</td>\n",
       "      <td>sachsen</td>\n",
       "      <td>germany</td>\n",
       "      <td>44652</td>\n",
       "    </tr>\n",
       "    <tr>\n",
       "      <th>518224</th>\n",
       "      <td>125596</td>\n",
       "      <td>3442451426</td>\n",
       "      <td>7</td>\n",
       "      <td>Die Tauschung</td>\n",
       "      <td>Charlotte Link</td>\n",
       "      <td>2002.0</td>\n",
       "      <td>Distribooks</td>\n",
       "      <td>3442451426</td>\n",
       "      <td>63.0</td>\n",
       "      <td>berlin</td>\n",
       "      <td>berlin</td>\n",
       "      <td>germany</td>\n",
       "      <td>44652</td>\n",
       "    </tr>\n",
       "    <tr>\n",
       "      <th>541399</th>\n",
       "      <td>130271</td>\n",
       "      <td>3442451426</td>\n",
       "      <td>6</td>\n",
       "      <td>Die Tauschung</td>\n",
       "      <td>Charlotte Link</td>\n",
       "      <td>2002.0</td>\n",
       "      <td>Distribooks</td>\n",
       "      <td>3442451426</td>\n",
       "      <td>39.0</td>\n",
       "      <td>heidelberg</td>\n",
       "      <td>baden-wuerttemberg</td>\n",
       "      <td>germany</td>\n",
       "      <td>44652</td>\n",
       "    </tr>\n",
       "    <tr>\n",
       "      <th>644246</th>\n",
       "      <td>155691</td>\n",
       "      <td>3442451426</td>\n",
       "      <td>5</td>\n",
       "      <td>Die Tauschung</td>\n",
       "      <td>Charlotte Link</td>\n",
       "      <td>2002.0</td>\n",
       "      <td>Distribooks</td>\n",
       "      <td>3442451426</td>\n",
       "      <td>55.0</td>\n",
       "      <td>münchen</td>\n",
       "      <td>bayern</td>\n",
       "      <td>germany</td>\n",
       "      <td>44652</td>\n",
       "    </tr>\n",
       "  </tbody>\n",
       "</table>\n",
       "</div>"
      ],
      "text/plain": [
       "        user_id        isbn  book_rating              book_title  \\\n",
       "432969   103102  0312271166            7  Our Lady of the Circus   \n",
       "432973   103102  0553053566            7   Bad Girls, Good Women   \n",
       "723254   174830  0553053566            3   Bad Girls, Good Women   \n",
       "432975   103107  3423242442            6             Windgesang.   \n",
       "432976   103107  3426621649            5      Der Wanderchirurg.   \n",
       "432977   103107  3442451426            5           Die Tauschung   \n",
       "517181   125276  3442451426            8           Die Tauschung   \n",
       "518224   125596  3442451426            7           Die Tauschung   \n",
       "541399   130271  3442451426            6           Die Tauschung   \n",
       "644246   155691  3442451426            5           Die Tauschung   \n",
       "\n",
       "               book_author  year_of_publication  \\\n",
       "432969       David Toscana               2001.0   \n",
       "432973        Rosie Thomas               1989.0   \n",
       "723254        Rosie Thomas               1989.0   \n",
       "432975  Margaret Skjelbred               2001.0   \n",
       "432976          Wolf Serno               2002.0   \n",
       "432977      Charlotte Link               2002.0   \n",
       "517181      Charlotte Link               2002.0   \n",
       "518224      Charlotte Link               2002.0   \n",
       "541399      Charlotte Link               2002.0   \n",
       "644246      Charlotte Link               2002.0   \n",
       "\n",
       "                                                publisher unique_isbn   age  \\\n",
       "432969                                 Thomas Dunne Books  0312271166  28.0   \n",
       "432973                              Bantam Dell Pub Group  0553053566  28.0   \n",
       "723254                              Bantam Dell Pub Group  0553053566   NaN   \n",
       "432975                                                Dtv  3423242442  31.0   \n",
       "432976  Droemersche Verlagsanstalt Th. Knaur Nachf., G...  3426621649  31.0   \n",
       "432977                                        Distribooks  3442451426  31.0   \n",
       "517181                                        Distribooks  3442451426   NaN   \n",
       "518224                                        Distribooks  3442451426  63.0   \n",
       "541399                                        Distribooks  3442451426  39.0   \n",
       "644246                                        Distribooks  3442451426  55.0   \n",
       "\n",
       "                      city                state   country  book_id  \n",
       "432969           asheville       north carolina       usa   132335  \n",
       "432973           asheville       north carolina       usa    76424  \n",
       "723254     college station                texas       usa    76424  \n",
       "432975          heidelberg   baden-wuerttemberg   germany   233870  \n",
       "432976          heidelberg   baden-wuerttemberg   germany   150141  \n",
       "432977          heidelberg   baden-wuerttemberg   germany    44652  \n",
       "517181  limbach-oberfrohna              sachsen   germany    44652  \n",
       "518224              berlin               berlin   germany    44652  \n",
       "541399          heidelberg   baden-wuerttemberg   germany    44652  \n",
       "644246             münchen               bayern   germany    44652  "
      ]
     },
     "execution_count": 50,
     "metadata": {},
     "output_type": "execute_result"
    }
   ],
   "source": [
    "books_users_ratings[300000:300010]"
   ]
  },
  {
   "cell_type": "code",
   "execution_count": 51,
   "metadata": {},
   "outputs": [
    {
     "name": "stdout",
     "output_type": "stream",
     "text": [
      "<class 'pandas.core.frame.DataFrame'>\n",
      "Int64Index: 383820 entries, 1 to 1149773\n",
      "Data columns (total 13 columns):\n",
      " #   Column               Non-Null Count   Dtype  \n",
      "---  ------               --------------   -----  \n",
      " 0   user_id              383820 non-null  int64  \n",
      " 1   isbn                 383820 non-null  object \n",
      " 2   book_rating          383820 non-null  int64  \n",
      " 3   book_title           383820 non-null  object \n",
      " 4   book_author          383819 non-null  object \n",
      " 5   year_of_publication  378035 non-null  float64\n",
      " 6   publisher            383818 non-null  object \n",
      " 7   unique_isbn          383820 non-null  object \n",
      " 8   age                  268005 non-null  float64\n",
      " 9   city                 383820 non-null  object \n",
      " 10  state                383820 non-null  object \n",
      " 11  country              373340 non-null  object \n",
      " 12  book_id              383820 non-null  int64  \n",
      "dtypes: float64(2), int64(3), object(8)\n",
      "memory usage: 41.0+ MB\n"
     ]
    }
   ],
   "source": [
    "books_users_ratings.info()"
   ]
  },
  {
   "cell_type": "code",
   "execution_count": 52,
   "metadata": {},
   "outputs": [
    {
     "data": {
      "text/plain": [
       "(383820, 13)"
      ]
     },
     "execution_count": 52,
     "metadata": {},
     "output_type": "execute_result"
    }
   ],
   "source": [
    "books_users_ratings.shape"
   ]
  },
  {
   "cell_type": "markdown",
   "metadata": {},
   "source": [
    "## Preprocess 5: change to 0.5-5 scale\n"
   ]
  },
  {
   "cell_type": "code",
   "execution_count": 53,
   "metadata": {},
   "outputs": [],
   "source": [
    "books_users_ratings['book_rating']=books_users_ratings['book_rating']/2"
   ]
  },
  {
   "cell_type": "code",
   "execution_count": 54,
   "metadata": {},
   "outputs": [
    {
     "data": {
      "text/html": [
       "<div>\n",
       "<style scoped>\n",
       "    .dataframe tbody tr th:only-of-type {\n",
       "        vertical-align: middle;\n",
       "    }\n",
       "\n",
       "    .dataframe tbody tr th {\n",
       "        vertical-align: top;\n",
       "    }\n",
       "\n",
       "    .dataframe thead th {\n",
       "        text-align: right;\n",
       "    }\n",
       "</style>\n",
       "<table border=\"1\" class=\"dataframe\">\n",
       "  <thead>\n",
       "    <tr style=\"text-align: right;\">\n",
       "      <th></th>\n",
       "      <th>user_id</th>\n",
       "      <th>isbn</th>\n",
       "      <th>book_rating</th>\n",
       "      <th>book_title</th>\n",
       "      <th>book_author</th>\n",
       "      <th>year_of_publication</th>\n",
       "      <th>publisher</th>\n",
       "      <th>unique_isbn</th>\n",
       "      <th>age</th>\n",
       "      <th>city</th>\n",
       "      <th>state</th>\n",
       "      <th>country</th>\n",
       "      <th>book_id</th>\n",
       "    </tr>\n",
       "  </thead>\n",
       "  <tbody>\n",
       "    <tr>\n",
       "      <th>1</th>\n",
       "      <td>276726</td>\n",
       "      <td>0155061224</td>\n",
       "      <td>2.5</td>\n",
       "      <td>Rites of Passage</td>\n",
       "      <td>Judith Rae</td>\n",
       "      <td>2001.0</td>\n",
       "      <td>Heinle</td>\n",
       "      <td>0155061224</td>\n",
       "      <td>NaN</td>\n",
       "      <td>seattle</td>\n",
       "      <td>washington</td>\n",
       "      <td>usa</td>\n",
       "      <td>225817</td>\n",
       "    </tr>\n",
       "    <tr>\n",
       "      <th>3</th>\n",
       "      <td>276729</td>\n",
       "      <td>052165615X</td>\n",
       "      <td>1.5</td>\n",
       "      <td>Help!: Level 1</td>\n",
       "      <td>Philip Prowse</td>\n",
       "      <td>1999.0</td>\n",
       "      <td>Cambridge University Press</td>\n",
       "      <td>052165615X</td>\n",
       "      <td>16.0</td>\n",
       "      <td>rijeka</td>\n",
       "      <td>n/a</td>\n",
       "      <td>croatia</td>\n",
       "      <td>246837</td>\n",
       "    </tr>\n",
       "    <tr>\n",
       "      <th>4</th>\n",
       "      <td>276729</td>\n",
       "      <td>0521795028</td>\n",
       "      <td>3.0</td>\n",
       "      <td>The Amsterdam Connection : Level 4 (Cambridge ...</td>\n",
       "      <td>Sue Leather</td>\n",
       "      <td>2001.0</td>\n",
       "      <td>Cambridge University Press</td>\n",
       "      <td>0521795028</td>\n",
       "      <td>16.0</td>\n",
       "      <td>rijeka</td>\n",
       "      <td>n/a</td>\n",
       "      <td>croatia</td>\n",
       "      <td>246838</td>\n",
       "    </tr>\n",
       "    <tr>\n",
       "      <th>8</th>\n",
       "      <td>276744</td>\n",
       "      <td>038550120X</td>\n",
       "      <td>3.5</td>\n",
       "      <td>A Painted House</td>\n",
       "      <td>JOHN GRISHAM</td>\n",
       "      <td>2001.0</td>\n",
       "      <td>Doubleday</td>\n",
       "      <td>038550120X</td>\n",
       "      <td>NaN</td>\n",
       "      <td>torrance</td>\n",
       "      <td>california</td>\n",
       "      <td>usa</td>\n",
       "      <td>9295</td>\n",
       "    </tr>\n",
       "    <tr>\n",
       "      <th>48815</th>\n",
       "      <td>11676</td>\n",
       "      <td>038550120X</td>\n",
       "      <td>5.0</td>\n",
       "      <td>A Painted House</td>\n",
       "      <td>JOHN GRISHAM</td>\n",
       "      <td>2001.0</td>\n",
       "      <td>Doubleday</td>\n",
       "      <td>038550120X</td>\n",
       "      <td>NaN</td>\n",
       "      <td>n/a</td>\n",
       "      <td>n/a</td>\n",
       "      <td>n/a</td>\n",
       "      <td>9295</td>\n",
       "    </tr>\n",
       "  </tbody>\n",
       "</table>\n",
       "</div>"
      ],
      "text/plain": [
       "       user_id        isbn  book_rating  \\\n",
       "1       276726  0155061224          2.5   \n",
       "3       276729  052165615X          1.5   \n",
       "4       276729  0521795028          3.0   \n",
       "8       276744  038550120X          3.5   \n",
       "48815    11676  038550120X          5.0   \n",
       "\n",
       "                                              book_title    book_author  \\\n",
       "1                                       Rites of Passage     Judith Rae   \n",
       "3                                         Help!: Level 1  Philip Prowse   \n",
       "4      The Amsterdam Connection : Level 4 (Cambridge ...    Sue Leather   \n",
       "8                                        A Painted House   JOHN GRISHAM   \n",
       "48815                                    A Painted House   JOHN GRISHAM   \n",
       "\n",
       "       year_of_publication                   publisher unique_isbn   age  \\\n",
       "1                   2001.0                      Heinle  0155061224   NaN   \n",
       "3                   1999.0  Cambridge University Press  052165615X  16.0   \n",
       "4                   2001.0  Cambridge University Press  0521795028  16.0   \n",
       "8                   2001.0                   Doubleday  038550120X   NaN   \n",
       "48815               2001.0                   Doubleday  038550120X   NaN   \n",
       "\n",
       "           city        state   country  book_id  \n",
       "1       seattle   washington       usa   225817  \n",
       "3        rijeka          n/a   croatia   246837  \n",
       "4        rijeka          n/a   croatia   246838  \n",
       "8      torrance   california       usa     9295  \n",
       "48815       n/a          n/a       n/a     9295  "
      ]
     },
     "execution_count": 54,
     "metadata": {},
     "output_type": "execute_result"
    }
   ],
   "source": [
    "books_users_ratings.head()"
   ]
  },
  {
   "cell_type": "code",
   "execution_count": null,
   "metadata": {},
   "outputs": [],
   "source": []
  },
  {
   "cell_type": "markdown",
   "metadata": {},
   "source": [
    "## Preprocess 6: filter"
   ]
  },
  {
   "cell_type": "markdown",
   "metadata": {},
   "source": [
    "To reduce the dimensionality of the dataset and avoid running into memory error it will focus on users with at least 5 ratings.\n",
    "\n",
    "reference:Naghiaei, M., Rahmani, H.A. and Dehghan, M., 2022. The Unfairness of Popularity Bias in Book Recommendation"
   ]
  },
  {
   "cell_type": "code",
   "execution_count": 55,
   "metadata": {},
   "outputs": [
    {
     "name": "stdout",
     "output_type": "stream",
     "text": [
      "Filter: users with at least 5 ratings\u0007nd books with at least 5 ratings\n",
      "Number of records: 145888\n"
     ]
    }
   ],
   "source": [
    "user_ratings_threshold = 5\n",
    "book_ratings_threshold = 5\n",
    "filter_users = books_users_ratings['user_id'].value_counts()\n",
    "filter_users_list = filter_users[filter_users >= user_ratings_threshold].index.to_list()\n",
    "\n",
    "filter_books = books_users_ratings['isbn'].value_counts()\n",
    "filter_books_list = filter_books[filter_books >= book_ratings_threshold].index.to_list()\n",
    "\n",
    "filter_books_users_ratings = books_users_ratings[(books_users_ratings['user_id'].isin(filter_users_list))&(books_users_ratings['isbn'].isin(filter_books_list))]\n",
    "\n",
    "print('Filter: users with at least %d ratings\\and books with at least %d ratings\\nNumber of records: %d' % (user_ratings_threshold,book_ratings_threshold, len(filter_books_users_ratings)))\n"
   ]
  },
  {
   "cell_type": "code",
   "execution_count": 56,
   "metadata": {},
   "outputs": [
    {
     "name": "stdout",
     "output_type": "stream",
     "text": [
      "3.8873142410616364\n"
     ]
    }
   ],
   "source": [
    "mean1_df = filter_books_users_ratings['book_rating'].mean()\n",
    "print(mean1_df)"
   ]
  },
  {
   "cell_type": "code",
   "execution_count": 57,
   "metadata": {},
   "outputs": [],
   "source": [
    "# mean2_df = filter_books_users_ratings['rating'].mean()\n",
    "# print(mean2_df)"
   ]
  },
  {
   "cell_type": "markdown",
   "metadata": {},
   "source": [
    "## Preparation"
   ]
  },
  {
   "cell_type": "markdown",
   "metadata": {},
   "source": [
    "## Preparation"
   ]
  },
  {
   "cell_type": "markdown",
   "metadata": {},
   "source": [
    "## Preparation"
   ]
  },
  {
   "cell_type": "code",
   "execution_count": null,
   "metadata": {},
   "outputs": [],
   "source": []
  },
  {
   "cell_type": "code",
   "execution_count": 58,
   "metadata": {},
   "outputs": [],
   "source": [
    "filter_users=filter_books_users_ratings[['user_id', 'age', 'country']]\n",
    "filter_books=filter_books_users_ratings[['isbn', 'book_title', 'book_author', 'year_of_publication', 'book_id']]\n",
    "filter_book_ratings=filter_books_users_ratings[['user_id', 'book_id', 'book_rating']]"
   ]
  },
  {
   "cell_type": "code",
   "execution_count": 59,
   "metadata": {},
   "outputs": [],
   "source": [
    "filter_users=filter_users.drop_duplicates()\n",
    "filter_books=filter_books.drop_duplicates()\n",
    "filter_book_ratings=filter_book_ratings.drop_duplicates()"
   ]
  },
  {
   "cell_type": "code",
   "execution_count": 60,
   "metadata": {},
   "outputs": [
    {
     "name": "stdout",
     "output_type": "stream",
     "text": [
      "orginal ratings:\n",
      "Number of ratings: 433671\n",
      "Number of books: 13768\n",
      "Number of users: 12293\n",
      "\n",
      "Number of orginal books: 271358\n",
      "\n",
      "Number of orginal users: 278858\n"
     ]
    }
   ],
   "source": [
    "print('orginal ratings:\\nNumber of ratings: %d\\nNumber of books: %d\\nNumber of users: %d' % (len(book_ratings),\n",
    "                                                                                     len(filter_book_ratings['book_id'].unique()),\n",
    "                                                                                     len(filter_book_ratings['user_id'].unique())))\n",
    "print('\\nNumber of orginal books: %d' % len(books))\n",
    "print('\\nNumber of orginal users: %d' % len(users))"
   ]
  },
  {
   "cell_type": "code",
   "execution_count": 61,
   "metadata": {},
   "outputs": [
    {
     "name": "stdout",
     "output_type": "stream",
     "text": [
      "filtered ratings:\n",
      "Number of ratings: 145888\n",
      "Number of books: 13768\n",
      "Number of users: 12293\n",
      "\n",
      "Number of filtered books: 13768\n",
      "\n",
      "Number of filtered users: 12293\n"
     ]
    }
   ],
   "source": [
    "print('filtered ratings:\\nNumber of ratings: %d\\nNumber of books: %d\\nNumber of users: %d' % (len(filter_book_ratings),\n",
    "                                                                                     len(filter_book_ratings['book_id'].unique()),\n",
    "                                                                                     len(filter_book_ratings['user_id'].unique())))\n",
    "print('\\nNumber of filtered books: %d' % len(filter_books))\n",
    "print('\\nNumber of filtered users: %d' % len(filter_users))"
   ]
  },
  {
   "cell_type": "markdown",
   "metadata": {},
   "source": [
    "## Skip to the end."
   ]
  },
  {
   "cell_type": "markdown",
   "metadata": {},
   "source": [
    "## Investigate the 'filter_users' dataframe"
   ]
  },
  {
   "cell_type": "code",
   "execution_count": 62,
   "metadata": {},
   "outputs": [
    {
     "name": "stdout",
     "output_type": "stream",
     "text": [
      "No. of unique user_id entries: 12293 | Total user_id entries: 12293\n"
     ]
    }
   ],
   "source": [
    "\n",
    "filter_uniq_users =filter_users.user_id.nunique()\n",
    "filter_all_users = filter_users.user_id.count()\n",
    "print(f'No. of unique user_id entries: {filter_uniq_users} | Total user_id entries: {filter_all_users}')"
   ]
  },
  {
   "cell_type": "markdown",
   "metadata": {},
   "source": [
    "The 'User-ID' field is integers, 'Location' are strings', and the 'Age' values are floats.\n",
    "\n",
    "We can probably change the ages to ints. Let's take a look at the values first."
   ]
  },
  {
   "cell_type": "markdown",
   "metadata": {},
   "source": [
    "Now let's have a look at the entire age range again."
   ]
  },
  {
   "cell_type": "code",
   "execution_count": 63,
   "metadata": {},
   "outputs": [
    {
     "name": "stdout",
     "output_type": "stream",
     "text": [
      "[nan, 5.0, 7.0, 8.0, 9.0, 10.0, 11.0, 12.0, 13.0, 14.0, 15.0, 16.0, 17.0, 18.0, 19.0, 20.0, 21.0, 22.0, 23.0, 24.0, 25.0, 26.0, 27.0, 28.0, 29.0, 30.0, 31.0, 32.0, 33.0, 34.0, 35.0, 36.0, 37.0, 38.0, 39.0, 40.0, 41.0, 42.0, 43.0, 44.0, 45.0, 46.0, 47.0, 48.0, 49.0, 50.0, 51.0, 52.0, 53.0, 54.0, 55.0, 56.0, 57.0, 58.0, 59.0, 60.0, 61.0, 62.0, 63.0, 64.0, 65.0, 66.0, 67.0, 68.0, 69.0, 70.0, 71.0, 72.0, 73.0, 74.0, 75.0, 76.0, 77.0, 78.0, 79.0, 80.0, 81.0, 82.0, 83.0, 84.0, 85.0, 90.0, 93.0, 97.0, 100.0]\n"
     ]
    }
   ],
   "source": [
    "print(sorted(filter_users.age.unique()))"
   ]
  },
  {
   "cell_type": "markdown",
   "metadata": {},
   "source": [
    "Much better - now the ages go from 5 to 100, with missing values entered as NaN. Let's plot this to see how they are distributed."
   ]
  },
  {
   "cell_type": "code",
   "execution_count": 64,
   "metadata": {},
   "outputs": [
    {
     "data": {
      "image/png": "[encoded data removed]",
      "text/plain": [
       "<Figure size 1200x500 with 1 Axes>"
      ]
     },
     "metadata": {},
     "output_type": "display_data"
    }
   ],
   "source": [
    "# First create a histogram of the Age field\n",
    "filter_ax = filter_users.age.hist(bins=10, figsize=(12,5))\n",
    "filter_ax.set_xlabel('Age')\n",
    "filter_ax.set_ylabel('counts')\n",
    "filter_ax.set_xticks(range(0,110,10))\n",
    "plt.show()"
   ]
  },
  {
   "cell_type": "markdown",
   "metadata": {},
   "source": [
    "Below is the same plot without any binning - i.e. each age is represented individually."
   ]
  },
  {
   "cell_type": "code",
   "execution_count": 65,
   "metadata": {},
   "outputs": [
    {
     "data": {
      "image/png": "[encoded data removed]",
      "text/plain": [
       "<Figure size 2000x1000 with 1 Axes>"
      ]
     },
     "metadata": {},
     "output_type": "display_data"
    }
   ],
   "source": [
    "filter_u = filter_users.age.value_counts().sort_index()\n",
    "plt.figure(figsize=(20, 10))\n",
    "plt.rcParams.update({'font.size': 15}) # Set larger plot font size\n",
    "plt.bar(filter_u.index, filter_u.values)\n",
    "plt.xlabel('Age')\n",
    "plt.ylabel('counts')\n",
    "plt.show()"
   ]
  },
  {
   "cell_type": "markdown",
   "metadata": {},
   "source": [
    "That is more clear to me! It seems that most of our reviewers are in their late 20s to early 30s.\n",
    "\n",
    "How many missing Age's do we now have in the dataset?"
   ]
  },
  {
   "cell_type": "code",
   "execution_count": 66,
   "metadata": {},
   "outputs": [
    {
     "name": "stdout",
     "output_type": "stream",
     "text": [
      "There are 3703 empty age values in our set of 12293 users (or 30.12%).\n"
     ]
    }
   ],
   "source": [
    "filter_age_null = filter_users.age.isnull().sum() # Sums up the 1's returned by the isnull() mask\n",
    "filter_all_users = filter_users.user_id.count() # Counts the number of cells in the series - excludes NaNs!\n",
    "print(f'There are {filter_age_null} empty age values in our set of {filter_all_users} users (or {(filter_age_null/filter_all_users)*100:.2f}%).')"
   ]
  },
  {
   "cell_type": "markdown",
   "metadata": {},
   "source": [
    "Let's take a quick look at these Location-derived fields."
   ]
  },
  {
   "cell_type": "code",
   "execution_count": 67,
   "metadata": {},
   "outputs": [
    {
     "name": "stdout",
     "output_type": "stream",
     "text": [
      "The 10 countries with the most users are:\n",
      "Index([' usa', ' canada', ' germany', ' united kingdom', ' australia',\n",
      "       ' spain', ' france', ' portugal', ' netherlands', ' switzerland'],\n",
      "      dtype='object')\n",
      "The 10 countries with the most users are:\n",
      " usa               8532\n",
      " canada            1160\n",
      " germany            432\n",
      " united kingdom     376\n",
      " australia          216\n",
      " spain              208\n",
      " france             153\n",
      " portugal            93\n",
      " netherlands         67\n",
      " switzerland         65\n",
      "Name: country, dtype: int64\n"
     ]
    }
   ],
   "source": [
    "filter_top_countries = filter_users.country.value_counts()[:10]\n",
    "print(f'The 10 countries with the most users are:\\n{filter_top_countries.keys()}')\n",
    "print(f'The 10 countries with the most users are:\\n{filter_top_countries}')"
   ]
  },
  {
   "cell_type": "code",
   "execution_count": null,
   "metadata": {},
   "outputs": [],
   "source": []
  },
  {
   "cell_type": "markdown",
   "metadata": {},
   "source": [
    "## Investigate the 'filter_books' dataframe"
   ]
  },
  {
   "cell_type": "code",
   "execution_count": 68,
   "metadata": {},
   "outputs": [
    {
     "data": {
      "image/png": "[encoded data removed]",
      "text/plain": [
       "<Figure size 2000x1000 with 1 Axes>"
      ]
     },
     "metadata": {},
     "output_type": "display_data"
    }
   ],
   "source": [
    "filter_yr = filter_books.year_of_publication.value_counts().sort_index()\n",
    "filter_yr = filter_yr.where(filter_yr>5) # filter out counts less than 5\n",
    "plt.figure(figsize=(20, 10))\n",
    "plt.rcParams.update({'font.size': 15}) # Set larger plot font size\n",
    "plt.bar(filter_yr.index, filter_yr.values)\n",
    "plt.xlabel('Year of Publication')\n",
    "plt.ylabel('counts')\n",
    "plt.show()"
   ]
  },
  {
   "cell_type": "markdown",
   "metadata": {},
   "source": [
    "Note that in the plot above we filtered out counts less than 5, as there are a few books in the dataset with publication years in the 1300s, and a few in the future (?!). The plot above show the general trend that more recent books are much more frequent.\n"
   ]
  },
  {
   "cell_type": "markdown",
   "metadata": {},
   "source": [
    "Check that there are no duplicated book entries."
   ]
  },
  {
   "cell_type": "code",
   "execution_count": 69,
   "metadata": {},
   "outputs": [
    {
     "name": "stdout",
     "output_type": "stream",
     "text": [
      "No. of unique books: 13768 | All book entries: 13768\n"
     ]
    }
   ],
   "source": [
    "filter_uniq_books = filter_books.book_id.nunique()\n",
    "filter_all_books = filter_books.isbn.count()\n",
    "print(f'No. of unique books: {filter_uniq_books} | All book entries: {filter_all_books}')"
   ]
  },
  {
   "cell_type": "markdown",
   "metadata": {},
   "source": [
    "Let's look at the most frequent Publishing houses in the dataset."
   ]
  },
  {
   "cell_type": "markdown",
   "metadata": {},
   "source": [
    "What about authors with the most entries?"
   ]
  },
  {
   "cell_type": "code",
   "execution_count": 70,
   "metadata": {},
   "outputs": [
    {
     "name": "stdout",
     "output_type": "stream",
     "text": [
      "The 10 authors with the most entries in the books table are:\n",
      "Stephen King          170\n",
      "Nora Roberts          119\n",
      "Danielle Steel         70\n",
      "Anne McCaffrey         69\n",
      "V.C. Andrews           65\n",
      "Mary Higgins Clark     60\n",
      "Sandra Brown           58\n",
      "Piers Anthony          57\n",
      "Dean R. Koontz         55\n",
      "Terry Pratchett        49\n",
      "Name: book_author, dtype: int64\n"
     ]
    }
   ],
   "source": [
    "filter_top_authors = filter_books.book_author.value_counts()[:10]\n",
    "print(f'The 10 authors with the most entries in the books table are:\\n{filter_top_authors}')"
   ]
  },
  {
   "cell_type": "markdown",
   "metadata": {},
   "source": [
    "We should search for empty or NaN values in these fields too."
   ]
  },
  {
   "cell_type": "code",
   "execution_count": 71,
   "metadata": {},
   "outputs": [
    {
     "name": "stdout",
     "output_type": "stream",
     "text": [
      "The 10 book titles with the most entries in the books table are:\n",
      "Pet Sematary                                                  7\n",
      "The Hitchhiker's Guide to the Galaxy                          7\n",
      "The Golden Compass (His Dark Materials, Book 1)               6\n",
      "About a Boy                                                   6\n",
      "The Hobbit                                                    5\n",
      "The Fellowship of the Ring (The Lord of the Rings, Part 1)    5\n",
      "The Subtle Knife (His Dark Materials, Book 2)                 5\n",
      "The Gunslinger (The Dark Tower, Book 1)                       5\n",
      "Lightning                                                     5\n",
      "The Drawing of the Three (The Dark Tower, Book 2)             5\n",
      "Name: book_title, dtype: int64\n"
     ]
    }
   ],
   "source": [
    "filter_top_titles =filter_books.book_title.value_counts()[:10]\n",
    "print(f'The 10 book titles with the most entries in the books table are:\\n{filter_top_titles}')"
   ]
  },
  {
   "cell_type": "markdown",
   "metadata": {},
   "source": [
    "This is actually quite an important observation. Although all of the ISBN entries are *unique* in the 'books' dataframe, different *forms* of the **same** book will have different ISBNs - i.e. paperback, e-book, etc. Therefore, we can see that some books have multiple ISBN entries (e.g. Jane Eyre has 19 different ISBNs, each corresponding to a different version of the book).\n",
    "\n",
    "Let's take a look at, for example, the entries for 'Jane Eyre'."
   ]
  },
  {
   "cell_type": "code",
   "execution_count": 72,
   "metadata": {},
   "outputs": [
    {
     "data": {
      "text/html": [
       "<div>\n",
       "<style scoped>\n",
       "    .dataframe tbody tr th:only-of-type {\n",
       "        vertical-align: middle;\n",
       "    }\n",
       "\n",
       "    .dataframe tbody tr th {\n",
       "        vertical-align: top;\n",
       "    }\n",
       "\n",
       "    .dataframe thead th {\n",
       "        text-align: right;\n",
       "    }\n",
       "</style>\n",
       "<table border=\"1\" class=\"dataframe\">\n",
       "  <thead>\n",
       "    <tr style=\"text-align: right;\">\n",
       "      <th></th>\n",
       "      <th>isbn</th>\n",
       "      <th>book_title</th>\n",
       "      <th>book_author</th>\n",
       "      <th>year_of_publication</th>\n",
       "      <th>book_id</th>\n",
       "    </tr>\n",
       "  </thead>\n",
       "  <tbody>\n",
       "    <tr>\n",
       "      <th>50842</th>\n",
       "      <td>0451523326</td>\n",
       "      <td>Jane Eyre</td>\n",
       "      <td>Charlotte Bronte</td>\n",
       "      <td>1988.0</td>\n",
       "      <td>9546</td>\n",
       "    </tr>\n",
       "    <tr>\n",
       "      <th>73314</th>\n",
       "      <td>156619024X</td>\n",
       "      <td>Jane Eyre</td>\n",
       "      <td>Charlotte Bronte</td>\n",
       "      <td>NaN</td>\n",
       "      <td>28502</td>\n",
       "    </tr>\n",
       "  </tbody>\n",
       "</table>\n",
       "</div>"
      ],
      "text/plain": [
       "             isbn book_title       book_author  year_of_publication  book_id\n",
       "50842  0451523326  Jane Eyre  Charlotte Bronte               1988.0     9546\n",
       "73314  156619024X  Jane Eyre  Charlotte Bronte                  NaN    28502"
      ]
     },
     "execution_count": 72,
     "metadata": {},
     "output_type": "execute_result"
    }
   ],
   "source": [
    "filter_books[filter_books.book_title=='Jane Eyre']"
   ]
  },
  {
   "cell_type": "markdown",
   "metadata": {},
   "source": [
    "It looks like each ISBN assigned to the book 'Jane Eyre' has different Publisher and Year of Publication values also.\n",
    "\n",
    "It might be more useful for our model if we simplified this to give each book a *unique* identifier, independent of the book format, as our recommendations will be for a book, not a specific version of a book. Therefore, all values in the Jane Eyre example above would stay the same, except all of the Jane Eyre entries would additionally be assigned a *unique ISBN* code as a new field.\n",
    "\n",
    "**Will create this more unique identifier under the field name 'unique_isbn'. Note that entries with only a single ISBN number will be left the same. However, will need to do this after joining to the other tables in the dataset, as some ISBNs in the 'book-rating' table may be removed if done prior.**"
   ]
  },
  {
   "cell_type": "markdown",
   "metadata": {},
   "source": [
    "## Investigate 'filter_book_ratings' table"
   ]
  },
  {
   "cell_type": "markdown",
   "metadata": {},
   "source": [
    "The data types already look good. Remember that the ISBN numbers may contain letters, and so should be left as strings.\n",
    "\n",
    "Which users contribute the most ratings?"
   ]
  },
  {
   "cell_type": "code",
   "execution_count": 73,
   "metadata": {},
   "outputs": [
    {
     "name": "stdout",
     "output_type": "stream",
     "text": [
      "The 20 users with the most ratings:\n",
      "user_id\n",
      "11676     3098\n",
      "98391      898\n",
      "153662     523\n",
      "16795      465\n",
      "95359      396\n",
      "114368     391\n",
      "104636     314\n",
      "235105     300\n",
      "123883     297\n",
      "35859      296\n",
      "158295     288\n",
      "204864     285\n",
      "135149     266\n",
      "60244      263\n",
      "171118     236\n",
      "257204     229\n",
      "23902      222\n",
      "89602      204\n",
      "78973      203\n",
      "7346       201\n",
      "Name: book_id, dtype: int64\n"
     ]
    }
   ],
   "source": [
    "filter_super_users = filter_book_ratings.groupby('user_id').book_id.count().sort_values(ascending=False)\n",
    "print(f'The 20 users with the most ratings:\\n{filter_super_users[:20]}')"
   ]
  },
  {
   "cell_type": "code",
   "execution_count": 74,
   "metadata": {},
   "outputs": [
    {
     "data": {
      "image/png": "[encoded data removed]",
      "text/plain": [
       "<Figure size 640x480 with 1 Axes>"
      ]
     },
     "metadata": {},
     "output_type": "display_data"
    }
   ],
   "source": [
    "# user distribution - users with more than 50 ratings removed\n",
    "filter_user_hist = filter_super_users.where(filter_super_users<50)\n",
    "filter_user_hist.hist(bins=30)\n",
    "plt.xlabel('No. of ratings')\n",
    "plt.ylabel('count')\n",
    "plt.show()"
   ]
  },
  {
   "cell_type": "code",
   "execution_count": 75,
   "metadata": {},
   "outputs": [
    {
     "data": {
      "image/png": "[encoded data removed]",
      "text/plain": [
       "<Figure size 640x480 with 1 Axes>"
      ]
     },
     "metadata": {},
     "output_type": "display_data"
    }
   ],
   "source": [
    "# only users with more than 1000 ratings\n",
    "filter_super_user_hist = filter_super_users.where(filter_super_users>1000)\n",
    "filter_super_user_hist.hist(bins=30)\n",
    "plt.xlabel('No. of ratings (min. 1000)')\n",
    "plt.ylabel('count')\n",
    "plt.show()"
   ]
  },
  {
   "cell_type": "code",
   "execution_count": 76,
   "metadata": {},
   "outputs": [
    {
     "data": {
      "image/png": "[encoded data removed]",
      "text/plain": [
       "<Figure size 800x800 with 1 Axes>"
      ]
     },
     "metadata": {},
     "output_type": "display_data"
    }
   ],
   "source": [
    "filter_rtg = filter_book_ratings.book_rating.value_counts().sort_index()\n",
    "\n",
    "plt.figure(figsize=(8, 8))\n",
    "plt.rcParams.update({'font.size': 15}) # Set larger plot font size\n",
    "plt.bar(filter_rtg.index, filter_rtg.values)\n",
    "plt.xlabel('Rating')\n",
    "plt.ylabel('counts')\n",
    "plt.show()"
   ]
  },
  {
   "cell_type": "code",
   "execution_count": 77,
   "metadata": {},
   "outputs": [
    {
     "data": {
      "image/png": "[encoded data removed]",
      "text/plain": [
       "<Figure size 1000x500 with 1 Axes>"
      ]
     },
     "metadata": {},
     "output_type": "display_data"
    }
   ],
   "source": [
    "filter_rtg = filter_book_ratings.book_rating.value_counts().sort_index()\n",
    "\n",
    "plt.figure(figsize=(10, 5))\n",
    "plt.rcParams.update({'font.size': 15}) # Set larger plot font size\n",
    "plt.bar(filter_rtg.index, filter_rtg.values)\n",
    "plt.xlabel('Rating')\n",
    "plt.ylabel('counts')\n",
    "plt.show()"
   ]
  },
  {
   "cell_type": "markdown",
   "metadata": {},
   "source": [
    "Wow! User \\#11676 has almost twice as many ratings as the next highest user! All of the top 20 users have thousands of ratings, which seems like a lot, although maybe I'm just a slow reader...\n",
    "\n",
    "Let's see how they are distributed."
   ]
  },
  {
   "cell_type": "markdown",
   "metadata": {},
   "source": [
    "It looks like **_by far_** the most frequent events are users with only 1 or 2 rating entries. We can see that the 'super users' with thousands of ratings are significant outliers.\n",
    "\n",
    "This becomes clear if we make the same histogram with a cutoff for users with a minimum of 1000 ratings."
   ]
  },
  {
   "cell_type": "markdown",
   "metadata": {},
   "source": [
    "Let's see what the distribution of **ratings** looks like."
   ]
  },
  {
   "cell_type": "markdown",
   "metadata": {},
   "source": [
    "Seems like most of the entries have a rating of zero!\n",
    "\n",
    "After doing some research on the internet regarding this (and similar) datasets, it appears that the rating scale is actually from 1 to 10, and a 0 indicates an 'implicit' rather than an 'explicit' rating. An implicit rating represents an interaction (may be positive or negative) between the user and the item. Implicit interactions usually need to be handled differently from explicit ones.\n",
    "\n",
    "For the modeling step we'll only be looking at *explicit* ratings, and so the 0 rating entry rows will be removed."
   ]
  },
  {
   "cell_type": "code",
   "execution_count": 78,
   "metadata": {},
   "outputs": [
    {
     "name": "stdout",
     "output_type": "stream",
     "text": [
      "         user_id  book_id  book_rating\n",
      "48815      11676     9295          5.0\n",
      "81153      16877     9295          4.5\n",
      "92472      20806     9295          3.0\n",
      "95333      21356     9295          3.5\n",
      "98536      22625     9295          5.0\n",
      "...          ...      ...          ...\n",
      "851219    205783    16376          3.5\n",
      "860571    208141    16376          4.5\n",
      "930106    225886    16376          3.0\n",
      "997315    239423    16376          5.0\n",
      "1101507   264321    16376          3.0\n",
      "\n",
      "[145888 rows x 3 columns]\n"
     ]
    }
   ],
   "source": [
    "print(filter_book_ratings)"
   ]
  },
  {
   "cell_type": "code",
   "execution_count": 79,
   "metadata": {},
   "outputs": [
    {
     "name": "stdout",
     "output_type": "stream",
     "text": [
      "<class 'pandas.core.frame.DataFrame'>\n",
      "Int64Index: 145888 entries, 48815 to 1101507\n",
      "Data columns (total 13 columns):\n",
      " #   Column               Non-Null Count   Dtype  \n",
      "---  ------               --------------   -----  \n",
      " 0   user_id              145888 non-null  int64  \n",
      " 1   isbn                 145888 non-null  object \n",
      " 2   book_rating          145888 non-null  float64\n",
      " 3   book_title           145888 non-null  object \n",
      " 4   book_author          145888 non-null  object \n",
      " 5   year_of_publication  144590 non-null  float64\n",
      " 6   publisher            145888 non-null  object \n",
      " 7   unique_isbn          145888 non-null  object \n",
      " 8   age                  104897 non-null  float64\n",
      " 9   city                 145888 non-null  object \n",
      " 10  state                145888 non-null  object \n",
      " 11  country              141488 non-null  object \n",
      " 12  book_id              145888 non-null  int64  \n",
      "dtypes: float64(3), int64(2), object(8)\n",
      "memory usage: 15.6+ MB\n"
     ]
    }
   ],
   "source": [
    "filter_books_users_ratings.info()"
   ]
  },
  {
   "cell_type": "code",
   "execution_count": 80,
   "metadata": {},
   "outputs": [
    {
     "data": {
      "text/plain": [
       "(145888, 13)"
      ]
     },
     "execution_count": 80,
     "metadata": {},
     "output_type": "execute_result"
    }
   ],
   "source": [
    "filter_books_users_ratings.shape"
   ]
  },
  {
   "cell_type": "markdown",
   "metadata": {},
   "source": [
    "# Key:Generate various files in the /books/ directory"
   ]
  },
  {
   "cell_type": "markdown",
   "metadata": {},
   "source": [
    "# Key:Generate various files in the /books/ directory"
   ]
  },
  {
   "cell_type": "markdown",
   "metadata": {},
   "source": [
    "# Key:Generate various files in the /books/ directory"
   ]
  },
  {
   "cell_type": "code",
   "execution_count": 81,
   "metadata": {},
   "outputs": [
    {
     "data": {
      "text/html": [
       "<div>\n",
       "<style scoped>\n",
       "    .dataframe tbody tr th:only-of-type {\n",
       "        vertical-align: middle;\n",
       "    }\n",
       "\n",
       "    .dataframe tbody tr th {\n",
       "        vertical-align: top;\n",
       "    }\n",
       "\n",
       "    .dataframe thead th {\n",
       "        text-align: right;\n",
       "    }\n",
       "</style>\n",
       "<table border=\"1\" class=\"dataframe\">\n",
       "  <thead>\n",
       "    <tr style=\"text-align: right;\">\n",
       "      <th></th>\n",
       "      <th>isbn</th>\n",
       "      <th>book_title</th>\n",
       "      <th>book_author</th>\n",
       "      <th>year_of_publication</th>\n",
       "      <th>book_id</th>\n",
       "    </tr>\n",
       "  </thead>\n",
       "  <tbody>\n",
       "    <tr>\n",
       "      <th>48815</th>\n",
       "      <td>038550120X</td>\n",
       "      <td>A Painted House</td>\n",
       "      <td>JOHN GRISHAM</td>\n",
       "      <td>2001.0</td>\n",
       "      <td>9295</td>\n",
       "    </tr>\n",
       "    <tr>\n",
       "      <th>16</th>\n",
       "      <td>0060517794</td>\n",
       "      <td>Little Altars Everywhere</td>\n",
       "      <td>Rebecca Wells</td>\n",
       "      <td>2003.0</td>\n",
       "      <td>4779</td>\n",
       "    </tr>\n",
       "    <tr>\n",
       "      <th>19</th>\n",
       "      <td>0671537458</td>\n",
       "      <td>Waiting to Exhale</td>\n",
       "      <td>Terry McMillan</td>\n",
       "      <td>1995.0</td>\n",
       "      <td>1836</td>\n",
       "    </tr>\n",
       "    <tr>\n",
       "      <th>20</th>\n",
       "      <td>0679776818</td>\n",
       "      <td>Birdsong: A Novel of Love and War</td>\n",
       "      <td>Sebastian Faulks</td>\n",
       "      <td>1997.0</td>\n",
       "      <td>6276</td>\n",
       "    </tr>\n",
       "    <tr>\n",
       "      <th>698</th>\n",
       "      <td>0684867621</td>\n",
       "      <td>The Girl Who Loved Tom Gordon : A Novel</td>\n",
       "      <td>Stephen King</td>\n",
       "      <td>1999.0</td>\n",
       "      <td>1986</td>\n",
       "    </tr>\n",
       "  </tbody>\n",
       "</table>\n",
       "</div>"
      ],
      "text/plain": [
       "             isbn                               book_title       book_author  \\\n",
       "48815  038550120X                          A Painted House      JOHN GRISHAM   \n",
       "16     0060517794                 Little Altars Everywhere     Rebecca Wells   \n",
       "19     0671537458                        Waiting to Exhale    Terry McMillan   \n",
       "20     0679776818        Birdsong: A Novel of Love and War  Sebastian Faulks   \n",
       "698    0684867621  The Girl Who Loved Tom Gordon : A Novel      Stephen King   \n",
       "\n",
       "       year_of_publication  book_id  \n",
       "48815               2001.0     9295  \n",
       "16                  2003.0     4779  \n",
       "19                  1995.0     1836  \n",
       "20                  1997.0     6276  \n",
       "698                 1999.0     1986  "
      ]
     },
     "execution_count": 81,
     "metadata": {},
     "output_type": "execute_result"
    }
   ],
   "source": [
    "filter_books.head()"
   ]
  },
  {
   "cell_type": "code",
   "execution_count": 82,
   "metadata": {},
   "outputs": [
    {
     "data": {
      "text/html": [
       "<div>\n",
       "<style scoped>\n",
       "    .dataframe tbody tr th:only-of-type {\n",
       "        vertical-align: middle;\n",
       "    }\n",
       "\n",
       "    .dataframe tbody tr th {\n",
       "        vertical-align: top;\n",
       "    }\n",
       "\n",
       "    .dataframe thead th {\n",
       "        text-align: right;\n",
       "    }\n",
       "</style>\n",
       "<table border=\"1\" class=\"dataframe\">\n",
       "  <thead>\n",
       "    <tr style=\"text-align: right;\">\n",
       "      <th></th>\n",
       "      <th>user_id</th>\n",
       "      <th>age</th>\n",
       "      <th>country</th>\n",
       "    </tr>\n",
       "  </thead>\n",
       "  <tbody>\n",
       "    <tr>\n",
       "      <th>48815</th>\n",
       "      <td>11676</td>\n",
       "      <td>NaN</td>\n",
       "      <td>n/a</td>\n",
       "    </tr>\n",
       "    <tr>\n",
       "      <th>81153</th>\n",
       "      <td>16877</td>\n",
       "      <td>37.0</td>\n",
       "      <td>usa</td>\n",
       "    </tr>\n",
       "    <tr>\n",
       "      <th>92472</th>\n",
       "      <td>20806</td>\n",
       "      <td>NaN</td>\n",
       "      <td>usa</td>\n",
       "    </tr>\n",
       "    <tr>\n",
       "      <th>95333</th>\n",
       "      <td>21356</td>\n",
       "      <td>56.0</td>\n",
       "      <td>usa</td>\n",
       "    </tr>\n",
       "    <tr>\n",
       "      <th>98536</th>\n",
       "      <td>22625</td>\n",
       "      <td>54.0</td>\n",
       "      <td>usa</td>\n",
       "    </tr>\n",
       "  </tbody>\n",
       "</table>\n",
       "</div>"
      ],
      "text/plain": [
       "       user_id   age country\n",
       "48815    11676   NaN     n/a\n",
       "81153    16877  37.0     usa\n",
       "92472    20806   NaN     usa\n",
       "95333    21356  56.0     usa\n",
       "98536    22625  54.0     usa"
      ]
     },
     "execution_count": 82,
     "metadata": {},
     "output_type": "execute_result"
    }
   ],
   "source": [
    "filter_users.head()"
   ]
  },
  {
   "cell_type": "code",
   "execution_count": 83,
   "metadata": {},
   "outputs": [
    {
     "data": {
      "text/html": [
       "<div>\n",
       "<style scoped>\n",
       "    .dataframe tbody tr th:only-of-type {\n",
       "        vertical-align: middle;\n",
       "    }\n",
       "\n",
       "    .dataframe tbody tr th {\n",
       "        vertical-align: top;\n",
       "    }\n",
       "\n",
       "    .dataframe thead th {\n",
       "        text-align: right;\n",
       "    }\n",
       "</style>\n",
       "<table border=\"1\" class=\"dataframe\">\n",
       "  <thead>\n",
       "    <tr style=\"text-align: right;\">\n",
       "      <th></th>\n",
       "      <th>user_id</th>\n",
       "      <th>book_id</th>\n",
       "      <th>book_rating</th>\n",
       "    </tr>\n",
       "  </thead>\n",
       "  <tbody>\n",
       "    <tr>\n",
       "      <th>48815</th>\n",
       "      <td>11676</td>\n",
       "      <td>9295</td>\n",
       "      <td>5.0</td>\n",
       "    </tr>\n",
       "    <tr>\n",
       "      <th>81153</th>\n",
       "      <td>16877</td>\n",
       "      <td>9295</td>\n",
       "      <td>4.5</td>\n",
       "    </tr>\n",
       "    <tr>\n",
       "      <th>92472</th>\n",
       "      <td>20806</td>\n",
       "      <td>9295</td>\n",
       "      <td>3.0</td>\n",
       "    </tr>\n",
       "    <tr>\n",
       "      <th>95333</th>\n",
       "      <td>21356</td>\n",
       "      <td>9295</td>\n",
       "      <td>3.5</td>\n",
       "    </tr>\n",
       "    <tr>\n",
       "      <th>98536</th>\n",
       "      <td>22625</td>\n",
       "      <td>9295</td>\n",
       "      <td>5.0</td>\n",
       "    </tr>\n",
       "    <tr>\n",
       "      <th>...</th>\n",
       "      <td>...</td>\n",
       "      <td>...</td>\n",
       "      <td>...</td>\n",
       "    </tr>\n",
       "    <tr>\n",
       "      <th>851219</th>\n",
       "      <td>205783</td>\n",
       "      <td>16376</td>\n",
       "      <td>3.5</td>\n",
       "    </tr>\n",
       "    <tr>\n",
       "      <th>860571</th>\n",
       "      <td>208141</td>\n",
       "      <td>16376</td>\n",
       "      <td>4.5</td>\n",
       "    </tr>\n",
       "    <tr>\n",
       "      <th>930106</th>\n",
       "      <td>225886</td>\n",
       "      <td>16376</td>\n",
       "      <td>3.0</td>\n",
       "    </tr>\n",
       "    <tr>\n",
       "      <th>997315</th>\n",
       "      <td>239423</td>\n",
       "      <td>16376</td>\n",
       "      <td>5.0</td>\n",
       "    </tr>\n",
       "    <tr>\n",
       "      <th>1101507</th>\n",
       "      <td>264321</td>\n",
       "      <td>16376</td>\n",
       "      <td>3.0</td>\n",
       "    </tr>\n",
       "  </tbody>\n",
       "</table>\n",
       "<p>145888 rows × 3 columns</p>\n",
       "</div>"
      ],
      "text/plain": [
       "         user_id  book_id  book_rating\n",
       "48815      11676     9295          5.0\n",
       "81153      16877     9295          4.5\n",
       "92472      20806     9295          3.0\n",
       "95333      21356     9295          3.5\n",
       "98536      22625     9295          5.0\n",
       "...          ...      ...          ...\n",
       "851219    205783    16376          3.5\n",
       "860571    208141    16376          4.5\n",
       "930106    225886    16376          3.0\n",
       "997315    239423    16376          5.0\n",
       "1101507   264321    16376          3.0\n",
       "\n",
       "[145888 rows x 3 columns]"
      ]
     },
     "execution_count": 83,
     "metadata": {},
     "output_type": "execute_result"
    }
   ],
   "source": [
    "filter_book_ratings"
   ]
  },
  {
   "cell_type": "code",
   "execution_count": 84,
   "metadata": {},
   "outputs": [
    {
     "name": "stdout",
     "output_type": "stream",
     "text": [
      "{11676: 3098, 98391: 898, 153662: 523, 16795: 465, 95359: 396, 114368: 391, 104636: 314, 235105: 300, 123883: 297, 35859: 296, 158295: 288, 204864: 285, 135149: 266, 60244: 263, 171118: 236, 257204: 229, 23902: 222, 89602: 204, 78973: 203, 7346: 201, 31315: 197, 248718: 196, 100906: 195, 162639: 195, 69078: 185, 13552: 178, 234828: 176, 189835: 175, 177432: 175, 76499: 172, 177458: 169, 6575: 168, 37950: 166, 46398: 162, 258534: 161, 107784: 160, 197659: 157, 110934: 156, 225087: 154, 76151: 154, 112001: 153, 265889: 153, 31826: 149, 140358: 147, 21014: 146, 185233: 145, 110973: 144, 273113: 142, 200226: 139, 69697: 135, 43246: 134, 156150: 133, 261829: 132, 105517: 131, 68555: 131, 182085: 130, 88733: 129, 114988: 129, 75591: 129, 227520: 128, 229011: 128, 190925: 128, 236283: 127, 232131: 127, 55490: 126, 25981: 126, 93047: 126, 230522: 126, 270713: 126, 87141: 125, 210485: 124, 274061: 123, 168245: 123, 235282: 121, 242083: 121, 241980: 119, 247447: 119, 76626: 119, 23872: 119, 258185: 118, 25409: 118, 216012: 118, 174304: 117, 142524: 117, 88693: 117, 216683: 116, 242006: 115, 56399: 115, 165319: 114, 254465: 114, 81560: 113, 91113: 113, 173415: 112, 219683: 112, 37712: 111, 30276: 110, 265115: 110, 128835: 110, 126492: 110, 271448: 109, 165308: 109, 249894: 108, 245410: 108, 251844: 107, 214786: 107, 16634: 107, 6251: 107, 6543: 106, 78553: 105, 94347: 105, 217318: 104, 187145: 103, 129716: 102, 264321: 102, 102647: 102, 56959: 101, 255489: 101, 240567: 100, 252695: 100, 4017: 100, 163973: 100, 115003: 98, 12982: 97, 223501: 97, 244627: 96, 147847: 96, 196077: 96, 43910: 96, 203240: 95, 56447: 95, 178522: 95, 102702: 94, 224764: 93, 53220: 93, 101851: 93, 59172: 93, 105979: 93, 268110: 93, 30735: 92, 251843: 92, 254206: 91, 31556: 91, 194600: 91, 125774: 91, 38023: 91, 246311: 90, 226965: 90, 234359: 90, 127359: 90, 264031: 89, 129074: 89, 229741: 89, 130571: 88, 36606: 88, 60707: 88, 163804: 88, 40889: 87, 156467: 87, 12538: 87, 196160: 87, 110912: 86, 28634: 86, 239594: 85, 123981: 85, 227705: 85, 224349: 84, 266056: 84, 48025: 84, 67840: 83, 78783: 83, 211426: 83, 51883: 83, 236757: 83, 56554: 83, 236340: 83, 5582: 82, 206534: 82, 187256: 82, 225763: 82, 136382: 82, 274301: 82, 239584: 82, 136348: 82, 38273: 82, 156269: 82, 240144: 82, 208671: 82, 133747: 82, 184299: 82, 93629: 81, 135265: 81, 179718: 81, 113270: 81, 150979: 81, 218608: 80, 231210: 80, 113519: 80, 227447: 79, 177072: 79, 8245: 79, 8067: 79, 52584: 79, 78834: 78, 241666: 78, 193898: 78, 232945: 78, 172742: 78, 23768: 78, 277427: 78, 106007: 78, 271705: 77, 32773: 77, 164323: 77, 158226: 77, 110483: 77, 14422: 77, 217740: 77, 114544: 77, 73681: 76, 218552: 76, 98758: 75, 143415: 75, 69389: 75, 122429: 75, 105028: 74, 141444: 74, 225595: 74, 140000: 74, 6242: 74, 244685: 74, 22625: 74, 65584: 74, 166123: 73, 122793: 73, 92810: 73, 180651: 73, 124487: 73, 235935: 73, 182993: 73, 39281: 72, 97874: 72, 158433: 71, 149908: 71, 36907: 71, 52917: 71, 115435: 71, 70594: 71, 101876: 70, 224138: 70, 101606: 70, 268300: 70, 2276: 69, 162738: 69, 125519: 69, 17950: 69, 178199: 69, 82497: 69, 148744: 69, 138543: 68, 187517: 68, 220688: 68, 159506: 68, 39467: 68, 124876: 68, 121170: 68, 47316: 67, 81597: 67, 208406: 67, 275970: 67, 189973: 67, 252820: 67, 10560: 67, 70666: 67, 86189: 67, 174892: 66, 126736: 66, 40943: 66, 29259: 66, 265313: 66, 208829: 66, 163570: 66, 30533: 66, 201290: 66, 66680: 66, 37644: 66, 126196: 65, 53174: 65, 157273: 65, 13273: 65, 162052: 65, 8681: 65, 109901: 65, 27472: 65, 164828: 65, 94951: 65, 55492: 65, 269566: 65, 100459: 65, 29526: 64, 30711: 64, 146113: 64, 136010: 64, 231237: 64, 133296: 64, 245827: 64, 95932: 64, 207782: 64, 258152: 63, 264082: 63, 97754: 63, 141493: 63, 196738: 63, 2033: 63, 165758: 63, 30487: 63, 153718: 63, 225199: 63, 102967: 63, 83287: 63, 134434: 62, 87555: 62, 43842: 62, 83671: 62, 139913: 62, 170513: 62, 144531: 62, 85526: 61, 178667: 61, 222296: 61, 30511: 61, 81492: 61, 209516: 61, 106225: 60, 266865: 60, 85757: 60, 35857: 60, 93426: 60, 137589: 59, 274004: 59, 184532: 59, 218121: 59, 193499: 59, 104399: 59, 260944: 59, 223087: 58, 168047: 58, 88283: 58, 226545: 58, 35836: 58, 253871: 58, 8454: 58, 128085: 58, 236058: 58, 108405: 58, 159033: 57, 136139: 57, 100846: 57, 33124: 57, 172676: 57, 181687: 57, 135045: 57, 184513: 57, 145449: 57, 114868: 57, 10447: 57, 270820: 57, 276680: 57, 27647: 56, 134797: 56, 98904: 56, 254899: 56, 183046: 56, 104144: 56, 268932: 56, 83637: 56, 193458: 56, 109574: 55, 101305: 55, 270605: 55, 228764: 55, 226879: 55, 85656: 55, 146348: 55, 88677: 55, 120396: 55, 248477: 55, 183995: 55, 157247: 55, 182086: 55, 197364: 55, 259629: 55, 50895: 55, 8253: 55, 190708: 54, 55187: 54, 104665: 54, 224809: 54, 154469: 54, 127233: 54, 166596: 54, 224430: 54, 66942: 54, 138844: 54, 6563: 54, 143175: 54, 225379: 53, 224997: 53, 209756: 53, 75819: 53, 201969: 53, 76223: 53, 249628: 53, 261603: 53, 181176: 53, 46909: 53, 179734: 53, 223787: 52, 137688: 52, 218568: 52, 70415: 52, 160558: 52, 32440: 52, 96357: 52, 210959: 52, 193778: 52, 251394: 52, 223154: 52, 49460: 52, 221445: 52, 204457: 52, 189334: 52, 69971: 51, 44893: 51, 80538: 51, 240403: 51, 234597: 51, 177374: 51, 269890: 51, 95991: 51, 235392: 51, 207616: 50, 17003: 50, 7125: 50, 251422: 50, 260897: 50, 119575: 50, 251140: 50, 271195: 50, 152186: 50, 240035: 49, 221732: 49, 62891: 49, 146803: 49, 48494: 49, 52614: 49, 123544: 49, 77809: 49, 80945: 49, 10314: 49, 31393: 49, 133571: 49, 224646: 49, 133689: 48, 203799: 48, 41084: 48, 77480: 48, 55892: 48, 228021: 48, 37208: 48, 215988: 48, 52853: 48, 229313: 48, 130554: 48, 211344: 48, 267635: 48, 130474: 48, 123095: 48, 98547: 48, 184424: 48, 169682: 48, 263163: 48, 115572: 48, 124078: 48, 225886: 48, 201684: 48, 150968: 48, 242106: 47, 142121: 47, 141710: 47, 62862: 47, 20060: 47, 237990: 47, 88793: 47, 270352: 47, 28177: 47, 179019: 47, 86145: 47, 36609: 47, 126604: 47, 102359: 47, 160401: 47, 26544: 46, 85993: 46, 55493: 46, 13850: 46, 189558: 46, 136491: 46, 273979: 46, 142256: 46, 109955: 46, 123094: 46, 79266: 46, 231857: 46, 240219: 46, 51450: 45, 169663: 45, 31391: 45, 233711: 45, 138578: 45, 86243: 45, 175052: 45, 15408: 45, 174596: 45, 108799: 45, 196502: 45, 240568: 45, 81848: 45, 78448: 45, 264525: 44, 21576: 44, 246513: 44, 98787: 44, 27740: 44, 136205: 44, 33818: 44, 243077: 44, 80810: 44, 180348: 44, 91184: 44, 3827: 44, 37538: 44, 51742: 44, 132173: 44, 177375: 44, 121264: 44, 174216: 44, 148258: 44, 173679: 44, 174092: 43, 129084: 43, 123257: 43, 128696: 43, 244420: 43, 61901: 43, 115002: 43, 213126: 43, 56856: 43, 245645: 43, 125039: 43, 238120: 43, 38281: 43, 220597: 43, 212923: 43, 221705: 43, 16106: 43, 250709: 43, 261998: 43, 117251: 43, 229551: 43, 155014: 43, 242299: 43, 240700: 43, 160819: 43, 207494: 43, 204591: 43, 172061: 42, 209373: 42, 156214: 42, 245295: 42, 2766: 42, 52199: 42, 135458: 42, 61854: 42, 111944: 42, 154529: 42, 84795: 42, 101209: 42, 173291: 42, 179978: 42, 199416: 42, 85426: 42, 258884: 42, 14456: 42, 19085: 42, 262998: 41, 135351: 41, 114444: 41, 96448: 41, 79441: 41, 195904: 41, 207349: 41, 187762: 41, 102275: 41, 267033: 41, 269321: 41, 124874: 41, 212965: 41, 259901: 41, 147451: 41, 144038: 41, 7158: 41, 237271: 41, 168064: 41, 115692: 41, 167471: 41, 638: 41, 206074: 41, 268032: 40, 266226: 40, 41455: 40, 231393: 40, 91103: 40, 161041: 40, 202277: 40, 213150: 40, 155219: 40, 274308: 40, 127826: 40, 152946: 40, 93363: 40, 201042: 40, 109779: 40, 154345: 40, 187065: 40, 81977: 40, 24933: 40, 104113: 40, 41841: 40, 99955: 40, 120093: 40, 247129: 40, 238889: 40, 58594: 39, 143163: 39, 180378: 39, 207499: 39, 64436: 39, 185176: 39, 87712: 39, 7915: 39, 206563: 39, 243294: 39, 258938: 39, 87938: 39, 256843: 39, 93179: 39, 93092: 39, 50225: 39, 69355: 39, 229409: 39, 117384: 39, 132375: 39, 68436: 39, 56307: 39, 195694: 39, 239423: 39, 30972: 39, 250962: 38, 10819: 38, 268030: 38, 228681: 38, 206944: 38, 209160: 38, 92405: 38, 127200: 38, 194676: 38, 247752: 38, 243930: 38, 272573: 38, 104211: 38, 276231: 38, 84024: 38, 205473: 38, 86202: 38, 95316: 38, 67547: 38, 15418: 38, 206305: 38, 146230: 38, 3363: 38, 76818: 38, 170634: 38, 266840: 38, 144318: 38, 39773: 37, 46443: 37, 143253: 37, 30994: 37, 48046: 37, 252843: 37, 179433: 37, 73044: 37, 8066: 37, 73651: 37, 92547: 37, 28204: 37, 165183: 37, 70052: 37, 130705: 37, 12824: 37, 138602: 37, 223231: 37, 36299: 37, 167800: 37, 136252: 37, 211919: 37, 249862: 37, 224249: 37, 77383: 37, 223644: 37, 216466: 36, 247852: 36, 72214: 36, 36256: 36, 172030: 36, 57398: 36, 168954: 36, 245650: 36, 258270: 36, 69156: 36, 271558: 36, 227397: 36, 14521: 36, 34588: 36, 63394: 36, 183196: 36, 63956: 36, 266283: 36, 110373: 36, 203764: 36, 203910: 36, 158254: 36, 120908: 36, 206567: 36, 121606: 36, 254: 36, 1733: 36, 159858: 36, 116758: 35, 52350: 35, 115490: 35, 242409: 35, 66574: 35, 107951: 35, 177090: 35, 9417: 35, 2110: 35, 98686: 35, 149069: 35, 28591: 35, 9856: 35, 123056: 35, 184401: 35, 60337: 35, 126388: 35, 238557: 35, 219546: 35, 48355: 35, 189139: 35, 278026: 35, 210587: 35, 105054: 35, 114414: 35, 23571: 35, 126693: 35, 138995: 35, 11993: 35, 206016: 35, 11601: 35, 264543: 35, 135360: 35, 252071: 35, 111174: 35, 107301: 35, 20172: 34, 232964: 34, 41781: 34, 82407: 34, 48975: 34, 221948: 34, 22074: 34, 257198: 34, 105214: 34, 36715: 34, 34300: 34, 63595: 34, 96440: 34, 69378: 34, 26883: 34, 90616: 34, 261105: 34, 82893: 34, 91342: 34, 126296: 34, 152099: 34, 182527: 34, 139828: 34, 163488: 34, 6073: 34, 15049: 34, 167812: 34, 19711: 34, 84882: 33, 44252: 33, 234721: 33, 257028: 33, 260183: 33, 276165: 33, 105221: 33, 124597: 33, 61427: 33, 70183: 33, 179730: 33, 21659: 33, 188022: 33, 188010: 33, 62272: 33, 229329: 33, 106849: 33, 222050: 33, 271176: 33, 65258: 33, 62966: 33, 243236: 33, 141902: 33, 98440: 33, 51350: 33, 20180: 33, 217375: 33, 155147: 33, 264657: 33, 199515: 33, 201674: 32, 80555: 32, 201677: 32, 51992: 32, 207259: 32, 76352: 32, 276050: 32, 86720: 32, 61038: 32, 11224: 32, 67591: 32, 79740: 32, 105937: 32, 212797: 32, 32802: 32, 6323: 32, 17667: 32, 204813: 32, 215986: 32, 140662: 32, 53614: 32, 242646: 32, 172760: 32, 73588: 32, 198012: 32, 227250: 32, 149934: 32, 123825: 32, 205980: 32, 63854: 32, 16966: 32, 173481: 32, 244171: 32, 21011: 32, 186570: 32, 104429: 32, 26621: 32, 125203: 32, 177091: 32, 142579: 32, 38556: 31, 226006: 31, 278633: 31, 52011: 31, 243759: 31, 144255: 31, 259260: 31, 201447: 31, 135609: 31, 226205: 31, 263325: 31, 33974: 31, 247241: 31, 67663: 31, 107326: 31, 238065: 31, 212142: 31, 250925: 31, 150896: 31, 226553: 31, 108005: 31, 255078: 31, 169779: 31, 219301: 31, 98263: 31, 270838: 31, 138198: 31, 209875: 31, 248496: 31, 266268: 31, 54335: 31, 207825: 31, 35433: 31, 111847: 31, 139141: 31, 190923: 31, 246759: 31, 140036: 31, 163202: 31, 126814: 31, 1424: 31, 145641: 31, 136326: 31, 75149: 31, 69684: 31, 131046: 31, 32721: 31, 139742: 31, 36003: 30, 131154: 30, 103336: 30, 206249: 30, 258482: 30, 206202: 30, 13582: 30, 55927: 30, 176214: 30, 192428: 30, 169735: 30, 13518: 30, 246247: 30, 143715: 30, 225986: 30, 144555: 30, 124310: 30, 68185: 30, 68128: 30, 73330: 30, 274808: 30, 214138: 30, 196466: 30, 69211: 30, 21404: 30, 120598: 30, 27617: 30, 231351: 30, 212467: 30, 150561: 30, 142479: 30, 243328: 30, 238864: 30, 141901: 30, 263877: 30, 238781: 30, 268622: 30, 157811: 29, 278418: 29, 19493: 29, 125692: 29, 252865: 29, 96744: 29, 83443: 29, 140879: 29, 43687: 29, 54622: 29, 238613: 29, 35918: 29, 42093: 29, 239626: 29, 74286: 29, 133416: 29, 124363: 29, 122716: 29, 189080: 29, 24433: 29, 29209: 29, 100644: 29, 224525: 29, 113334: 29, 177690: 29, 223190: 29, 193529: 29, 189516: 29, 243360: 29, 170947: 29, 164675: 29, 119725: 29, 143968: 29, 127129: 29, 111190: 29, 94985: 29, 140223: 29, 254201: 29, 19664: 29, 112093: 29, 32627: 29, 11245: 29, 105374: 29, 270554: 29, 136071: 29, 68984: 29, 18082: 29, 31050: 29, 217986: 29, 117873: 29, 238699: 29, 208147: 28, 153054: 28, 35407: 28, 25601: 28, 264317: 28, 264152: 28, 193676: 28, 231827: 28, 229334: 28, 26535: 28, 145109: 28, 241548: 28, 69232: 28, 59269: 28, 160681: 28, 139359: 28, 147141: 28, 147686: 28, 70541: 28, 73923: 28, 74026: 28, 254377: 28, 237748: 28, 251164: 28, 39616: 28, 174326: 28, 111947: 28, 108352: 28, 110029: 28, 112761: 28, 254299: 28, 15602: 28, 131126: 28, 188273: 28, 187863: 28, 222035: 28, 268751: 28, 51526: 28, 882: 28, 179791: 28, 135376: 28, 36327: 28, 178201: 28, 213531: 27, 92498: 27, 256402: 27, 42914: 27, 236172: 27, 30273: 27, 251613: 27, 75485: 27, 207148: 27, 109491: 27, 231354: 27, 60621: 27, 228998: 27, 206219: 27, 159834: 27, 259930: 27, 177590: 27, 147839: 27, 160571: 27, 95173: 27, 81682: 27, 43619: 27, 2891: 27, 61147: 27, 250300: 27, 132930: 27, 141958: 27, 74056: 27, 132836: 27, 113904: 27, 40914: 27, 247055: 27, 76530: 27, 154992: 27, 100088: 27, 171970: 27, 88412: 27, 35704: 27, 55799: 27, 222204: 27, 201526: 27, 216444: 27, 254822: 27, 268657: 27, 237534: 27, 55075: 27, 178920: 27, 20201: 27, 172512: 27, 143211: 27, 232106: 27, 182838: 27, 169699: 27, 3371: 27, 270801: 27, 171295: 27, 185722: 26, 88937: 26, 49422: 26, 49225: 26, 259006: 26, 128119: 26, 22818: 26, 93565: 26, 220240: 26, 108155: 26, 11724: 26, 225996: 26, 93453: 26, 163319: 26, 262902: 26, 86408: 26, 45557: 26, 232959: 26, 222220: 26, 28619: 26, 112026: 26, 255546: 26, 73394: 26, 104657: 26, 248464: 26, 37400: 26, 123608: 26, 156300: 26, 191716: 26, 81263: 26, 97324: 26, 271622: 26, 24194: 26, 117132: 26, 43481: 26, 137336: 26, 99720: 26, 170724: 26, 247240: 26, 153950: 26, 247429: 26, 153797: 26, 101620: 26, 116599: 26, 67198: 26, 16718: 26, 234623: 26, 106768: 26, 62558: 26, 95903: 26, 210685: 26, 223566: 26, 167746: 26, 130658: 26, 215006: 26, 9908: 26, 31846: 26, 154844: 25, 183101: 25, 111578: 25, 49212: 25, 88652: 25, 49109: 25, 40415: 25, 39345: 25, 256167: 25, 236948: 25, 116005: 25, 122440: 25, 145619: 25, 21364: 25, 86835: 25, 146932: 25, 185384: 25, 150661: 25, 203075: 25, 273976: 25, 213628: 25, 274634: 25, 147224: 25, 116904: 25, 125031: 25, 76019: 25, 80683: 25, 45315: 25, 241204: 25, 246156: 25, 36135: 25, 60263: 25, 26487: 25, 223431: 25, 207246: 25, 174830: 25, 225232: 25, 244277: 25, 250398: 25, 92652: 25, 22521: 25, 259118: 25, 192093: 25, 100264: 25, 61028: 25, 129358: 25, 264311: 25, 209174: 25, 243700: 25, 164728: 25, 225810: 25, 227836: 25, 207339: 25, 90198: 25, 242639: 25, 276463: 25, 33580: 25, 190741: 25, 133706: 25, 137742: 25, 26593: 25, 11718: 25, 99441: 25, 245371: 25, 110361: 25, 53729: 25, 107244: 25, 248850: 25, 56271: 25, 83431: 24, 170077: 24, 246507: 24, 187624: 24, 7283: 24, 175100: 24, 202462: 24, 148898: 24, 134556: 24, 82511: 24, 31094: 24, 507: 24, 104278: 24, 81298: 24, 81318: 24, 53628: 24, 3167: 24, 131402: 24, 98783: 24, 55548: 24, 123744: 24, 125736: 24, 219321: 24, 105058: 24, 255218: 24, 148712: 24, 182053: 24, 159732: 24, 50730: 24, 180042: 24, 185634: 24, 76942: 24, 263460: 24, 142745: 24, 265487: 24, 143792: 24, 91058: 24, 259259: 24, 1435: 24, 27813: 24, 27875: 24, 49980: 24, 267510: 24, 33179: 24, 90417: 24, 11629: 24, 130570: 24, 91832: 24, 222488: 24, 69721: 24, 21031: 24, 148199: 24, 129503: 24, 234399: 24, 76483: 24, 196108: 24, 92861: 24, 141491: 24, 108285: 24, 16996: 24, 146386: 24, 129008: 24, 108480: 24, 201776: 24, 184365: 23, 198930: 23, 199041: 23, 182969: 23, 171638: 23, 56391: 23, 57725: 23, 242309: 23, 3373: 23, 259035: 23, 242073: 23, 50073: 23, 68760: 23, 161936: 23, 179826: 23, 278188: 23, 69405: 23, 64310: 23, 44852: 23, 250184: 23, 5476: 23, 59150: 23, 51803: 23, 71234: 23, 164096: 23, 182202: 23, 39396: 23, 182459: 23, 2977: 23, 274549: 23, 239535: 23, 53304: 23, 171445: 23, 201768: 23, 124989: 23, 205735: 23, 209817: 23, 131855: 23, 151139: 23, 81368: 23, 144478: 23, 28451: 23, 223438: 23, 87964: 23, 113663: 23, 129851: 23, 21356: 23, 129489: 23, 233911: 23, 82831: 23, 85433: 23, 18067: 23, 147965: 23, 29855: 23, 203044: 23, 79977: 23, 128060: 23, 271306: 23, 134837: 23, 218241: 23, 101304: 23, 24921: 23, 135703: 23, 190831: 22, 94853: 22, 204359: 22, 264947: 22, 259626: 22, 196047: 22, 160735: 22, 273190: 22, 51365: 22, 95010: 22, 206423: 22, 177233: 22, 98723: 22, 160295: 22, 139827: 22, 60858: 22, 168144: 22, 109461: 22, 84479: 22, 234765: 22, 71490: 22, 50823: 22, 110440: 22, 37874: 22, 225078: 22, 32599: 22, 174726: 22, 142715: 22, 104243: 22, 208897: 22, 37227: 22, 37293: 22, 171602: 22, 66878: 22, 164533: 22, 53278: 22, 53241: 22, 277523: 22, 28594: 22, 158606: 22, 23511: 22, 259320: 22, 165866: 22, 88229: 22, 107021: 22, 276641: 22, 187574: 22, 94494: 22, 36807: 22, 223201: 22, 227702: 22, 217468: 22, 21484: 22, 197687: 22, 76888: 22, 112953: 22, 9613: 22, 113030: 22, 149661: 22, 149907: 22, 81771: 22, 118628: 22, 273906: 22, 75115: 22, 198046: 22, 125287: 22, 8019: 22, 76168: 22, 155778: 22, 81121: 22, 41589: 22, 274393: 22, 38781: 22, 72352: 22, 199772: 22, 183187: 22, 112541: 22, 73056: 22, 217121: 21, 209464: 21, 119590: 21, 4385: 21, 42458: 21, 142623: 21, 216829: 21, 39646: 21, 36836: 21, 95921: 21, 8936: 21, 30985: 21, 173860: 21, 53590: 21, 123430: 21, 27812: 21, 123867: 21, 60319: 21, 143837: 21, 253821: 21, 171818: 21, 190885: 21, 189392: 21, 62542: 21, 271460: 21, 246634: 21, 26620: 21, 154070: 21, 56804: 21, 229768: 21, 99347: 21, 217106: 21, 124942: 21, 5499: 21, 63625: 21, 230013: 21, 190844: 21, 137190: 21, 135673: 21, 243929: 21, 218068: 21, 192119: 21, 269738: 21, 138097: 21, 18401: 21, 131027: 21, 176667: 21, 249958: 21, 273086: 21, 145737: 21, 32569: 21, 257024: 21, 196053: 21, 1131: 21, 204167: 21, 16916: 21, 203401: 21, 222941: 21, 46892: 21, 234165: 21, 21618: 21, 72523: 21, 83646: 21, 49900: 21, 240643: 21, 148590: 21, 128122: 21, 44845: 21, 146057: 21, 143964: 21, 6238: 21, 52521: 21, 144241: 21, 163358: 21, 182334: 21, 266466: 21, 236164: 21, 223879: 21, 89551: 21, 163307: 21, 210717: 21, 59189: 20, 250330: 20, 97290: 20, 78328: 20, 43006: 20, 183061: 20, 2030: 20, 179772: 20, 53456: 20, 98356: 20, 264634: 20, 53392: 20, 137588: 20, 217056: 20, 256407: 20, 115120: 20, 213523: 20, 138010: 20, 251003: 20, 55734: 20, 214315: 20, 57976: 20, 209229: 20, 20971: 20, 42323: 20, 55438: 20, 104058: 20, 181076: 20, 249989: 20, 253949: 20, 267830: 20, 45113: 20, 60050: 20, 41700: 20, 36817: 20, 254144: 20, 107865: 20, 208668: 20, 208555: 20, 190374: 20, 246776: 20, 278137: 20, 23871: 20, 78015: 20, 273718: 20, 75860: 20, 81207: 20, 243065: 20, 240370: 20, 65877: 20, 244657: 20, 140555: 20, 75081: 20, 87911: 20, 33933: 20, 233445: 20, 148586: 20, 7841: 20, 161039: 20, 74453: 20, 157163: 20, 30081: 20, 244286: 20, 85367: 20, 243879: 20, 272225: 20, 165345: 20, 84523: 20, 149071: 20, 90391: 20, 227884: 20, 71853: 20, 8362: 20, 143909: 20, 164926: 20, 67627: 20, 200643: 20, 205919: 20, 201017: 20, 230374: 20, 152645: 20, 152579: 20, 274325: 20, 164584: 20, 90232: 20, 26240: 20, 95506: 20, 88738: 20, 140069: 20, 178240: 19, 128325: 19, 212328: 19, 71712: 19, 49771: 19, 212628: 19, 204393: 19, 250368: 19, 275154: 19, 51252: 19, 69933: 19, 6532: 19, 161299: 19, 130482: 19, 162671: 19, 266753: 19, 145369: 19, 89014: 19, 131032: 19, 249407: 19, 33283: 19, 37512: 19, 275020: 19, 207341: 19, 17282: 19, 181212: 19, 114085: 19, 150663: 19, 155913: 19, 253005: 19, 238849: 19, 155580: 19, 201783: 19, 255092: 19, 123460: 19, 80071: 19, 117111: 19, 278582: 19, 77181: 19, 153513: 19, 40330: 19, 30810: 19, 183284: 19, 125779: 19, 220278: 19, 269835: 19, 44728: 19, 221655: 19, 185677: 19, 38654: 19, 179739: 19, 48217: 19, 213316: 19, 72990: 19, 112083: 19, 242143: 19, 9747: 19, 240051: 19, 197502: 19, 30035: 19, 149483: 19, 278194: 19, 197775: 19, 74758: 19, 33319: 19, 88122: 19, 131622: 19, 62464: 19, 137816: 19, 12100: 19, 231264: 19, 65228: 19, 55142: 19, 100578: 19, 98628: 19, 55178: 19, 59059: 19, 264862: 19, 142062: 19, 208141: 19, 265751: 19, 34752: 19, 60427: 19, 171968: 19, 226616: 19, 141511: 19, 208815: 19, 210597: 19, 166824: 19, 265553: 19, 94787: 19, 136255: 19, 165806: 19, 135831: 19, 170762: 19, 229502: 19, 188659: 19, 243058: 19, 192710: 19, 90049: 19, 91002: 19, 168816: 19, 53418: 19, 168642: 19, 207835: 19, 131837: 19, 263344: 19, 16246: 19, 59727: 19, 53256: 19, 96970: 19, 224768: 19, 168216: 19, 194614: 19, 113955: 18, 200422: 18, 245568: 18, 252827: 18, 150124: 18, 114007: 18, 77724: 18, 192245: 18, 181077: 18, 59912: 18, 57234: 18, 100227: 18, 120828: 18, 200245: 18, 215829: 18, 156584: 18, 153174: 18, 79215: 18, 236959: 18, 76173: 18, 245649: 18, 200674: 18, 218411: 18, 169233: 18, 253629: 18, 95923: 18, 78846: 18, 244742: 18, 168034: 18, 95250: 18, 151104: 18, 137118: 18, 76710: 18, 125063: 18, 61910: 18, 245088: 18, 58255: 18, 197410: 18, 252347: 18, 109899: 18, 133284: 18, 248468: 18, 160541: 18, 129338: 18, 104334: 18, 233903: 18, 132851: 18, 129465: 18, 209974: 18, 161467: 18, 132171: 18, 87949: 18, 162376: 18, 188513: 18, 68249: 18, 138777: 18, 210874: 18, 68156: 18, 52175: 18, 66073: 18, 164581: 18, 131686: 18, 210822: 18, 104812: 18, 174848: 18, 212385: 18, 50129: 18, 165884: 18, 92132: 18, 112881: 18, 94242: 18, 243942: 18, 101731: 18, 112559: 18, 157799: 18, 141601: 18, 93364: 18, 171904: 18, 83754: 18, 179744: 18, 111637: 18, 172091: 18, 126903: 18, 55751: 18, 240401: 18, 134483: 18, 196775: 18, 133935: 18, 103541: 18, 179288: 18, 142212: 18, 71752: 18, 128208: 18, 248098: 18, 120565: 18, 137211: 18, 26057: 18, 22045: 18, 30716: 18, 9227: 18, 32195: 18, 36554: 18, 805: 18, 12835: 18, 3917: 18, 3346: 18, 16545: 18, 271144: 18, 20462: 18, 21252: 18, 28016: 18, 273813: 18, 17859: 18, 25436: 18, 28523: 18, 23699: 18, 260388: 18, 23547: 18, 35445: 18, 260067: 17, 124983: 17, 16488: 17, 274056: 17, 170073: 17, 17190: 17, 216670: 17, 276847: 17, 8734: 17, 233526: 17, 147307: 17, 45418: 17, 98484: 17, 180957: 17, 187904: 17, 114178: 17, 159868: 17, 132492: 17, 102705: 17, 224303: 17, 113944: 17, 240906: 17, 16263: 17, 23680: 17, 24627: 17, 121986: 17, 201641: 17, 246655: 17, 71102: 17, 31040: 17, 252848: 17, 70931: 17, 167521: 17, 61257: 17, 152409: 17, 152435: 17, 98741: 17, 201353: 17, 215278: 17, 241198: 17, 39227: 17, 273344: 17, 232990: 17, 102772: 17, 185308: 17, 135043: 17, 86392: 17, 197206: 17, 251242: 17, 270737: 17, 166017: 17, 114813: 17, 193560: 17, 177284: 17, 83109: 17, 269439: 17, 68943: 17, 178797: 17, 48743: 17, 186837: 17, 250936: 17, 130847: 17, 126149: 17, 30029: 17, 178035: 17, 235506: 17, 14958: 17, 186762: 17, 210738: 17, 96554: 17, 204909: 17, 47609: 17, 116122: 17, 167349: 17, 79285: 17, 153653: 17, 16009: 17, 77940: 17, 159822: 17, 110382: 17, 141010: 17, 19842: 17, 234023: 17, 166922: 17, 105476: 17, 3923: 17, 95574: 17, 114446: 17, 32148: 17, 79009: 17, 108535: 17, 105536: 17, 11687: 17, 211430: 17, 228579: 17, 67270: 17, 129690: 17, 11657: 17, 266355: 17, 235895: 17, 220664: 17, 183347: 17, 215139: 17, 277157: 17, 128332: 17, 206438: 17, 202711: 17, 162780: 17, 148804: 17, 266229: 17, 203017: 17, 144516: 17, 247060: 17, 10354: 17, 62895: 17, 230708: 17, 240756: 17, 269244: 17, 118484: 17, 144619: 17, 254160: 17, 263645: 17, 212849: 17, 248221: 17, 162562: 17, 104505: 17, 74691: 17, 148314: 17, 93631: 17, 104413: 17, 91647: 17, 92979: 17, 224904: 17, 108243: 17, 138441: 17, 253556: 17, 91634: 17, 98930: 17, 259155: 17, 277203: 16, 228311: 16, 194172: 16, 267282: 16, 185275: 16, 160032: 16, 33999: 16, 173486: 16, 174151: 16, 134311: 16, 150498: 16, 175636: 16, 38660: 16, 243951: 16, 153211: 16, 235146: 16, 239688: 16, 114216: 16, 228868: 16, 122506: 16, 174072: 16, 211351: 16, 60583: 16, 102220: 16, 41757: 16, 188696: 16, 179733: 16, 125411: 16, 217107: 16, 127914: 16, 255814: 16, 30594: 16, 37974: 16, 25919: 16, 184279: 16, 194669: 16, 93034: 16, 166391: 16, 199092: 16, 208568: 16, 205383: 16, 110214: 16, 132663: 16, 271000: 16, 154730: 16, 176875: 16, 237411: 16, 58961: 16, 141719: 16, 204936: 16, 139387: 16, 243: 16, 189115: 16, 66323: 16, 57105: 16, 25131: 16, 100648: 16, 158846: 16, 214272: 16, 59209: 16, 158774: 16, 47128: 16, 225686: 16, 92853: 16, 224159: 16, 97179: 16, 222912: 16, 40922: 16, 132083: 16, 195469: 16, 173111: 16, 209563: 16, 17183: 16, 22252: 16, 246617: 16, 262399: 16, 167678: 16, 30052: 16, 167614: 16, 167587: 16, 57449: 16, 94923: 16, 88620: 16, 169824: 16, 65663: 16, 50141: 16, 196052: 16, 161200: 16, 141203: 16, 102564: 16, 71587: 16, 268833: 16, 33862: 16, 138867: 16, 211152: 16, 269799: 16, 266650: 16, 253226: 16, 54453: 16, 151589: 16, 151824: 16, 218221: 16, 269728: 16, 142584: 16, 204964: 16, 151503: 16, 188483: 16, 88389: 16, 181796: 16, 208019: 16, 264996: 16, 64270: 16, 81216: 16, 198213: 16, 262940: 16, 70649: 16, 56661: 16, 162030: 16, 225938: 16, 128732: 16, 152651: 16, 95025: 16, 206959: 16, 249223: 16, 147420: 16, 104362: 16, 278202: 16, 47856: 16, 131594: 16, 203900: 16, 97721: 16, 259057: 16, 120696: 16, 227025: 16, 42573: 16, 196148: 16, 27140: 16, 104880: 16, 249111: 16, 97694: 15, 178079: 15, 221510: 15, 216962: 15, 26145: 15, 72575: 15, 132909: 15, 119505: 15, 257700: 15, 135753: 15, 25395: 15, 2179: 15, 165268: 15, 193469: 15, 108752: 15, 218976: 15, 144667: 15, 250405: 15, 165232: 15, 262040: 15, 105968: 15, 49889: 15, 139243: 15, 139126: 15, 20336: 15, 221753: 15, 30898: 15, 37311: 15, 266164: 15, 20561: 15, 70703: 15, 36749: 15, 161974: 15, 246512: 15, 37168: 15, 268540: 15, 209486: 15, 25583: 15, 260316: 15, 76576: 15, 2313: 15, 70864: 15, 110887: 15, 269273: 15, 53846: 15, 15819: 15, 261037: 15, 57599: 15, 76102: 15, 174914: 15, 54898: 15, 221870: 15, 258084: 15, 194605: 15, 227097: 15, 162001: 15, 3145: 15, 124298: 15, 195386: 15, 30555: 15, 177040: 15, 250101: 15, 162827: 15, 249953: 15, 108950: 15, 12515: 15, 204696: 15, 37623: 15, 134005: 15, 162590: 15, 100009: 15, 226482: 15, 237433: 15, 249695: 15, 196282: 15, 175978: 15, 237856: 15, 162311: 15, 189474: 15, 163851: 15, 37527: 15, 74185: 15, 144910: 15, 206675: 15, 11400: 15, 71739: 15, 24186: 15, 209238: 15, 6772: 15, 1848: 15, 192462: 15, 137137: 15, 192244: 15, 153723: 15, 184629: 15, 38933: 15, 151608: 15, 108485: 15, 121817: 15, 170415: 15, 34801: 15, 253580: 15, 95525: 15, 168036: 15, 208112: 15, 228727: 15, 201697: 15, 166825: 15, 251606: 15, 16504: 15, 154543: 15, 154553: 15, 114581: 15, 166409: 15, 151098: 15, 253771: 15, 1674: 15, 277965: 15, 219949: 15, 243720: 15, 151653: 15, 231993: 15, 219924: 15, 276307: 15, 147678: 15, 127131: 15, 106893: 15, 225887: 15, 242962: 15, 127190: 15, 127049: 15, 271531: 15, 244915: 15, 201058: 15, 45107: 15, 167478: 15, 132392: 15, 233578: 15, 192211: 15, 38995: 15, 28667: 15, 170184: 15, 229331: 15, 89507: 15, 61798: 15, 12917: 15, 86489: 15, 220122: 15, 46269: 15, 46293: 15, 232052: 15, 113435: 15, 8234: 15, 8872: 15, 41449: 15, 41177: 15, 92152: 15, 33145: 15, 121251: 15, 165582: 15, 186527: 15, 202358: 15, 262541: 15, 183287: 15, 128033: 15, 122801: 15, 93147: 15, 7958: 15, 94263: 15, 245534: 15, 139467: 15, 228154: 15, 93046: 15, 213641: 15, 244189: 15, 48579: 15, 41911: 15, 178914: 15, 23288: 15, 168388: 15, 125928: 15, 155495: 15, 112401: 15, 223156: 15, 119858: 15, 132282: 15, 22365: 15, 209631: 14, 128331: 14, 143497: 14, 140340: 14, 99996: 14, 260419: 14, 118677: 14, 43806: 14, 142600: 14, 208382: 14, 104569: 14, 123790: 14, 210317: 14, 224340: 14, 35050: 14, 102642: 14, 230030: 14, 123510: 14, 248656: 14, 8937: 14, 149084: 14, 248615: 14, 99630: 14, 72530: 14, 172119: 14, 203280: 14, 226772: 14, 144455: 14, 243075: 14, 149690: 14, 4938: 14, 229703: 14, 207965: 14, 161882: 14, 212859: 14, 91130: 14, 112845: 14, 205281: 14, 76803: 14, 223386: 14, 42410: 14, 195116: 14, 91203: 14, 231897: 14, 206691: 14, 112672: 14, 74665: 14, 55607: 14, 231263: 14, 23771: 14, 231255: 14, 143294: 14, 124259: 14, 151101: 14, 63938: 14, 144899: 14, 42597: 14, 16781: 14, 107258: 14, 137222: 14, 276964: 14, 43021: 14, 64679: 14, 98887: 14, 118135: 14, 140080: 14, 169057: 14, 55858: 14, 221040: 14, 31343: 14, 191523: 14, 75089: 14, 55006: 14, 55027: 14, 91017: 14, 104311: 14, 189855: 14, 238246: 14, 217516: 14, 274199: 14, 269557: 14, 227467: 14, 196891: 14, 35320: 14, 245157: 14, 84897: 14, 14667: 14, 237064: 14, 85043: 14, 126726: 14, 179857: 14, 135367: 14, 5539: 14, 234281: 14, 68256: 14, 131441: 14, 116301: 14, 179939: 14, 14638: 14, 70065: 14, 177683: 14, 16601: 14, 190459: 14, 171082: 14, 7082: 14, 177186: 14, 259380: 14, 234954: 14, 59390: 14, 223953: 14, 69188: 14, 157655: 14, 83496: 14, 177295: 14, 155141: 14, 235099: 14, 259378: 14, 193470: 14, 228351: 14, 7286: 14, 119671: 14, 25930: 14, 276521: 14, 115929: 14, 157380: 14, 106294: 14, 274656: 14, 225066: 14, 198726: 14, 119594: 14, 277639: 14, 275922: 14, 214436: 14, 180591: 14, 274423: 14, 194287: 14, 238008: 14, 238057: 14, 185254: 14, 8782: 14, 138202: 14, 113983: 14, 249140: 14, 129368: 14, 185087: 14, 152696: 14, 143809: 14, 235884: 14, 49314: 14, 269719: 14, 109427: 14, 135776: 14, 265656: 14, 244814: 14, 153361: 14, 59971: 14, 242528: 14, 32122: 14, 46351: 14, 26517: 14, 25827: 14, 5903: 14, 60475: 14, 78440: 14, 15021: 14, 252222: 14, 276688: 14, 129883: 14, 63360: 13, 62881: 13, 12154: 13, 34600: 13, 132199: 13, 59656: 13, 244070: 13, 241565: 13, 190185: 13, 216027: 13, 59770: 13, 132188: 13, 110317: 13, 71900: 13, 109864: 13, 19573: 13, 68568: 13, 18979: 13, 72100: 13, 189104: 13, 62958: 13, 100393: 13, 119517: 13, 276038: 13, 58612: 13, 58529: 13, 15957: 13, 70402: 13, 66443: 13, 66387: 13, 34932: 13, 64946: 13, 110112: 13, 130950: 13, 25253: 13, 123543: 13, 58142: 13, 244736: 13, 65791: 13, 110076: 13, 241086: 13, 104268: 13, 109741: 13, 242007: 13, 166830: 13, 71786: 13, 32329: 13, 171045: 13, 59180: 13, 60168: 13, 123215: 13, 64241: 13, 121594: 13, 259660: 13, 59038: 13, 225912: 13, 69775: 13, 5037: 13, 268711: 13, 259829: 13, 193750: 13, 246000: 13, 142680: 13, 275111: 13, 223814: 13, 26371: 13, 154975: 13, 154944: 13, 106280: 13, 234675: 13, 234672: 13, 106331: 13, 219951: 13, 106369: 13, 84900: 13, 1548: 13, 136240: 13, 154354: 13, 86969: 13, 1211: 13, 251739: 13, 203603: 13, 85962: 13, 126812: 13, 270156: 13, 228789: 13, 267184: 13, 28865: 13, 212260: 13, 153322: 13, 126395: 13, 228321: 13, 48037: 13, 188799: 13, 38034: 13, 50849: 13, 30495: 13, 50681: 13, 177277: 13, 50612: 13, 80642: 13, 97208: 13, 80826: 13, 135411: 13, 111286: 13, 38464: 13, 208683: 13, 1903: 13, 49154: 13, 264355: 13, 208605: 13, 82825: 13, 126240: 13, 277945: 13, 155444: 13, 48268: 13, 146564: 13, 8695: 13, 929: 13, 208907: 13, 137397: 13, 94529: 13, 266842: 13, 42419: 13, 183963: 13, 182847: 13, 151002: 13, 107510: 13, 183088: 13, 26713: 13, 128434: 13, 229632: 13, 17177: 13, 87351: 13, 10241: 13, 41364: 13, 230496: 13, 202381: 13, 10118: 13, 149120: 13, 40888: 13, 148798: 13, 10030: 13, 148863: 13, 183952: 13, 14387: 13, 182442: 13, 253482: 13, 182403: 13, 87540: 13, 8801: 13, 213255: 13, 185011: 13, 39219: 13, 44842: 13, 278356: 13, 208415: 13, 181714: 13, 263107: 13, 88416: 13, 28255: 13, 152309: 13, 108336: 13, 136561: 13, 201548: 13, 272120: 13, 252846: 13, 17761: 13, 89307: 13, 113531: 13, 39441: 13, 184789: 13, 7210: 13, 4785: 13, 141871: 13, 23652: 13, 98647: 13, 257492: 13, 238222: 13, 162155: 13, 218615: 13, 205843: 13, 117925: 13, 31468: 13, 257548: 13, 187822: 13, 159817: 13, 138176: 13, 34377: 13, 187613: 13, 269157: 13, 249058: 13, 175254: 13, 209147: 13, 117594: 13, 275220: 13, 174827: 13, 161265: 13, 20265: 13, 31256: 13, 25533: 13, 248540: 13, 98943: 13, 174428: 13, 134247: 13, 134508: 13, 130438: 13, 238419: 13, 264637: 13, 134761: 13, 118228: 13, 214879: 13, 56272: 13, 163326: 13, 176887: 13, 173684: 13, 104604: 13, 176597: 13, 25410: 13, 146078: 13, 23933: 13, 176459: 13, 78901: 13, 123988: 13, 176902: 13, 173343: 13, 37989: 13, 176348: 13, 224146: 13, 52159: 13, 7134: 13, 118533: 13, 144828: 13, 276017: 12, 89851: 12, 203161: 12, 208251: 12, 89867: 12, 136735: 12, 231891: 12, 204804: 12, 137684: 12, 202127: 12, 207971: 12, 232211: 12, 33816: 12, 275994: 12, 263321: 12, 161750: 12, 240789: 12, 148934: 12, 275306: 12, 147752: 12, 113661: 12, 242849: 12, 243312: 12, 240267: 12, 99032: 12, 118320: 12, 230699: 12, 243984: 12, 231081: 12, 168387: 12, 34087: 12, 34075: 12, 216386: 12, 91761: 12, 260699: 12, 9354: 12, 118275: 12, 152354: 12, 243745: 12, 263383: 12, 163433: 12, 231340: 12, 90657: 12, 90653: 12, 112240: 12, 195374: 12, 93130: 12, 239468: 12, 148662: 12, 64535: 12, 240224: 12, 210315: 12, 93355: 12, 27169: 12, 119248: 12, 201036: 12, 167494: 12, 152483: 12, 78778: 12, 78719: 12, 193131: 12, 29974: 12, 208600: 12, 25850: 12, 98297: 12, 193798: 12, 101141: 12, 67930: 12, 199025: 12, 14768: 12, 70379: 12, 10949: 12, 228445: 12, 216781: 12, 199209: 12, 241791: 12, 235498: 12, 70014: 12, 227591: 12, 197424: 12, 79724: 12, 80203: 12, 219008: 12, 80453: 12, 100782: 12, 79186: 12, 116183: 12, 81950: 12, 68886: 12, 79089: 12, 81274: 12, 236269: 12, 237264: 12, 156510: 12, 138138: 12, 67402: 12, 237898: 12, 164027: 12, 161037: 12, 76351: 12, 6662: 12, 6611: 12, 145003: 12, 233431: 12, 32250: 12, 8864: 12, 87820: 12, 163612: 12, 6566: 12, 161234: 12, 262974: 12, 265083: 12, 94952: 12, 134403: 12, 238779: 12, 15670: 12, 86641: 12, 84820: 12, 77270: 12, 166492: 12, 30806: 12, 14079: 12, 192479: 12, 120178: 12, 77491: 12, 136193: 12, 242361: 12, 114200: 12, 192353: 12, 100361: 12, 66518: 12, 76532: 12, 28938: 12, 221777: 12, 241042: 12, 240333: 12, 93698: 12, 191575: 12, 60546: 12, 187410: 12, 182746: 12, 187425: 12, 269386: 12, 55631: 12, 180495: 12, 13551: 12, 252806: 12, 174179: 12, 266522: 12, 212252: 12, 46099: 12, 36741: 12, 55272: 12, 248138: 12, 38950: 12, 265620: 12, 37968: 12, 177157: 12, 256507: 12, 266866: 12, 191014: 12, 206393: 12, 223954: 12, 61704: 12, 173728: 12, 271659: 12, 278390: 12, 170861: 12, 211231: 12, 51207: 12, 247840: 12, 254971: 12, 206109: 12, 269378: 12, 127203: 12, 252287: 12, 223530: 12, 272407: 12, 254038: 12, 175101: 12, 181223: 12, 174700: 12, 60307: 12, 253852: 12, 53664: 12, 19336: 12, 175003: 12, 107453: 12, 170527: 12, 245188: 12, 185147: 12, 222563: 12, 103304: 12, 53414: 12, 45416: 12, 37556: 12, 127481: 12, 125060: 12, 18384: 12, 211288: 12, 60445: 12, 248259: 12, 130581: 12, 213119: 12, 175278: 12, 245311: 12, 278843: 12, 266807: 12, 3840: 12, 109349: 12, 276313: 12, 267249: 12, 123625: 12, 139070: 12, 258240: 12, 47279: 12, 256247: 12, 59267: 12, 244359: 12, 172539: 12, 258151: 12, 178130: 12, 123649: 12, 172128: 12, 11916: 12, 141310: 12, 185771: 12, 246820: 12, 173131: 12, 643: 12, 172203: 12, 258011: 12, 128045: 12, 224923: 12, 178322: 12, 213760: 12, 213708: 12, 43004: 12, 251495: 12, 651: 12, 244662: 12, 188951: 12, 179147: 12, 245655: 12, 62172: 12, 38703: 12, 179075: 12, 177569: 12, 47971: 12, 63004: 12, 169600: 12, 16599: 12, 44756: 11, 233430: 11, 104051: 11, 161752: 11, 99026: 11, 27947: 11, 22107: 11, 268544: 11, 124747: 11, 227176: 11, 3556: 11, 161662: 11, 224944: 11, 75551: 11, 87929: 11, 275318: 11, 152742: 11, 194519: 11, 210923: 11, 3719: 11, 54884: 11, 31308: 11, 75119: 11, 196031: 11, 224927: 11, 123515: 11, 90174: 11, 39513: 11, 201141: 11, 184904: 11, 234925: 11, 57095: 11, 124079: 11, 26598: 11, 142143: 11, 31948: 11, 133738: 11, 173835: 11, 39502: 11, 44611: 11, 110746: 11, 130837: 11, 118434: 11, 89391: 11, 247664: 11, 163430: 11, 31919: 11, 72238: 11, 226926: 11, 71902: 11, 239736: 11, 57108: 11, 13279: 11, 270828: 11, 138515: 11, 208451: 11, 43163: 11, 88288: 11, 55487: 11, 43282: 11, 44535: 11, 28076: 11, 88435: 11, 57255: 11, 172613: 11, 232067: 11, 28360: 11, 12272: 11, 239692: 11, 252654: 11, 14461: 11, 6577: 11, 157082: 11, 222716: 11, 146266: 11, 179688: 11, 96771: 11, 49842: 11, 96869: 11, 141089: 11, 126697: 11, 186807: 11, 81303: 11, 81249: 11, 236322: 11, 81045: 11, 49423: 11, 16908: 11, 157252: 11, 236399: 11, 146175: 11, 25966: 11, 154126: 11, 177349: 11, 85587: 11, 7371: 11, 200009: 11, 85851: 11, 7352: 11, 198483: 11, 38544: 11, 54193: 11, 29497: 11, 96054: 11, 266678: 11, 262459: 11, 186312: 11, 219593: 11, 223816: 11, 20680: 11, 179327: 11, 203844: 11, 146530: 11, 271538: 11, 14744: 11, 155743: 11, 49392: 11, 38590: 11, 18172: 11, 178597: 11, 96474: 11, 198767: 11, 267538: 11, 47793: 11, 106208: 11, 273307: 11, 146345: 11, 141210: 11, 47779: 11, 233976: 11, 211770: 11, 79961: 11, 26553: 11, 15651: 11, 200568: 11, 233543: 11, 13995: 11, 116866: 11, 175287: 11, 271375: 11, 175271: 11, 116931: 11, 1025: 11, 175205: 11, 261314: 11, 277629: 11, 125538: 11, 153042: 11, 181165: 11, 76482: 11, 175070: 11, 160574: 11, 31008: 11, 205967: 11, 105108: 11, 160803: 11, 275210: 11, 270897: 11, 270339: 11, 37493: 11, 153283: 11, 270906: 11, 126860: 11, 51184: 11, 79923: 11, 177073: 11, 236840: 11, 126810: 11, 2337: 11, 114279: 11, 79736: 11, 158385: 11, 79556: 11, 105627: 11, 221557: 11, 98026: 11, 176481: 11, 237275: 11, 30712: 11, 86242: 11, 218760: 11, 116395: 11, 208960: 11, 111133: 11, 78496: 11, 237434: 11, 30770: 11, 196253: 11, 215388: 11, 55789: 11, 67515: 11, 170595: 11, 16155: 11, 215942: 11, 193350: 11, 65145: 11, 222353: 11, 267642: 11, 102375: 11, 184196: 11, 259430: 11, 229681: 11, 32516: 11, 93358: 11, 208095: 11, 191188: 11, 244593: 11, 69252: 11, 169310: 11, 65208: 11, 241749: 11, 92398: 11, 90776: 11, 278535: 11, 216435: 11, 64435: 11, 230293: 11, 66640: 11, 10199: 11, 16121: 11, 241597: 11, 34987: 11, 67910: 11, 170154: 11, 16161: 11, 4157: 11, 41596: 11, 263842: 11, 143134: 11, 137620: 11, 91119: 11, 191165: 11, 170227: 11, 65032: 11, 191803: 11, 151043: 11, 202353: 11, 223210: 11, 210573: 11, 225191: 11, 167327: 11, 226267: 11, 169249: 11, 202195: 11, 202532: 11, 241885: 11, 58792: 11, 58877: 11, 133258: 11, 62688: 11, 164492: 11, 32188: 11, 205285: 11, 215947: 11, 225989: 11, 68383: 11, 170499: 11, 220759: 11, 254053: 11, 4795: 11, 132572: 11, 207385: 11, 92156: 11, 108143: 11, 67288: 11, 245963: 11, 164480: 11, 58911: 11, 208077: 11, 244761: 11, 210035: 11, 24846: 11, 216099: 11, 216882: 11, 244139: 11, 242465: 11, 149843: 11, 183753: 11, 168971: 11, 119326: 11, 143103: 11, 193769: 11, 112298: 11, 122958: 11, 230115: 11, 168464: 11, 69709: 11, 40505: 11, 256844: 10, 93985: 10, 233889: 10, 225435: 10, 158714: 10, 52203: 10, 150327: 10, 63389: 10, 120735: 10, 187520: 10, 65913: 10, 46295: 10, 176486: 10, 158984: 10, 13604: 10, 94023: 10, 46145: 10, 120610: 10, 52002: 10, 28820: 10, 46258: 10, 225449: 10, 78841: 10, 12537: 10, 112408: 10, 128406: 10, 226462: 10, 184310: 10, 4197: 10, 22912: 10, 266478: 10, 185296: 10, 37447: 10, 77499: 10, 127648: 10, 138239: 10, 204474: 10, 267444: 10, 86959: 10, 66789: 10, 148263: 10, 37310: 10, 246216: 10, 109519: 10, 45383: 10, 98722: 10, 196137: 10, 127564: 10, 35233: 10, 202706: 10, 45340: 10, 109013: 10, 175529: 10, 192158: 10, 252292: 10, 116537: 10, 176102: 10, 233856: 10, 237486: 10, 125217: 10, 138189: 10, 125216: 10, 141819: 10, 187801: 10, 223587: 10, 249496: 10, 210599: 10, 213312: 10, 66483: 10, 41403: 10, 66487: 10, 203506: 10, 102945: 10, 77772: 10, 167189: 10, 180840: 10, 14180: 10, 50859: 10, 197000: 10, 205197: 10, 106059: 10, 112109: 10, 135799: 10, 82164: 10, 243785: 10, 7887: 10, 212697: 10, 250764: 10, 138124: 10, 262391: 10, 274466: 10, 129373: 10, 197939: 10, 24641: 10, 64396: 10, 236097: 10, 29204: 10, 115537: 10, 30261: 10, 146207: 10, 251518: 10, 33958: 10, 185671: 10, 236267: 10, 243891: 10, 186039: 10, 256133: 10, 135869: 10, 268239: 10, 63507: 10, 228245: 10, 83971: 10, 83235: 10, 191560: 10, 96320: 10, 143427: 10, 198982: 10, 262407: 10, 96335: 10, 202564: 10, 211961: 10, 183883: 10, 254405: 10, 48630: 10, 265607: 10, 34636: 10, 244452: 10, 27091: 10, 135895: 10, 34115: 10, 40798: 10, 213410: 10, 128915: 10, 2358: 10, 41111: 10, 110040: 10, 180032: 10, 85701: 10, 95393: 10, 200206: 10, 238540: 10, 26516: 10, 12569: 10, 158103: 10, 203598: 10, 244710: 10, 120873: 10, 243448: 10, 183540: 10, 254278: 10, 22813: 10, 263663: 10, 233917: 10, 122096: 10, 18311: 10, 111241: 10, 236943: 10, 51386: 10, 214212: 10, 273197: 10, 85554: 10, 41086: 10, 95509: 10, 251642: 10, 81136: 10, 135653: 10, 81088: 10, 129399: 10, 81015: 10, 7620: 10, 205072: 10, 149231: 10, 227681: 10, 80837: 10, 108773: 10, 80820: 10, 30445: 10, 50204: 10, 137434: 10, 15135: 10, 50205: 10, 38176: 10, 141070: 10, 277744: 10, 267326: 10, 33832: 10, 27462: 10, 87051: 10, 67085: 10, 72785: 10, 140255: 10, 252829: 10, 240131: 10, 144194: 10, 217811: 10, 13973: 10, 89207: 10, 226713: 10, 182088: 10, 99523: 10, 36326: 10, 56470: 10, 127171: 10, 268786: 10, 118489: 10, 72601: 10, 271588: 10, 247626: 10, 220484: 10, 152016: 10, 68846: 10, 72418: 10, 28144: 10, 12194: 10, 113657: 10, 181995: 10, 170742: 10, 113752: 10, 267596: 10, 232838: 10, 106950: 10, 12784: 10, 138647: 10, 247918: 10, 44297: 10, 174034: 10, 74106: 10, 232756: 10, 130784: 10, 117963: 10, 184479: 10, 162538: 10, 203380: 10, 28222: 10, 73741: 10, 195079: 10, 99312: 10, 181956: 10, 21229: 10, 200978: 10, 31609: 10, 56039: 10, 28096: 10, 247444: 10, 270069: 10, 163759: 10, 71207: 10, 20119: 10, 103811: 10, 276670: 10, 58062: 10, 69808: 10, 241080: 10, 182393: 10, 194358: 10, 246470: 10, 127384: 10, 273507: 10, 31860: 10, 163761: 10, 3640: 10, 104098: 10, 171846: 10, 58768: 10, 148028: 10, 42847: 10, 241357: 10, 138529: 10, 103935: 10, 131099: 10, 171050: 10, 193738: 10, 164549: 10, 151762: 10, 131238: 10, 43678: 10, 182180: 10, 100815: 10, 43626: 10, 207275: 10, 43436: 10, 144223: 10, 273993: 10, 59305: 10, 240609: 10, 172700: 10, 43359: 10, 17402: 10, 148121: 10, 123203: 10, 71628: 10, 275520: 10, 108267: 10, 246798: 10, 151420: 10, 90137: 10, 57713: 10, 152468: 10, 195049: 10, 179118: 10, 202036: 10, 60157: 10, 104925: 10, 120080: 10, 161831: 10, 152770: 10, 174633: 10, 134118: 10, 137627: 10, 227192: 10, 24995: 10, 45184: 10, 161373: 10, 76218: 10, 221232: 10, 152942: 10, 170522: 10, 242037: 10, 267648: 10, 206891: 10, 239070: 10, 174615: 10, 25545: 10, 140167: 10, 6537: 10, 54206: 10, 216724: 10, 13664: 10, 174625: 10, 103315: 10, 214920: 10, 113817: 10, 111816: 10, 238630: 10, 60079: 10, 188171: 10, 248280: 10, 253964: 10, 6431: 10, 150762: 10, 160548: 10, 278221: 10, 67296: 10, 119631: 10, 24525: 10, 162019: 10, 204676: 10, 26583: 10, 110165: 10, 39705: 10, 193106: 10, 59933: 10, 44472: 10, 106845: 10, 36978: 10, 31412: 10, 74689: 10, 55398: 10, 196018: 10, 265205: 10, 8890: 10, 161348: 10, 211137: 10, 181691: 10, 248531: 10, 95043: 10, 188490: 10, 248064: 10, 202963: 10, 231395: 9, 137006: 9, 154781: 9, 140863: 9, 231149: 9, 27888: 9, 47512: 9, 90075: 9, 254355: 9, 180860: 9, 126585: 9, 84729: 9, 253311: 9, 185140: 9, 27193: 9, 212568: 9, 253310: 9, 40772: 9, 153091: 9, 17894: 9, 147947: 9, 179216: 9, 41760: 9, 213638: 9, 136916: 9, 40612: 9, 29570: 9, 254467: 9, 26813: 9, 222743: 9, 135996: 9, 14374: 9, 251122: 9, 220586: 9, 90467: 9, 150587: 9, 87108: 9, 84178: 9, 223253: 9, 113279: 9, 90614: 9, 127621: 9, 388: 9, 262634: 9, 255786: 9, 43157: 9, 84201: 9, 251467: 9, 182345: 9, 267802: 9, 203805: 9, 185154: 9, 8187: 9, 95907: 9, 86123: 9, 1585: 9, 232708: 9, 28454: 9, 232583: 9, 126803: 9, 42466: 9, 44595: 9, 181948: 9, 220095: 9, 114378: 9, 254863: 9, 112199: 9, 230629: 9, 221327: 9, 114217: 9, 46154: 9, 88993: 9, 231251: 9, 94965: 9, 201923: 9, 93085: 9, 146855: 9, 278554: 9, 86093: 9, 114265: 9, 207924: 9, 44467: 9, 1155: 9, 111924: 9, 139586: 9, 41395: 9, 10668: 9, 220091: 9, 184465: 9, 220911: 9, 85992: 9, 13082: 9, 44296: 9, 46461: 9, 41123: 9, 91491: 9, 39372: 9, 146778: 9, 183572: 9, 46907: 9, 253626: 9, 199795: 9, 91631: 9, 106406: 9, 136237: 9, 44389: 9, 213197: 9, 179741: 9, 141109: 9, 212439: 9, 233361: 9, 263326: 9, 223066: 9, 151263: 9, 128014: 9, 27383: 9, 38887: 9, 228738: 9, 128276: 9, 41634: 9, 108261: 9, 147803: 9, 43901: 9, 231337: 9, 43850: 9, 42099: 9, 8680: 9, 254995: 9, 127782: 9, 200402: 9, 17906: 9, 199871: 9, 39159: 9, 43807: 9, 263560: 9, 46671: 9, 251721: 9, 151991: 9, 176256: 9, 199016: 9, 133905: 9, 205487: 9, 258109: 9, 11532: 9, 172216: 9, 100115: 9, 246766: 9, 240829: 9, 194636: 9, 57369: 9, 240677: 9, 189120: 9, 110558: 9, 247010: 9, 207563: 9, 247201: 9, 240541: 9, 24105: 9, 211098: 9, 240484: 9, 171986: 9, 58342: 9, 123468: 9, 123154: 9, 193412: 9, 103577: 9, 68768: 9, 19145: 9, 275638: 9, 123143: 9, 69042: 9, 165073: 9, 226393: 9, 70628: 9, 171007: 9, 24391: 9, 133166: 9, 20034: 9, 267354: 9, 20106: 9, 119027: 9, 118881: 9, 72190: 9, 72296: 9, 259542: 9, 144707: 9, 36673: 9, 162380: 9, 74215: 9, 20150: 9, 162219: 9, 205765: 9, 74356: 9, 174195: 9, 162121: 9, 74493: 9, 239554: 9, 239488: 9, 20245: 9, 226987: 9, 205943: 9, 117700: 9, 99102: 9, 138379: 9, 257454: 9, 124175: 9, 215071: 9, 217818: 9, 13331: 9, 240318: 9, 257699: 9, 277195: 9, 240225: 9, 31740: 9, 56360: 9, 194646: 9, 73022: 9, 173773: 9, 23847: 9, 240113: 9, 209536: 9, 56157: 9, 162762: 9, 262469: 9, 124066: 9, 260678: 9, 3331: 9, 59612: 9, 245604: 9, 117577: 9, 225542: 9, 11944: 9, 167844: 9, 191883: 9, 244708: 9, 207450: 9, 265403: 9, 65191: 9, 167722: 9, 16417: 9, 35030: 9, 120829: 9, 210168: 9, 272786: 9, 61348: 9, 167562: 9, 65484: 9, 131657: 9, 167507: 9, 4334: 9, 168029: 9, 64449: 9, 62239: 9, 121167: 9, 216100: 9, 168985: 9, 169006: 9, 63714: 9, 244349: 9, 259078: 9, 34215: 9, 169223: 9, 4622: 9, 205145: 9, 62582: 9, 244484: 9, 102129: 9, 138883: 9, 244517: 9, 169309: 9, 258690: 9, 121083: 9, 65817: 9, 4221: 9, 103496: 9, 222210: 9, 67403: 9, 142861: 9, 222152: 9, 132684: 9, 33264: 9, 5439: 9, 67677: 9, 122782: 9, 144062: 9, 33200: 9, 132786: 9, 268761: 9, 245328: 9, 165914: 9, 265918: 9, 142823: 9, 119654: 9, 241861: 9, 5543: 9, 190448: 9, 110208: 9, 131363: 9, 120548: 9, 110110: 9, 109605: 9, 192185: 9, 192191: 9, 13607: 9, 242499: 9, 170256: 9, 265784: 9, 143939: 9, 166646: 9, 215709: 9, 66797: 9, 268691: 9, 120333: 9, 66960: 9, 60392: 9, 120332: 9, 24934: 9, 227054: 9, 24878: 9, 227072: 9, 277710: 9, 250733: 9, 116428: 9, 52293: 9, 145861: 9, 96679: 9, 223892: 9, 52044: 9, 116123: 9, 227413: 9, 96880: 9, 81484: 9, 26084: 9, 96936: 9, 249939: 9, 235952: 9, 81855: 9, 187598: 9, 98322: 9, 249732: 9, 141805: 9, 235842: 9, 187747: 9, 235684: 9, 249650: 9, 261567: 9, 2012: 9, 209163: 9, 273071: 9, 130166: 9, 187835: 9, 159977: 9, 51665: 9, 196886: 9, 178223: 9, 277928: 9, 129393: 9, 135681: 9, 115679: 9, 158033: 9, 177195: 9, 177862: 9, 97515: 9, 16871: 9, 30333: 9, 97423: 9, 236587: 9, 177451: 9, 157127: 9, 177660: 9, 80075: 9, 30531: 9, 125878: 9, 81434: 9, 7312: 9, 96954: 9, 2288: 9, 79942: 9, 115552: 9, 236754: 9, 146083: 9, 79747: 9, 221543: 9, 125514: 9, 197012: 9, 124474: 9, 176879: 9, 198557: 9, 178151: 9, 53042: 9, 238541: 9, 251019: 9, 83252: 9, 36938: 9, 109107: 9, 195943: 9, 248492: 9, 188379: 9, 53575: 9, 175117: 9, 54605: 9, 195965: 9, 160434: 9, 29915: 9, 145165: 9, 228206: 9, 82968: 9, 134347: 9, 188038: 9, 212088: 9, 6564: 9, 75701: 9, 31158: 9, 20703: 9, 31226: 9, 83239: 9, 222614: 9, 37235: 9, 53520: 9, 106114: 9, 106131: 9, 187981: 9, 277937: 9, 14049: 9, 134784: 9, 160154: 9, 98958: 9, 261327: 9, 98923: 9, 37239: 9, 214686: 9, 251093: 9, 204571: 9, 48929: 9, 238350: 9, 269344: 9, 48911: 9, 124720: 9, 83383: 9, 228313: 8, 108753: 8, 96989: 8, 222788: 8, 93732: 8, 21903: 8, 229922: 8, 111634: 8, 138954: 8, 26196: 8, 143302: 8, 143965: 8, 11832: 8, 96053: 8, 101550: 8, 107921: 8, 202942: 8, 266872: 8, 228455: 8, 26774: 8, 101874: 8, 267644: 8, 141157: 8, 26756: 8, 139524: 8, 96521: 8, 96493: 8, 202885: 8, 146421: 8, 107889: 8, 138073: 8, 108563: 8, 140005: 8, 11788: 8, 24733: 8, 227925: 8, 102668: 8, 146699: 8, 26134: 8, 13080: 8, 227859: 8, 138018: 8, 272715: 8, 14232: 8, 265276: 8, 101336: 8, 148191: 8, 25996: 8, 94334: 8, 226745: 8, 94818: 8, 104550: 8, 226702: 8, 98655: 8, 142442: 8, 224308: 8, 110609: 8, 12863: 8, 273440: 8, 227282: 8, 273465: 8, 224236: 8, 94730: 8, 11362: 8, 26624: 8, 109388: 8, 145644: 8, 147166: 8, 203441: 8, 106816: 8, 272423: 8, 106946: 8, 98988: 8, 147649: 8, 140763: 8, 203422: 8, 205878: 8, 272202: 8, 264284: 8, 272233: 8, 99193: 8, 105115: 8, 144925: 8, 99222: 8, 139206: 8, 264828: 8, 109135: 8, 142134: 8, 109122: 8, 99313: 8, 11529: 8, 147900: 8, 95226: 8, 97598: 8, 101035: 8, 103467: 8, 108213: 8, 103445: 8, 138674: 8, 95360: 8, 224122: 8, 97653: 8, 95452: 8, 25103: 8, 141600: 8, 97587: 8, 139462: 8, 205426: 8, 13666: 8, 204255: 8, 111261: 8, 97160: 8, 144151: 8, 142766: 8, 23020: 8, 144315: 8, 98344: 8, 140294: 8, 22464: 8, 25216: 8, 142672: 8, 225002: 8, 111166: 8, 226394: 8, 204825: 8, 148142: 8, 11638: 8, 148030: 8, 12123: 8, 95261: 8, 103656: 8, 94495: 8, 148124: 8, 222688: 8, 99322: 8, 74328: 8, 93636: 8, 258777: 8, 35081: 8, 122386: 8, 244873: 8, 61146: 8, 61211: 8, 122045: 8, 61619: 8, 61762: 8, 4600: 8, 61845: 8, 244676: 8, 19429: 8, 169400: 8, 131974: 8, 169192: 8, 60977: 8, 258913: 8, 62968: 8, 168763: 8, 244056: 8, 191720: 8, 63865: 8, 243863: 8, 168129: 8, 121093: 8, 210261: 8, 191875: 8, 243142: 8, 167782: 8, 19681: 8, 244874: 8, 170012: 8, 20147: 8, 210791: 8, 172215: 8, 246528: 8, 130961: 8, 58224: 8, 189320: 8, 58389: 8, 58458: 8, 58497: 8, 258160: 8, 131182: 8, 123228: 8, 35845: 8, 35841: 8, 35718: 8, 59499: 8, 131597: 8, 59524: 8, 170866: 8, 170792: 8, 258520: 8, 122867: 8, 60029: 8, 131317: 8, 190422: 8, 131437: 8, 170493: 8, 35188: 8, 131510: 8, 170255: 8, 60569: 8, 243004: 8, 65068: 8, 167517: 8, 209625: 8, 193612: 8, 164870: 8, 275481: 8, 119364: 8, 217271: 8, 70192: 8, 5899: 8, 241265: 8, 275401: 8, 70401: 8, 194514: 8, 163600: 8, 71162: 8, 71181: 8, 71470: 8, 216557: 8, 32034: 8, 71662: 8, 260363: 8, 163467: 8, 71800: 8, 71831: 8, 31950: 8, 72099: 8, 31900: 8, 72287: 8, 72368: 8, 275305: 8, 260520: 8, 6115: 8, 69089: 8, 241527: 8, 165267: 8, 275673: 8, 192121: 8, 33614: 8, 19760: 8, 66055: 8, 66100: 8, 192176: 8, 33491: 8, 132500: 8, 33474: 8, 33461: 8, 166758: 8, 259264: 8, 67111: 8, 67174: 8, 210077: 8, 5385: 8, 242247: 8, 67354: 8, 192492: 8, 67487: 8, 242118: 8, 67782: 8, 119749: 8, 68000: 8, 165669: 8, 165576: 8, 68537: 8, 193428: 8, 68767: 8, 172331: 8, 57620: 8, 215180: 8, 46541: 8, 255544: 8, 213191: 8, 127024: 8, 126985: 8, 45064: 8, 278314: 8, 45255: 8, 45305: 8, 45391: 8, 1075: 8, 180586: 8, 251890: 8, 46417: 8, 251744: 8, 47118: 8, 2010: 8, 47152: 8, 212130: 8, 270211: 8, 251423: 8, 18095: 8, 16999: 8, 213625: 8, 179501: 8, 126487: 8, 251097: 8, 38718: 8, 48213: 8, 178961: 8, 250939: 8, 44727: 8, 213066: 8, 252785: 8, 127168: 8, 40511: 8, 40796: 8, 40838: 8, 254376: 8, 184202: 8, 41088: 8, 183537: 8, 183476: 8, 254196: 8, 244: 8, 40110: 8, 254859: 8, 253867: 8, 127505: 8, 503: 8, 39662: 8, 42372: 8, 42450: 8, 42651: 8, 212427: 8, 182506: 8, 184562: 8, 43093: 8, 184632: 8, 182275: 8, 253106: 8, 182117: 8, 43852: 8, 184890: 8, 49155: 8, 49300: 8, 211041: 8, 247897: 8, 188027: 8, 188106: 8, 277478: 8, 124769: 8, 54652: 8, 248479: 8, 36839: 8, 174388: 8, 174375: 8, 55270: 8, 18850: 8, 277378: 8, 215024: 8, 55562: 8, 173951: 8, 213839: 8, 130792: 8, 188589: 8, 247829: 8, 124048: 8, 257625: 8, 56315: 8, 188676: 8, 56654: 8, 173225: 8, 36157: 8, 130866: 8, 57200: 8, 123724: 8, 246959: 8, 53663: 8, 18439: 8, 53605: 8, 124915: 8, 178093: 8, 213851: 8, 250683: 8, 125892: 8, 250543: 8, 38250: 8, 16877: 8, 50749: 8, 129505: 8, 177180: 8, 51364: 8, 51511: 8, 211460: 8, 51826: 8, 51856: 8, 249924: 8, 256925: 8, 270326: 8, 37605: 8, 52323: 8, 176094: 8, 37573: 8, 211360: 8, 211303: 8, 53069: 8, 175493: 8, 187990: 8, 53265: 8, 248965: 8, 240235: 8, 132901: 8, 82699: 8, 198840: 8, 82942: 8, 268262: 8, 83166: 8, 155376: 8, 83306: 8, 155332: 8, 234948: 8, 17233: 8, 29539: 8, 136104: 8, 155000: 8, 199178: 8, 14698: 8, 8255: 8, 234565: 8, 85256: 8, 262666: 8, 234288: 8, 154409: 8, 268156: 8, 85502: 8, 219974: 8, 8323: 8, 29028: 8, 200196: 8, 20961: 8, 136291: 8, 153865: 8, 8529: 8, 274380: 8, 82841: 8, 274111: 8, 82808: 8, 157625: 8, 80661: 8, 30461: 8, 15144: 8, 236480: 8, 80803: 8, 135398: 8, 197866: 8, 197913: 8, 197997: 8, 236255: 8, 198011: 8, 219278: 8, 81481: 8, 198114: 8, 30245: 8, 30210: 8, 115503: 8, 81609: 8, 198216: 8, 236017: 8, 262317: 8, 115224: 8, 219420: 8, 271284: 8, 82608: 8, 135873: 8, 155810: 8, 198781: 8, 153719: 8, 200323: 8, 115963: 8, 151537: 8, 231613: 8, 136905: 8, 90766: 8, 231374: 8, 231357: 8, 271466: 8, 112914: 8, 151107: 8, 91449: 8, 231225: 8, 202000: 8, 150767: 8, 91931: 8, 9381: 8, 150657: 8, 112590: 8, 150554: 8, 92648: 8, 230627: 8, 92674: 8, 112402: 8, 9574: 8, 220931: 8, 230427: 8, 93241: 8, 149140: 8, 148929: 8, 137587: 8, 264085: 8, 231694: 8, 136829: 8, 200493: 8, 136747: 8, 136313: 8, 153342: 8, 200557: 8, 114089: 8, 268025: 8, 200772: 8, 87549: 8, 136396: 8, 87688: 8, 208468: 8, 21202: 8, 87974: 8, 233117: 8, 8870: 8, 28492: 8, 88187: 8, 201323: 8, 88330: 8, 88605: 8, 152428: 8, 14393: 8, 232579: 8, 28150: 8, 220314: 8, 113624: 8, 89852: 8, 8971: 8, 89874: 8, 113475: 8, 236595: 8, 13093: 8, 30989: 8, 195182: 8, 160200: 8, 160231: 8, 15845: 8, 74630: 8, 78564: 8, 196457: 8, 159137: 8, 77307: 8, 77039: 8, 237407: 8, 134278: 8, 275228: 8, 161744: 8, 31471: 8, 209265: 8, 75491: 8, 116521: 8, 237474: 8, 30887: 8, 196191: 8, 218240: 8, 218640: 8, 218721: 8, 239161: 8, 75013: 8, 117539: 8, 74911: 8, 195455: 8, 238010: 8, 15654: 8, 161880: 8, 196261: 8, 239481: 8, 261578: 8, 134264: 8, 239748: 8, 77261: 8, 30824: 8, 158361: 8, 160994: 8, 196050: 8, 218875: 8, 275276: 8, 134684: 8, 73548: 8, 208936: 8, 158506: 8, 158344: 8, 6345: 8, 31652: 8, 236621: 8, 76815: 8, 75809: 8, 73622: 8, 116006: 8, 195100: 8, 117318: 8, 115998: 8, 218844: 8, 117256: 8, 162886: 8, 73464: 8, 237070: 8, 196146: 8, 236955: 8, 6769: 8, 73837: 8, 125808: 7, 17970: 7, 126783: 7, 220399: 7, 19972: 7, 138330: 7, 113602: 7, 133041: 7, 119446: 7, 268618: 7, 13935: 7, 21207: 7, 18096: 7, 16949: 7, 136465: 7, 18155: 7, 14271: 7, 222138: 7, 16943: 7, 19974: 7, 122321: 7, 16010: 7, 108197: 7, 13126: 7, 21540: 7, 127404: 7, 271503: 7, 127432: 7, 127438: 7, 112512: 7, 137384: 7, 112502: 7, 223132: 7, 108481: 7, 220867: 7, 128464: 7, 220892: 7, 212631: 7, 127893: 7, 118528: 7, 220945: 7, 118344: 7, 133957: 7, 15945: 7, 217958: 7, 139706: 7, 112598: 7, 113364: 7, 218197: 7, 133418: 7, 220608: 7, 128710: 7, 209684: 7, 22089: 7, 108763: 7, 217444: 7, 20250: 7, 112818: 7, 112765: 7, 128622: 7, 213064: 7, 267061: 7, 134029: 7, 206764: 7, 20149: 7, 212411: 7, 267180: 7, 267356: 7, 117115: 7, 215256: 7, 215421: 7, 20501: 7, 22338: 7, 270552: 7, 135768: 7, 116313: 7, 22495: 7, 132203: 7, 132290: 7, 208645: 7, 16721: 7, 16876: 7, 118414: 7, 222492: 7, 208620: 7, 120985: 7, 123700: 7, 216476: 7, 15497: 7, 123732: 7, 215148: 7, 216495: 7, 208700: 7, 267529: 7, 135736: 7, 21912: 7, 131655: 7, 115956: 7, 115953: 7, 135277: 7, 121825: 7, 271066: 7, 115700: 7, 210493: 7, 116090: 7, 121592: 7, 16510: 7, 122784: 7, 122802: 7, 121547: 7, 122881: 7, 221524: 7, 210706: 7, 19233: 7, 19570: 7, 19571: 7, 123160: 7, 269114: 7, 215143: 7, 109357: 7, 124888: 7, 207134: 7, 13221: 7, 210097: 7, 271354: 7, 214641: 7, 110160: 7, 218514: 7, 114306: 7, 208877: 7, 20347: 7, 134694: 7, 111733: 7, 114258: 7, 214244: 7, 120137: 7, 120082: 7, 211847: 7, 214042: 7, 213972: 7, 132716: 7, 125701: 7, 109084: 7, 268704: 7, 269140: 7, 137803: 7, 116549: 7, 114893: 7, 120860: 7, 120807: 7, 135975: 7, 219671: 7, 268171: 7, 136011: 7, 130710: 7, 216501: 7, 134900: 7, 114634: 7, 136136: 7, 134863: 7, 16777: 7, 20794: 7, 221687: 7, 124688: 7, 211176: 7, 21875: 7, 124852: 7, 110700: 7, 183958: 7, 161872: 7, 241495: 7, 165769: 7, 33036: 7, 259388: 7, 67775: 7, 67693: 7, 33270: 7, 67544: 7, 166141: 7, 166287: 7, 67415: 7, 242269: 7, 67178: 7, 67079: 7, 166828: 7, 66953: 7, 66853: 7, 66765: 7, 68447: 7, 32275: 7, 240495: 7, 5728: 7, 71522: 7, 32036: 7, 71223: 7, 71193: 7, 163579: 7, 163676: 7, 193966: 7, 193819: 7, 164301: 7, 275439: 7, 241367: 7, 69790: 7, 69749: 7, 259734: 7, 241405: 7, 164518: 7, 5815: 7, 66129: 7, 65946: 7, 259223: 7, 65769: 7, 169043: 7, 62755: 7, 244471: 7, 34764: 7, 62316: 7, 62303: 7, 169403: 7, 169438: 7, 191126: 7, 61888: 7, 34988: 7, 61296: 7, 169781: 7, 244779: 7, 61042: 7, 60797: 7, 35148: 7, 168999: 7, 259004: 7, 63506: 7, 243491: 7, 242763: 7, 65710: 7, 65665: 7, 65370: 7, 242891: 7, 33681: 7, 65183: 7, 243584: 7, 259066: 7, 276071: 7, 64333: 7, 33980: 7, 191761: 7, 168478: 7, 243966: 7, 244092: 7, 163443: 7, 163419: 7, 245102: 7, 79958: 7, 236940: 7, 79366: 7, 79188: 7, 30657: 7, 7105: 7, 261611: 7, 196621: 7, 196493: 7, 159455: 7, 159720: 7, 159754: 7, 237646: 7, 6789: 7, 159860: 7, 77860: 7, 237912: 7, 30838: 7, 274881: 7, 80105: 7, 260473: 7, 80234: 7, 262311: 7, 262271: 7, 236030: 7, 156534: 7, 262186: 7, 198177: 7, 7809: 7, 30290: 7, 81324: 7, 262151: 7, 262118: 7, 30408: 7, 197727: 7, 157281: 7, 80690: 7, 80684: 7, 80516: 7, 30854: 7, 196228: 7, 238231: 7, 196149: 7, 74833: 7, 161986: 7, 74571: 7, 31431: 7, 31446: 7, 239609: 7, 74093: 7, 162496: 7, 162626: 7, 6333: 7, 195041: 7, 162849: 7, 6280: 7, 31714: 7, 72742: 7, 72636: 7, 163335: 7, 74849: 7, 108104: 7, 161870: 7, 196099: 7, 77273: 7, 238319: 7, 76976: 7, 76873: 7, 160378: 7, 196113: 7, 196106: 7, 31144: 7, 239407: 7, 161250: 7, 31229: 7, 31250: 7, 75330: 7, 161677: 7, 239067: 7, 239374: 7, 170264: 7, 60412: 7, 7913: 7, 48995: 7, 48595: 7, 186334: 7, 250989: 7, 47975: 7, 47925: 7, 251146: 7, 277959: 7, 251339: 7, 251362: 7, 38802: 7, 1660: 7, 1412: 7, 47117: 7, 251560: 7, 1167: 7, 185514: 7, 185450: 7, 48970: 7, 178587: 7, 51627: 7, 49061: 7, 176903: 7, 51359: 7, 250219: 7, 256603: 7, 51100: 7, 51082: 7, 2287: 7, 38091: 7, 50526: 7, 187029: 7, 186848: 7, 250506: 7, 177876: 7, 186784: 7, 250832: 7, 178356: 7, 256023: 7, 45911: 7, 252642: 7, 45119: 7, 45068: 7, 253602: 7, 42611: 7, 253668: 7, 505: 7, 184386: 7, 254777: 7, 40052: 7, 183142: 7, 41701: 7, 41676: 7, 183277: 7, 40222: 7, 242: 7, 41227: 7, 254289: 7, 183566: 7, 184121: 7, 42730: 7, 42780: 7, 278522: 7, 184985: 7, 181436: 7, 181443: 7, 181452: 7, 44985: 7, 44925: 7, 39195: 7, 44837: 7, 44663: 7, 253322: 7, 181736: 7, 181896: 7, 44190: 7, 44089: 7, 252953: 7, 184845: 7, 709: 7, 51589: 7, 51663: 7, 170518: 7, 58708: 7, 189541: 7, 3817: 7, 172010: 7, 3578: 7, 258107: 7, 57959: 7, 57920: 7, 35998: 7, 57302: 7, 57124: 7, 277042: 7, 57006: 7, 247518: 7, 247537: 7, 188796: 7, 56625: 7, 173650: 7, 171359: 7, 189666: 7, 37790: 7, 189678: 7, 190479: 7, 60278: 7, 170575: 7, 245215: 7, 35424: 7, 60040: 7, 245346: 7, 190080: 7, 59820: 7, 4092: 7, 170850: 7, 170869: 7, 4091: 7, 59504: 7, 245660: 7, 171078: 7, 58964: 7, 173743: 7, 247855: 7, 188583: 7, 36568: 7, 174918: 7, 248613: 7, 257212: 7, 248749: 7, 248805: 7, 37244: 7, 249150: 7, 37426: 7, 175536: 7, 175576: 7, 52887: 7, 37567: 7, 187761: 7, 52256: 7, 249746: 7, 52141: 7, 176576: 7, 277623: 7, 54290: 7, 54374: 7, 55441: 7, 173930: 7, 55787: 7, 188518: 7, 3329: 7, 257534: 7, 36693: 7, 3282: 7, 174367: 7, 54492: 7, 55097: 7, 174501: 7, 188484: 7, 54968: 7, 36935: 7, 257362: 7, 188369: 7, 198547: 7, 84146: 7, 94376: 7, 90517: 7, 201760: 7, 102164: 7, 265591: 7, 102130: 7, 102117: 7, 205085: 7, 27891: 7, 151370: 7, 90915: 7, 151262: 7, 265504: 7, 143743: 7, 91165: 7, 263413: 7, 150932: 7, 101696: 7, 11708: 7, 92215: 7, 92316: 7, 273869: 7, 92524: 7, 202173: 7, 101614: 7, 27352: 7, 202182: 7, 92658: 7, 101422: 7, 92696: 7, 204946: 7, 102189: 7, 143388: 7, 25009: 7, 225610: 7, 28257: 7, 224435: 7, 142017: 7, 8935: 7, 266331: 7, 152206: 7, 232292: 7, 89192: 7, 224626: 7, 205554: 7, 266109: 7, 266054: 7, 201557: 7, 265972: 7, 28139: 7, 104123: 7, 151846: 7, 142661: 7, 142671: 7, 142801: 7, 151790: 7, 263219: 7, 231823: 7, 90322: 7, 225411: 7, 231560: 7, 90471: 7, 143011: 7, 102581: 7, 101214: 7, 101196: 7, 232929: 7, 147851: 7, 144727: 7, 94997: 7, 99146: 7, 98861: 7, 227146: 7, 95301: 7, 204622: 7, 203621: 7, 10946: 7, 204619: 7, 227276: 7, 10965: 7, 146573: 7, 96194: 7, 273318: 7, 11120: 7, 227771: 7, 11179: 7, 204316: 7, 98575: 7, 264627: 7, 98574: 7, 97972: 7, 25890: 7, 227422: 7, 98159: 7, 273167: 7, 145543: 7, 98525: 7, 229243: 7, 94396: 7, 150067: 7, 226739: 7, 226220: 7, 9568: 7, 101041: 7, 100984: 7, 226349: 7, 204844: 7, 149510: 7, 149259: 7, 144229: 7, 149204: 7, 100471: 7, 273635: 7, 202553: 7, 148962: 7, 93562: 7, 204822: 7, 230105: 7, 100454: 7, 148632: 7, 10315: 7, 25225: 7, 148239: 7, 94362: 7, 94366: 7, 100223: 7, 235543: 7, 204790: 7, 204748: 7, 99616: 7, 28289: 7, 151780: 7, 140232: 7, 233867: 7, 8167: 7, 23070: 7, 199981: 7, 154021: 7, 262525: 7, 140410: 7, 29867: 7, 107208: 7, 12619: 7, 274144: 7, 107234: 7, 105572: 7, 198996: 7, 23624: 7, 107270: 7, 22936: 7, 233924: 7, 107324: 7, 83156: 7, 205979: 7, 86051: 7, 86170: 7, 224289: 7, 154137: 7, 12698: 7, 206058: 7, 106862: 7, 8188: 7, 141047: 7, 206107: 7, 12702: 7, 84671: 7, 84126: 7, 223721: 7, 234893: 7, 154791: 7, 234647: 7, 223461: 7, 141322: 7, 106302: 7, 83775: 7, 223872: 7, 234614: 7, 234901: 7, 106988: 7, 85033: 7, 23459: 7, 23582: 7, 234401: 7, 28735: 7, 234743: 7, 140196: 7, 87302: 7, 224342: 7, 86819: 7, 86932: 7, 155807: 7, 200585: 7, 233480: 7, 82673: 7, 155989: 7, 87579: 7, 86555: 7, 233312: 7, 30120: 7, 28543: 7, 28537: 7, 156163: 7, 22773: 7, 105101: 7, 28448: 7, 235173: 7, 233529: 7, 107523: 7, 105262: 7, 23659: 7, 82955: 7, 200252: 7, 172374: 6, 173018: 6, 173122: 6, 12951: 6, 189235: 6, 183532: 6, 140842: 6, 183740: 6, 145218: 6, 3418: 6, 114: 6, 174534: 6, 12707: 6, 270401: 6, 204470: 6, 182425: 6, 183436: 6, 172101: 6, 276925: 6, 184661: 6, 130636: 6, 138525: 6, 173517: 6, 184190: 6, 184305: 6, 138425: 6, 13094: 6, 173999: 6, 140087: 6, 446: 6, 11451: 6, 207686: 6, 144997: 6, 276939: 6, 128257: 6, 204698: 6, 172406: 6, 189005: 6, 189151: 6, 138307: 6, 206865: 6, 272961: 6, 183178: 6, 182599: 6, 183725: 6, 12348: 6, 144017: 6, 16755: 6, 179885: 6, 179843: 6, 142817: 6, 204455: 6, 186899: 6, 205356: 6, 2139: 6, 1248: 6, 139287: 6, 178032: 6, 177262: 6, 177237: 6, 13600: 6, 143009: 6, 1129: 6, 211610: 6, 185468: 6, 186768: 6, 178058: 6, 180580: 6, 178905: 6, 179534: 6, 142005: 6, 185942: 6, 205963: 6, 212109: 6, 12209: 6, 142253: 6, 139245: 6, 2041: 6, 178733: 6, 142565: 6, 278007: 6, 17046: 6, 211937: 6, 141888: 6, 207291: 6, 185313: 6, 176785: 6, 735: 6, 141127: 6, 128669: 6, 175399: 6, 179532: 6, 141201: 6, 2719: 6, 181944: 6, 204929: 6, 174834: 6, 270121: 6, 834: 6, 174791: 6, 130502: 6, 188280: 6, 13733: 6, 141065: 6, 144316: 6, 128693: 6, 175485: 6, 180801: 6, 205992: 6, 277711: 6, 176656: 6, 180975: 6, 204978: 6, 139376: 6, 143685: 6, 143695: 6, 187763: 6, 130258: 6, 272810: 6, 175805: 6, 175794: 6, 272273: 6, 130168: 6, 187844: 6, 16818: 6, 172048: 6, 7890: 6, 204448: 6, 161476: 6, 162610: 6, 162264: 6, 208506: 6, 162014: 6, 136350: 6, 161755: 6, 134120: 6, 200508: 6, 200248: 6, 161533: 6, 275264: 6, 161391: 6, 160334: 6, 161326: 6, 161252: 6, 160878: 6, 209394: 6, 209385: 6, 160746: 6, 6671: 6, 8570: 6, 153869: 6, 160381: 6, 200213: 6, 152697: 6, 152605: 6, 195008: 6, 194877: 6, 208302: 6, 9094: 6, 209765: 6, 194027: 6, 194205: 6, 133557: 6, 194556: 6, 152036: 6, 152082: 6, 208378: 6, 5963: 6, 133682: 6, 274005: 6, 194639: 6, 152260: 6, 163415: 6, 201537: 6, 270863: 6, 201475: 6, 163302: 6, 163194: 6, 163169: 6, 162840: 6, 160344: 6, 154176: 6, 151799: 6, 15046: 6, 158034: 6, 135329: 6, 157660: 6, 157543: 6, 135965: 6, 155343: 6, 274618: 6, 7569: 6, 208788: 6, 157187: 6, 135460: 6, 198983: 6, 8314: 6, 7980: 6, 135665: 6, 197942: 6, 155771: 6, 156706: 6, 7864: 6, 198755: 6, 156111: 6, 198355: 6, 198507: 6, 156342: 6, 15185: 6, 158043: 6, 197425: 6, 197293: 6, 154346: 6, 154487: 6, 15589: 6, 159946: 6, 159863: 6, 8284: 6, 154675: 6, 159854: 6, 209156: 6, 154773: 6, 159647: 6, 275075: 6, 196317: 6, 199095: 6, 274979: 6, 270989: 6, 159004: 6, 155027: 6, 135228: 6, 136062: 6, 158627: 6, 199075: 6, 274925: 6, 151800: 6, 16036: 6, 130978: 6, 148344: 6, 147528: 6, 170054: 6, 4223: 6, 276487: 6, 10532: 6, 270666: 6, 4483: 6, 131689: 6, 16383: 6, 191093: 6, 169492: 6, 191166: 6, 191756: 6, 169282: 6, 169243: 6, 208058: 6, 210481: 6, 276291: 6, 168805: 6, 191671: 6, 270723: 6, 202346: 6, 4809: 6, 168500: 6, 190533: 6, 147475: 6, 147045: 6, 210627: 6, 3594: 6, 3814: 6, 145728: 6, 273110: 6, 189655: 6, 16551: 6, 131202: 6, 171031: 6, 171011: 6, 189789: 6, 170966: 6, 204179: 6, 146298: 6, 138100: 6, 4098: 6, 190298: 6, 170693: 6, 203877: 6, 190350: 6, 146781: 6, 190409: 6, 146874: 6, 170509: 6, 149598: 6, 9571: 6, 9138: 6, 165728: 6, 151143: 6, 275758: 6, 166030: 6, 136943: 6, 209985: 6, 165987: 6, 192727: 6, 5448: 6, 9139: 6, 275732: 6, 192914: 6, 151479: 6, 210311: 6, 165516: 6, 165452: 6, 193448: 6, 165425: 6, 193482: 6, 275611: 6, 193610: 6, 151483: 6, 5741: 6, 16046: 6, 133225: 6, 132624: 6, 166327: 6, 9226: 6, 166639: 6, 191775: 6, 168212: 6, 202257: 6, 273805: 6, 210174: 6, 16231: 6, 202212: 6, 191841: 6, 132382: 6, 167761: 6, 5209: 6, 167625: 6, 167611: 6, 167556: 6, 202063: 6, 202058: 6, 167272: 6, 167052: 6, 167038: 6, 150890: 6, 150966: 6, 137143: 6, 201792: 6, 139934: 6, 111536: 6, 90105: 6, 50504: 6, 265932: 6, 32444: 6, 45014: 6, 69410: 6, 24427: 6, 24452: 6, 103251: 6, 225378: 6, 265827: 6, 102891: 6, 69512: 6, 44932: 6, 102430: 6, 225617: 6, 225659: 6, 102284: 6, 241432: 6, 225687: 6, 69627: 6, 255618: 6, 102154: 6, 69967: 6, 104125: 6, 104437: 6, 102029: 6, 104883: 6, 223977: 6, 68240: 6, 33004: 6, 23619: 6, 105576: 6, 68309: 6, 105317: 6, 241799: 6, 266419: 6, 252721: 6, 44743: 6, 24090: 6, 68581: 6, 224479: 6, 104796: 6, 68615: 6, 241614: 6, 68700: 6, 32641: 6, 68998: 6, 24052: 6, 69012: 6, 102032: 6, 265546: 6, 267680: 6, 25711: 6, 99252: 6, 99204: 6, 240888: 6, 240663: 6, 39087: 6, 264688: 6, 227275: 6, 98633: 6, 72379: 6, 72470: 6, 227292: 6, 99738: 6, 72975: 6, 25804: 6, 31688: 6, 98320: 6, 50143: 6, 240205: 6, 252418: 6, 240155: 6, 31681: 6, 227544: 6, 241033: 6, 264985: 6, 70189: 6, 70448: 6, 225910: 6, 241305: 6, 265383: 6, 70222: 6, 70302: 6, 250407: 6, 101517: 6, 241239: 6, 101242: 6, 70435: 6, 101091: 6, 100053: 6, 45230: 6, 100903: 6, 226362: 6, 250454: 6, 25109: 6, 100594: 6, 250456: 6, 226554: 6, 241100: 6, 100066: 6, 105904: 6, 106078: 6, 106282: 6, 243088: 6, 243429: 6, 221967: 6, 43118: 6, 222034: 6, 110493: 6, 22062: 6, 267334: 6, 243213: 6, 110308: 6, 22167: 6, 222207: 6, 243607: 6, 51559: 6, 109921: 6, 222372: 6, 109562: 6, 109516: 6, 65238: 6, 222404: 6, 109363: 6, 222501: 6, 109287: 6, 64429: 6, 221871: 6, 33178: 6, 221186: 6, 112437: 6, 112173: 6, 51805: 6, 34526: 6, 112088: 6, 34501: 6, 221008: 6, 63452: 6, 267621: 6, 63665: 6, 111888: 6, 64220: 6, 221262: 6, 63923: 6, 63993: 6, 111434: 6, 64010: 6, 111390: 6, 42948: 6, 221681: 6, 243876: 6, 243814: 6, 65244: 6, 222506: 6, 109276: 6, 107044: 6, 223238: 6, 33432: 6, 242317: 6, 39284: 6, 223402: 6, 22975: 6, 223454: 6, 107099: 6, 44295: 6, 259286: 6, 223455: 6, 242914: 6, 37975: 6, 106954: 6, 250223: 6, 266808: 6, 67364: 6, 256731: 6, 23128: 6, 223554: 6, 33307: 6, 51071: 6, 39353: 6, 39374: 6, 66591: 6, 33517: 6, 43595: 6, 242878: 6, 242843: 6, 109040: 6, 222677: 6, 109014: 6, 65497: 6, 33656: 6, 108827: 6, 108700: 6, 65837: 6, 108392: 6, 253119: 6, 242637: 6, 223078: 6, 43698: 6, 22695: 6, 242544: 6, 66533: 6, 255289: 6, 66556: 6, 250494: 6, 264600: 6, 227654: 6, 255858: 6, 47276: 6, 236625: 6, 263078: 6, 88248: 6, 80135: 6, 88170: 6, 88029: 6, 233143: 6, 80323: 6, 233256: 6, 28592: 6, 236700: 6, 48753: 6, 87401: 6, 233436: 6, 28647: 6, 87155: 6, 28666: 6, 86906: 6, 80954: 6, 233719: 6, 81064: 6, 80036: 6, 261973: 6, 255661: 6, 232103: 6, 30667: 6, 79055: 6, 28056: 6, 53365: 6, 237091: 6, 236994: 6, 49166: 6, 89913: 6, 47127: 6, 89869: 6, 28091: 6, 232492: 6, 30645: 6, 232107: 6, 232171: 6, 236979: 6, 30607: 6, 232271: 6, 236949: 6, 79680: 6, 89057: 6, 79754: 6, 38661: 6, 236349: 6, 86583: 6, 84427: 6, 47807: 6, 84866: 6, 235384: 6, 30022: 6, 84727: 6, 84627: 6, 234683: 6, 29419: 6, 234734: 6, 84476: 6, 251149: 6, 86548: 6, 82751: 6, 234879: 6, 83842: 6, 83666: 6, 82795: 6, 29789: 6, 82797: 6, 82917: 6, 235059: 6, 83069: 6, 82171: 6, 29306: 6, 84910: 6, 251391: 6, 233754: 6, 86419: 6, 30385: 6, 86276: 6, 28899: 6, 30319: 6, 30316: 6, 251400: 6, 81459: 6, 85872: 6, 85833: 6, 234108: 6, 85616: 6, 262169: 6, 85510: 6, 29070: 6, 236025: 6, 81865: 6, 81927: 6, 235888: 6, 85132: 6, 90277: 6, 46904: 6, 264464: 6, 94385: 6, 26615: 6, 238961: 6, 229412: 6, 94630: 6, 229448: 6, 75429: 6, 260967: 6, 75486: 6, 75585: 6, 264191: 6, 94307: 6, 49792: 6, 261015: 6, 238836: 6, 94209: 6, 229591: 6, 229656: 6, 75762: 6, 93871: 6, 46350: 6, 229742: 6, 38457: 6, 75177: 6, 75028: 6, 263323: 6, 228477: 6, 73398: 6, 45444: 6, 240107: 6, 228181: 6, 239834: 6, 26153: 6, 26182: 6, 96055: 6, 264349: 6, 239801: 6, 74175: 6, 239449: 6, 45471: 6, 50098: 6, 95353: 6, 255648: 6, 74413: 6, 26538: 6, 256270: 6, 31392: 6, 229055: 6, 229177: 6, 26782: 6, 229899: 6, 238639: 6, 30749: 6, 230985: 6, 91875: 6, 230997: 6, 231132: 6, 46534: 6, 49324: 6, 46690: 6, 237715: 6, 49313: 6, 49289: 6, 91341: 6, 93630: 6, 78471: 6, 261590: 6, 231295: 6, 78573: 6, 27788: 6, 237429: 6, 49277: 6, 27821: 6, 90743: 6, 90731: 6, 92079: 6, 92184: 6, 77585: 6, 238179: 6, 26823: 6, 93518: 6, 230180: 6, 76001: 6, 76105: 6, 49753: 6, 46389: 6, 76458: 6, 263733: 6, 76575: 6, 230428: 6, 30968: 6, 38922: 6, 76741: 6, 30906: 6, 27317: 6, 92693: 6, 77052: 6, 77359: 6, 230687: 6, 77517: 6, 21575: 6, 83135: 6, 21462: 6, 116448: 6, 52425: 6, 218636: 6, 218689: 6, 116582: 6, 253855: 6, 116555: 6, 249220: 6, 117210: 6, 116433: 6, 55779: 6, 245194: 6, 218836: 6, 55559: 6, 41080: 6, 124322: 6, 245281: 6, 20388: 6, 116816: 6, 56246: 6, 116897: 6, 269011: 6, 41854: 6, 245446: 6, 254224: 6, 59812: 6, 249688: 6, 245616: 6, 19011: 6, 52472: 6, 215359: 6, 35532: 6, 18395: 6, 124993: 6, 214631: 6, 42408: 6, 219353: 6, 20627: 6, 18203: 6, 20484: 6, 18254: 6, 258550: 6, 248274: 6, 55065: 6, 115678: 6, 115682: 6, 268315: 6, 214102: 6, 219209: 6, 36811: 6, 36801: 6, 115997: 6, 219208: 6, 115759: 6, 219065: 6, 60424: 6, 125396: 6, 248131: 6, 214234: 6, 115833: 6, 219035: 6, 219013: 6, 115971: 6, 125171: 6, 257495: 6, 247966: 6, 218286: 6, 35631: 6, 115150: 6, 36103: 6, 246388: 6, 121620: 6, 121941: 6, 20005: 6, 119418: 6, 36043: 6, 246313: 6, 59554: 6, 217012: 6, 41718: 6, 268639: 6, 20032: 6, 247166: 6, 122418: 6, 216877: 6, 119806: 6, 19503: 6, 58351: 6, 254130: 6, 216151: 6, 19605: 6, 58194: 6, 57833: 6, 120155: 6, 120181: 6, 249361: 6, 120345: 6, 121166: 6, 58067: 6, 254754: 6, 121065: 6, 36141: 6, 19362: 6, 247278: 6, 123066: 6, 56663: 6, 117553: 6, 123298: 6, 117593: 6, 218182: 6, 257777: 6, 218059: 6, 35793: 6, 35826: 6, 56917: 6, 254064: 6, 40299: 6, 56985: 6, 41425: 6, 245925: 6, 122542: 6, 247423: 6, 122883: 6, 122781: 6, 215609: 6, 41450: 6, 118654: 6, 35865: 6, 215627: 6, 215693: 6, 246230: 6, 118955: 6, 122643: 6, 35909: 6, 217282: 6, 125798: 6, 124617: 6, 57960: 6, 37691: 6, 54072: 6, 54005: 6, 219955: 6, 269702: 6, 61216: 6, 219921: 6, 256889: 6, 113292: 6, 257327: 6, 52021: 6, 114452: 6, 219813: 6, 113259: 6, 54547: 6, 244494: 6, 114662: 6, 42798: 6, 37147: 6, 21370: 6, 54578: 6, 127519: 6, 40627: 6, 114742: 6, 54222: 6, 258614: 6, 113804: 6, 127113: 6, 127122: 6, 253563: 6, 113966: 6, 254417: 6, 42883: 6, 17763: 6, 126824: 6, 114379: 6, 248547: 6, 61759: 6, 114075: 6, 54283: 6, 61668: 6, 61354: 6, 54511: 6, 248572: 6, 127417: 6, 18134: 6, 51962: 6, 257145: 6, 244456: 6, 257390: 6, 62716: 6, 268282: 6, 115097: 6, 128040: 6, 54624: 6, 220635: 6, 54589: 6, 219597: 6, 126072: 6, 20629: 6, 126232: 6, 54817: 6, 256948: 6, 248901: 6, 126053: 6, 275175: 5, 30971: 5, 38725: 5, 235442: 5, 249096: 5, 75096: 5, 31080: 5, 82657: 5, 239074: 5, 57068: 5, 31006: 5, 6689: 5, 261185: 5, 238607: 5, 261291: 5, 196085: 5, 2589: 5, 6679: 5, 238568: 5, 238566: 5, 82628: 5, 172192: 5, 82391: 5, 49827: 5, 82431: 5, 56905: 5, 49526: 5, 238235: 5, 161903: 5, 160180: 5, 239460: 5, 6781: 5, 47974: 5, 52851: 5, 77377: 5, 235671: 5, 77332: 5, 257804: 5, 31386: 5, 82156: 5, 238347: 5, 74908: 5, 156243: 5, 30925: 5, 74920: 5, 238400: 5, 76812: 5, 238475: 5, 175283: 5, 160393: 5, 261091: 5, 30939: 5, 1805: 5, 155680: 5, 255846: 5, 257931: 5, 53660: 5, 195770: 5, 75777: 5, 57267: 5, 172233: 5, 238939: 5, 75749: 5, 235221: 5, 57269: 5, 257262: 5, 235206: 5, 75695: 5, 57291: 5, 160881: 5, 75405: 5, 172486: 5, 276929: 5, 31245: 5, 52993: 5, 57632: 5, 57412: 5, 172370: 5, 198776: 5, 53515: 5, 161385: 5, 161448: 5, 175185: 5, 239000: 5, 212719: 5, 155806: 5, 196055: 5, 57935: 5, 38679: 5, 238890: 5, 52994: 5, 31140: 5, 248597: 5, 239020: 5, 196054: 5, 75980: 5, 187922: 5, 82720: 5, 36137: 5, 75852: 5, 82901: 5, 238735: 5, 2793: 5, 161211: 5, 175062: 5, 239004: 5, 257820: 5, 172634: 5, 173190: 5, 238757: 5, 37030: 5, 75787: 5, 197664: 5, 188878: 5, 55486: 5, 174142: 5, 197130: 5, 55550: 5, 49144: 5, 261886: 5, 156736: 5, 250892: 5, 158104: 5, 236727: 5, 247998: 5, 156837: 5, 236668: 5, 174322: 5, 156870: 5, 261780: 5, 188511: 5, 158567: 5, 81333: 5, 236235: 5, 261685: 5, 55655: 5, 174062: 5, 187948: 5, 36638: 5, 79182: 5, 277439: 5, 156670: 5, 55826: 5, 6398: 5, 174738: 5, 175463: 5, 55421: 5, 80061: 5, 261460: 5, 54911: 5, 80603: 5, 274803: 5, 174503: 5, 48662: 5, 54997: 5, 80996: 5, 157290: 5, 174334: 5, 3106: 5, 80754: 5, 54889: 5, 174590: 5, 178880: 5, 250948: 5, 174601: 5, 157558: 5, 236594: 5, 80371: 5, 157083: 5, 81128: 5, 7651: 5, 188396: 5, 274823: 5, 80266: 5, 157065: 5, 80202: 5, 81215: 5, 174692: 5, 248003: 5, 80084: 5, 236618: 5, 249305: 5, 54512: 5, 186533: 5, 156483: 5, 174851: 5, 48382: 5, 78007: 5, 36288: 5, 30127: 5, 173511: 5, 78229: 5, 247868: 5, 198302: 5, 53140: 5, 36307: 5, 81672: 5, 56369: 5, 78545: 5, 178950: 5, 56496: 5, 6865: 5, 80929: 5, 56623: 5, 77960: 5, 49403: 5, 77868: 5, 53046: 5, 77816: 5, 277527: 5, 38482: 5, 186601: 5, 159950: 5, 257703: 5, 174897: 5, 235805: 5, 188661: 5, 56323: 5, 78589: 5, 78755: 5, 178458: 5, 196812: 5, 78996: 5, 55961: 5, 158998: 5, 36562: 5, 250851: 5, 156659: 5, 237397: 5, 56198: 5, 159044: 5, 7860: 5, 81460: 5, 237426: 5, 247825: 5, 3344: 5, 256072: 5, 174793: 5, 188658: 5, 30263: 5, 247790: 5, 78722: 5, 186547: 5, 78673: 5, 81578: 5, 49262: 5, 36357: 5, 36992: 5, 236044: 5, 159390: 5, 277171: 5, 73363: 5, 256264: 5, 242310: 5, 176978: 5, 166892: 5, 166891: 5, 242458: 5, 244995: 5, 60523: 5, 5350: 5, 256983: 5, 275761: 5, 275807: 5, 192460: 5, 67176: 5, 67187: 5, 2437: 5, 190521: 5, 33386: 5, 166546: 5, 170372: 5, 66792: 5, 60703: 5, 60140: 5, 170155: 5, 33576: 5, 37929: 5, 51403: 5, 249848: 5, 33570: 5, 167436: 5, 170118: 5, 244994: 5, 167389: 5, 66599: 5, 242618: 5, 187245: 5, 66473: 5, 66485: 5, 167176: 5, 190789: 5, 35144: 5, 276498: 5, 170377: 5, 170401: 5, 67375: 5, 35270: 5, 4149: 5, 35240: 5, 241802: 5, 60287: 5, 193156: 5, 68344: 5, 193248: 5, 50711: 5, 60253: 5, 67397: 5, 32991: 5, 165558: 5, 50650: 5, 68465: 5, 60211: 5, 165512: 5, 193337: 5, 68561: 5, 60336: 5, 250383: 5, 176114: 5, 33006: 5, 192665: 5, 192696: 5, 250301: 5, 166291: 5, 242157: 5, 192705: 5, 250342: 5, 50972: 5, 190480: 5, 67958: 5, 83110: 5, 68014: 5, 68081: 5, 245128: 5, 192733: 5, 259400: 5, 38081: 5, 60809: 5, 5286: 5, 242790: 5, 62302: 5, 244007: 5, 243996: 5, 256874: 5, 37822: 5, 244622: 5, 169371: 5, 62378: 5, 62339: 5, 168456: 5, 169462: 5, 168438: 5, 64015: 5, 62193: 5, 259114: 5, 64075: 5, 169450: 5, 168336: 5, 276167: 5, 187397: 5, 244039: 5, 37817: 5, 168736: 5, 244400: 5, 51840: 5, 191548: 5, 34539: 5, 169130: 5, 63044: 5, 244314: 5, 187463: 5, 62586: 5, 63323: 5, 63358: 5, 244148: 5, 258879: 5, 191638: 5, 244097: 5, 244572: 5, 62471: 5, 276077: 5, 169465: 5, 244964: 5, 61283: 5, 167750: 5, 65098: 5, 256765: 5, 61317: 5, 167715: 5, 190939: 5, 167644: 5, 276328: 5, 2399: 5, 64271: 5, 60944: 5, 51463: 5, 65387: 5, 65487: 5, 244925: 5, 60905: 5, 35090: 5, 65549: 5, 192095: 5, 169727: 5, 65038: 5, 33826: 5, 33981: 5, 34840: 5, 243449: 5, 62009: 5, 168016: 5, 176838: 5, 61835: 5, 64763: 5, 176526: 5, 191865: 5, 33836: 5, 51983: 5, 51986: 5, 176853: 5, 64783: 5, 250006: 5, 64846: 5, 245203: 5, 241646: 5, 74743: 5, 72992: 5, 240272: 5, 246304: 5, 35922: 5, 72707: 5, 275302: 5, 72770: 5, 275281: 5, 171623: 5, 73003: 5, 246246: 5, 250461: 5, 163059: 5, 194699: 5, 276681: 5, 162980: 5, 162861: 5, 73127: 5, 58426: 5, 163329: 5, 171555: 5, 50615: 5, 240932: 5, 71075: 5, 71183: 5, 71227: 5, 71261: 5, 163542: 5, 246175: 5, 52670: 5, 163534: 5, 194606: 5, 277922: 5, 171444: 5, 2103: 5, 240670: 5, 6102: 5, 171475: 5, 163449: 5, 50193: 5, 72183: 5, 246328: 5, 191505: 5, 194974: 5, 195247: 5, 239630: 5, 275274: 5, 162306: 5, 31466: 5, 239623: 5, 58168: 5, 74274: 5, 246597: 5, 58151: 5, 52807: 5, 74487: 5, 177879: 5, 6366: 5, 246621: 5, 189286: 5, 239486: 5, 74655: 5, 74687: 5, 239670: 5, 31528: 5, 239761: 5, 162564: 5, 3675: 5, 240111: 5, 171967: 5, 260655: 5, 50130: 5, 177688: 5, 162662: 5, 195057: 5, 73603: 5, 31541: 5, 246483: 5, 73795: 5, 35925: 5, 162596: 5, 171999: 5, 73798: 5, 35931: 5, 70999: 5, 246036: 5, 177492: 5, 2439: 5, 52435: 5, 258460: 5, 164777: 5, 164775: 5, 69460: 5, 276563: 5, 258329: 5, 187170: 5, 5746: 5, 69929: 5, 277901: 5, 189891: 5, 275476: 5, 170810: 5, 69554: 5, 170845: 5, 177386: 5, 258275: 5, 32244: 5, 50539: 5, 164906: 5, 275573: 5, 50547: 5, 60130: 5, 5638: 5, 68854: 5, 241537: 5, 259622: 5, 60114: 5, 60098: 5, 5665: 5, 69023: 5, 241523: 5, 187172: 5, 275610: 5, 241513: 5, 245352: 5, 164955: 5, 187621: 5, 193740: 5, 69986: 5, 70918: 5, 163796: 5, 52532: 5, 194243: 5, 194273: 5, 163876: 5, 70556: 5, 163824: 5, 37571: 5, 171096: 5, 70564: 5, 164425: 5, 260108: 5, 32039: 5, 58855: 5, 194425: 5, 171157: 5, 2132: 5, 70878: 5, 245976: 5, 189722: 5, 171055: 5, 241214: 5, 275383: 5, 35707: 5, 241306: 5, 59430: 5, 37584: 5, 70198: 5, 59220: 5, 245814: 5, 164252: 5, 189747: 5, 70318: 5, 249634: 5, 59206: 5, 164105: 5, 32108: 5, 59197: 5, 32087: 5, 194202: 5, 68004: 5, 40553: 5, 83186: 5, 253797: 5, 137539: 5, 137524: 5, 137513: 5, 112148: 5, 112507: 5, 208059: 5, 208064: 5, 112544: 5, 220717: 5, 99: 5, 182414: 5, 137134: 5, 267778: 5, 39584: 5, 112979: 5, 220628: 5, 113155: 5, 220564: 5, 267895: 5, 220503: 5, 208236: 5, 113328: 5, 21257: 5, 21660: 5, 21708: 5, 221050: 5, 207860: 5, 267453: 5, 221726: 5, 271557: 5, 21948: 5, 111019: 5, 221690: 5, 111035: 5, 138193: 5, 221672: 5, 21930: 5, 271542: 5, 111938: 5, 138045: 5, 111438: 5, 254486: 5, 137986: 5, 137968: 5, 14173: 5, 221368: 5, 207873: 5, 221309: 5, 207926: 5, 113467: 5, 208367: 5, 208376: 5, 219387: 5, 114700: 5, 208591: 5, 114865: 5, 42759: 5, 219530: 5, 253657: 5, 135902: 5, 182642: 5, 115161: 5, 115180: 5, 271156: 5, 136014: 5, 115392: 5, 115473: 5, 115488: 5, 219254: 5, 219219: 5, 42482: 5, 219149: 5, 182819: 5, 15081: 5, 115907: 5, 114695: 5, 219729: 5, 113618: 5, 113989: 5, 42902: 5, 113633: 5, 220307: 5, 208410: 5, 113778: 5, 208429: 5, 136425: 5, 267897: 5, 14451: 5, 208492: 5, 267898: 5, 114643: 5, 21049: 5, 114197: 5, 220013: 5, 268035: 5, 114483: 5, 14683: 5, 114498: 5, 114583: 5, 136137: 5, 253590: 5, 267442: 5, 110815: 5, 207651: 5, 12811: 5, 223608: 5, 141016: 5, 106553: 5, 206171: 5, 140894: 5, 106846: 5, 106848: 5, 106874: 5, 206301: 5, 140698: 5, 140451: 5, 266697: 5, 107109: 5, 206418: 5, 107214: 5, 266819: 5, 107288: 5, 12945: 5, 107431: 5, 223325: 5, 12990: 5, 272080: 5, 181870: 5, 223714: 5, 43962: 5, 44566: 5, 105124: 5, 266457: 5, 105160: 5, 105335: 5, 44590: 5, 224209: 5, 252726: 5, 105535: 5, 141704: 5, 224085: 5, 272395: 5, 106402: 5, 272385: 5, 105869: 5, 155383: 5, 223927: 5, 105956: 5, 141309: 5, 252775: 5, 184918: 5, 223768: 5, 106388: 5, 140132: 5, 22830: 5, 138382: 5, 138849: 5, 207180: 5, 13280: 5, 22503: 5, 109502: 5, 138985: 5, 267256: 5, 138906: 5, 207350: 5, 43418: 5, 267328: 5, 138826: 5, 109115: 5, 138813: 5, 43397: 5, 110267: 5, 22154: 5, 110367: 5, 271587: 5, 110410: 5, 110661: 5, 207569: 5, 253386: 5, 109223: 5, 271800: 5, 223161: 5, 266946: 5, 252903: 5, 43907: 5, 108130: 5, 139912: 5, 266940: 5, 184871: 5, 139884: 5, 139835: 5, 108158: 5, 139826: 5, 139607: 5, 207003: 5, 22637: 5, 206877: 5, 43639: 5, 139548: 5, 108622: 5, 206932: 5, 271833: 5, 139421: 5, 108836: 5, 184684: 5, 278552: 5, 42162: 5, 105100: 5, 218935: 5, 215104: 5, 215078: 5, 124200: 5, 124207: 5, 16730: 5, 269308: 5, 124488: 5, 130624: 5, 124574: 5, 18689: 5, 130543: 5, 41103: 5, 269313: 5, 124732: 5, 16798: 5, 214717: 5, 124789: 5, 254690: 5, 269352: 5, 269353: 5, 125133: 5, 125156: 5, 130157: 5, 41245: 5, 123801: 5, 123676: 5, 19107: 5, 19422: 5, 131564: 5, 215728: 5, 122671: 5, 122901: 5, 123115: 5, 131233: 5, 123220: 5, 41347: 5, 123238: 5, 183524: 5, 210926: 5, 123284: 5, 16666: 5, 19019: 5, 270551: 5, 131026: 5, 16717: 5, 210921: 5, 19018: 5, 123503: 5, 130952: 5, 130132: 5, 184223: 5, 214583: 5, 212847: 5, 17926: 5, 126849: 5, 126907: 5, 126911: 5, 270091: 5, 127147: 5, 17159: 5, 269759: 5, 127389: 5, 183832: 5, 212835: 5, 213369: 5, 269808: 5, 127827: 5, 212645: 5, 183931: 5, 269993: 5, 128286: 5, 127970: 5, 212775: 5, 128214: 5, 40604: 5, 128841: 5, 126695: 5, 214348: 5, 213915: 5, 41058: 5, 40958: 5, 254628: 5, 211500: 5, 18309: 5, 125595: 5, 213953: 5, 129494: 5, 129474: 5, 18176: 5, 129389: 5, 128962: 5, 40466: 5, 270226: 5, 129289: 5, 211944: 5, 126298: 5, 40885: 5, 213664: 5, 40795: 5, 269677: 5, 212124: 5, 131617: 5, 254751: 5, 215753: 5, 15834: 5, 218344: 5, 117164: 5, 117255: 5, 218272: 5, 117390: 5, 134302: 5, 209458: 5, 117396: 5, 117489: 5, 134225: 5, 117557: 5, 278694: 5, 117738: 5, 118101: 5, 118314: 5, 118422: 5, 217673: 5, 217617: 5, 183132: 5, 217513: 5, 270829: 5, 133744: 5, 218379: 5, 15686: 5, 20126: 5, 183015: 5, 182931: 5, 116220: 5, 116249: 5, 135170: 5, 135141: 5, 209059: 5, 116506: 5, 42024: 5, 134948: 5, 41985: 5, 39928: 5, 134596: 5, 268492: 5, 218519: 5, 218497: 5, 209313: 5, 218430: 5, 117092: 5, 209371: 5, 134641: 5, 134630: 5, 20332: 5, 217512: 5, 217496: 5, 270629: 5, 121184: 5, 216602: 5, 19725: 5, 120892: 5, 120931: 5, 120994: 5, 19659: 5, 121135: 5, 183213: 5, 183257: 5, 216260: 5, 121205: 5, 120283: 5, 16244: 5, 210346: 5, 40136: 5, 132007: 5, 121405: 5, 270715: 5, 121726: 5, 215791: 5, 122040: 5, 122086: 5, 120515: 5, 132616: 5, 118659: 5, 133246: 5, 217491: 5, 118800: 5, 183134: 5, 118871: 5, 20115: 5, 184354: 5, 270754: 5, 217270: 5, 133272: 5, 217223: 5, 217045: 5, 120030: 5, 209833: 5, 132981: 5, 216955: 5, 183146: 5, 270728: 5, 209932: 5, 19969: 5, 119838: 5, 41667: 5, 119963: 5, 224366: 5, 105874: 5, 104864: 5, 251791: 5, 201829: 5, 231252: 5, 91428: 5, 263480: 5, 179906: 5, 9313: 5, 9343: 5, 91685: 5, 231143: 5, 150894: 5, 91838: 5, 91263: 5, 46472: 5, 230878: 5, 9357: 5, 92048: 5, 92278: 5, 180146: 5, 92346: 5, 202147: 5, 230712: 5, 92534: 5, 151071: 5, 185528: 5, 92637: 5, 231795: 5, 89922: 5, 89945: 5, 90176: 5, 151738: 5, 1261: 5, 90192: 5, 151643: 5, 90259: 5, 47050: 5, 201725: 5, 27956: 5, 27684: 5, 201751: 5, 151421: 5, 151415: 5, 90793: 5, 9177: 5, 185538: 5, 91012: 5, 91026: 5, 38904: 5, 151122: 5, 150431: 5, 27329: 5, 232047: 5, 202742: 5, 185497: 5, 93386: 5, 148966: 5, 93421: 5, 93513: 5, 93615: 5, 93701: 5, 180407: 5, 202738: 5, 104862: 5, 202764: 5, 9717: 5, 93800: 5, 148620: 5, 94094: 5, 252007: 5, 94213: 5, 46139: 5, 94264: 5, 148192: 5, 148157: 5, 185448: 5, 93377: 5, 230249: 5, 150316: 5, 202324: 5, 180169: 5, 230626: 5, 150026: 5, 150000: 5, 9454: 5, 92804: 5, 27313: 5, 92851: 5, 92869: 5, 230459: 5, 27265: 5, 93308: 5, 149511: 5, 9660: 5, 93105: 5, 93114: 5, 93141: 5, 230411: 5, 230400: 5, 93245: 5, 149172: 5, 27204: 5, 232030: 5, 201593: 5, 273535: 5, 85455: 5, 29168: 5, 154441: 5, 262679: 5, 199857: 5, 234205: 5, 29101: 5, 29094: 5, 154330: 5, 154269: 5, 154182: 5, 199901: 5, 84880: 5, 29056: 5, 85534: 5, 47594: 5, 85787: 5, 85925: 5, 251398: 5, 8487: 5, 179591: 5, 86033: 5, 28945: 5, 84884: 5, 186032: 5, 153676: 5, 155035: 5, 155349: 5, 235011: 5, 83390: 5, 234953: 5, 155306: 5, 83561: 5, 8089: 5, 8095: 5, 155173: 5, 29702: 5, 84198: 5, 154627: 5, 29424: 5, 154811: 5, 199219: 5, 1790: 5, 179321: 5, 84847: 5, 179383: 5, 186238: 5, 274227: 5, 251327: 5, 47504: 5, 233909: 5, 201568: 5, 232736: 5, 88109: 5, 28477: 5, 88299: 5, 152514: 5, 201404: 5, 232853: 5, 88574: 5, 28372: 5, 232777: 5, 8930: 5, 251527: 5, 233041: 5, 152345: 5, 201521: 5, 88976: 5, 88979: 5, 232368: 5, 232343: 5, 152136: 5, 47145: 5, 89474: 5, 1409: 5, 152617: 5, 47293: 5, 86368: 5, 28700: 5, 47465: 5, 28731: 5, 200394: 5, 274064: 5, 47458: 5, 233739: 5, 233738: 5, 28709: 5, 153249: 5, 86792: 5, 38818: 5, 87948: 5, 153115: 5, 86965: 5, 200607: 5, 8737: 5, 200993: 5, 277984: 5, 87690: 5, 87707: 5, 87729: 5, 233427: 5, 1116: 5, 229767: 5, 26628: 5, 272890: 5, 265194: 5, 100460: 5, 272897: 5, 226489: 5, 144314: 5, 100610: 5, 144256: 5, 11621: 5, 100694: 5, 100783: 5, 144133: 5, 265075: 5, 252510: 5, 101081: 5, 144107: 5, 101150: 5, 24960: 5, 252573: 5, 101513: 5, 252627: 5, 101566: 5, 265221: 5, 45287: 5, 181103: 5, 225939: 5, 204663: 5, 145451: 5, 273063: 5, 145412: 5, 25700: 5, 264655: 5, 272988: 5, 264763: 5, 204660: 5, 99068: 5, 229454: 5, 144953: 5, 11517: 5, 226976: 5, 226975: 5, 226874: 5, 99314: 5, 264863: 5, 144799: 5, 144699: 5, 99946: 5, 144632: 5, 100004: 5, 143875: 5, 101741: 5, 227295: 5, 205608: 5, 24325: 5, 12137: 5, 181473: 5, 272671: 5, 142555: 5, 104447: 5, 205520: 5, 205538: 5, 142398: 5, 266299: 5, 12202: 5, 24379: 5, 104588: 5, 185071: 5, 266312: 5, 104705: 5, 205708: 5, 104759: 5, 252698: 5, 184990: 5, 205867: 5, 12316: 5, 252657: 5, 272705: 5, 101744: 5, 102262: 5, 101882: 5, 101887: 5, 225867: 5, 102019: 5, 205166: 5, 143597: 5, 102033: 5, 181316: 5, 225731: 5, 143400: 5, 225683: 5, 45042: 5, 11924: 5, 225593: 5, 102571: 5, 102676: 5, 102719: 5, 103144: 5, 103277: 5, 225213: 5, 45078: 5, 225187: 5, 98596: 5, 144978: 5, 53408: 5, 203742: 5, 26231: 5, 180727: 5, 146641: 5, 26209: 5, 252268: 5, 147676: 5, 96430: 5, 45879: 5, 96444: 5, 229258: 5, 96529: 5, 11070: 5, 228108: 5, 147687: 5, 203918: 5, 203973: 5, 204040: 5, 26284: 5, 180925: 5, 180958: 5, 227327: 5, 252282: 5, 147404: 5, 147385: 5, 264300: 5, 45564: 5, 95207: 5, 203531: 5, 26521: 5, 95492: 5, 10699: 5, 26561: 5, 273336: 5, 26412: 5, 26374: 5, 228652: 5, 95781: 5, 95800: 5, 94886: 5, 203392: 5, 264628: 5, 145959: 5, 203213: 5, 264204: 5, 26611: 5, 98373: 5, 204363: 5, 145688: 5, 273089: 5, 10607: 5, 229335: 5, 38991: 5, 98422: 5, 98428: 5, 25792: 5, 203058: 5, 145614: 5, 94519: 5, 204452: 5, 145887: 5, 45641: 5, 204333: 5, 97945: 5, 228064: 5, 252233: 5, 264411: 5, 96900: 5, 97381: 5, 97486: 5, 146106: 5, 97848: 5, 94843: 5, 264248: 5, 252229: 5, 227404: 5, 184103: 4, 250367: 4, 256575: 4, 186623: 4, 253736: 4, 184148: 4, 278663: 4, 249736: 4, 257153: 4, 255493: 4, 183985: 4, 252819: 4, 250725: 4, 185377: 4, 255719: 4, 253780: 4, 185473: 4, 250988: 4, 251152: 4, 187333: 4, 250750: 4, 254169: 4, 255267: 4, 278218: 4, 250899: 4, 252491: 4, 184639: 4, 251541: 4, 249401: 4, 250477: 4, 253271: 4, 254502: 4, 249353: 4, 254159: 4, 249384: 4, 252454: 4, 250459: 4, 186969: 4, 255099: 4, 278851: 4, 249480: 4, 253403: 4, 187931: 4, 251483: 4, 186003: 4, 250533: 4, 250979: 4, 252343: 4, 184547: 4, 187244: 4, 255433: 4, 255655: 4, 249210: 4, 254707: 4, 250510: 4, 186362: 4, 185258: 4, 252409: 4, 255275: 4, 185519: 4, 187805: 4, 277662: 4, 269945: 4, 248570: 4, 206695: 4, 224924: 4, 265925: 4, 225010: 4, 272706: 4, 205448: 4, 205280: 4, 205226: 4, 272838: 4, 226003: 4, 226297: 4, 265202: 4, 226556: 4, 226568: 4, 204802: 4, 226743: 4, 272980: 4, 227208: 4, 273140: 4, 204115: 4, 266007: 4, 224611: 4, 205728: 4, 266750: 4, 266881: 4, 206635: 4, 223174: 4, 272077: 4, 266854: 4, 223291: 4, 223326: 4, 206375: 4, 223607: 4, 272482: 4, 223642: 4, 223784: 4, 223873: 4, 223990: 4, 224203: 4, 224226: 4, 224439: 4, 272445: 4, 228096: 4, 228223: 4, 228374: 4, 231177: 4, 230446: 4, 202269: 4, 202205: 4, 202174: 4, 230825: 4, 202046: 4, 263637: 4, 202025: 4, 201926: 4, 202447: 4, 263353: 4, 273978: 4, 231346: 4, 231466: 4, 231633: 4, 201724: 4, 201714: 4, 232099: 4, 230262: 4, 273587: 4, 203649: 4, 273380: 4, 203618: 4, 228856: 4, 203566: 4, 273376: 4, 229013: 4, 229015: 4, 229041: 4, 229140: 4, 203379: 4, 229816: 4, 273439: 4, 229405: 4, 229422: 4, 229499: 4, 229501: 4, 264107: 4, 229673: 4, 229707: 4, 223143: 4, 206709: 4, 232222: 4, 271959: 4, 210816: 4, 215498: 4, 215607: 4, 210772: 4, 215622: 4, 215745: 4, 215821: 4, 210442: 4, 216057: 4, 216336: 4, 268734: 4, 210223: 4, 268665: 4, 210028: 4, 216795: 4, 216925: 4, 209830: 4, 217364: 4, 217386: 4, 215225: 4, 268984: 4, 214935: 4, 212057: 4, 269940: 4, 269841: 4, 212798: 4, 212853: 4, 212915: 4, 212275: 4, 269625: 4, 213612: 4, 213873: 4, 214876: 4, 270234: 4, 211894: 4, 214213: 4, 269404: 4, 270242: 4, 211353: 4, 211264: 4, 269340: 4, 209554: 4, 209548: 4, 209375: 4, 221981: 4, 208393: 4, 220326: 4, 208085: 4, 271491: 4, 267645: 4, 221495: 4, 207667: 4, 207636: 4, 222150: 4, 220297: 4, 207488: 4, 222292: 4, 267259: 4, 207152: 4, 222670: 4, 222683: 4, 222914: 4, 206775: 4, 271398: 4, 208566: 4, 209272: 4, 268330: 4, 268434: 4, 268419: 4, 209224: 4, 268343: 4, 270907: 4, 209148: 4, 218930: 4, 218936: 4, 208867: 4, 208584: 4, 271016: 4, 208756: 4, 271083: 4, 208751: 4, 208715: 4, 219497: 4, 208624: 4, 219590: 4, 232185: 4, 232461: 4, 188279: 4, 241414: 4, 242640: 4, 242642: 4, 192101: 4, 259208: 4, 191913: 4, 191881: 4, 276018: 4, 259205: 4, 243848: 4, 191724: 4, 191707: 4, 191694: 4, 244309: 4, 244385: 4, 191260: 4, 191247: 4, 244588: 4, 258673: 4, 191072: 4, 192203: 4, 192308: 4, 242319: 4, 241949: 4, 193680: 4, 241441: 4, 259628: 4, 259625: 4, 259565: 4, 275677: 4, 193335: 4, 193294: 4, 193017: 4, 242245: 4, 192979: 4, 242097: 4, 242113: 4, 259316: 4, 259312: 4, 242219: 4, 192544: 4, 242233: 4, 244688: 4, 191049: 4, 276369: 4, 247521: 4, 246333: 4, 246447: 4, 189279: 4, 246711: 4, 246863: 4, 246933: 4, 276994: 4, 189066: 4, 247725: 4, 189569: 4, 247726: 4, 188558: 4, 257554: 4, 188557: 4, 247870: 4, 247916: 4, 248356: 4, 277466: 4, 189403: 4, 189632: 4, 244781: 4, 245362: 4, 258553: 4, 190808: 4, 190807: 4, 244998: 4, 245007: 4, 190531: 4, 245150: 4, 276560: 4, 190292: 4, 189686: 4, 258291: 4, 245592: 4, 189848: 4, 276579: 4, 245782: 4, 189733: 4, 189688: 4, 245851: 4, 193716: 4, 193917: 4, 263149: 4, 194229: 4, 234657: 4, 234797: 4, 198937: 4, 235117: 4, 274418: 4, 198760: 4, 235375: 4, 235864: 4, 198389: 4, 198331: 4, 236251: 4, 197688: 4, 262051: 4, 236355: 4, 274644: 4, 236550: 4, 236580: 4, 197464: 4, 236728: 4, 199357: 4, 262635: 4, 262660: 4, 233928: 4, 232820: 4, 233196: 4, 201128: 4, 262912: 4, 233697: 4, 233747: 4, 200315: 4, 274135: 4, 262894: 4, 199359: 4, 233997: 4, 262719: 4, 234147: 4, 274220: 4, 234465: 4, 199640: 4, 199494: 4, 199365: 4, 236872: 4, 236885: 4, 196858: 4, 194799: 4, 260796: 4, 260735: 4, 195198: 4, 239788: 4, 239841: 4, 240033: 4, 260609: 4, 194864: 4, 260590: 4, 239467: 4, 260498: 4, 240394: 4, 240528: 4, 240543: 4, 260202: 4, 194543: 4, 241048: 4, 275321: 4, 195416: 4, 239413: 4, 196857: 4, 261528: 4, 196821: 4, 237310: 4, 196702: 4, 274983: 4, 196492: 4, 275074: 4, 237577: 4, 237612: 4, 237797: 4, 260840: 4, 237917: 4, 237941: 4, 196187: 4, 275195: 4, 196066: 4, 238617: 4, 238625: 4, 238739: 4, 198822: 4, 278854: 4, 183923: 4, 45530: 4, 148928: 4, 120090: 4, 148806: 4, 148782: 4, 120579: 4, 148695: 4, 120588: 4, 148220: 4, 45218: 4, 45302: 4, 45359: 4, 147978: 4, 81854: 4, 147800: 4, 147764: 4, 148986: 4, 45778: 4, 147688: 4, 147680: 4, 120771: 4, 45904: 4, 45943: 4, 81661: 4, 147249: 4, 147156: 4, 46003: 4, 46197: 4, 147101: 4, 120942: 4, 146991: 4, 148965: 4, 82080: 4, 46345: 4, 43309: 4, 151303: 4, 119227: 4, 151068: 4, 82491: 4, 151063: 4, 119413: 4, 82487: 4, 42352: 4, 42694: 4, 119488: 4, 42803: 4, 119541: 4, 42887: 4, 42935: 4, 82227: 4, 119859: 4, 119650: 4, 82192: 4, 43642: 4, 150350: 4, 150088: 4, 44021: 4, 44091: 4, 44307: 4, 149647: 4, 44320: 4, 149361: 4, 44368: 4, 44450: 4, 44588: 4, 146890: 4, 146734: 4, 151405: 4, 122210: 4, 144967: 4, 79815: 4, 144830: 4, 51062: 4, 144585: 4, 144549: 4, 144466: 4, 144395: 4, 144280: 4, 51165: 4, 144134: 4, 51192: 4, 144114: 4, 51210: 4, 79475: 4, 145161: 4, 79172: 4, 122607: 4, 51655: 4, 51783: 4, 104337: 4, 51924: 4, 52130: 4, 79153: 4, 52226: 4, 52420: 4, 79110: 4, 78895: 4, 52673: 4, 142973: 4, 145131: 4, 80066: 4, 146722: 4, 81087: 4, 46862: 4, 47411: 4, 121120: 4, 81456: 4, 121178: 4, 146335: 4, 81370: 4, 81352: 4, 47866: 4, 81227: 4, 48155: 4, 121282: 4, 48357: 4, 146197: 4, 80908: 4, 145546: 4, 146117: 4, 49404: 4, 80692: 4, 49635: 4, 145969: 4, 49668: 4, 49683: 4, 49723: 4, 145687: 4, 145657: 4, 50092: 4, 50110: 4, 80512: 4, 121545: 4, 41646: 4, 41557: 4, 142826: 4, 117159: 4, 116856: 4, 34908: 4, 156020: 4, 155916: 4, 35486: 4, 87114: 4, 117041: 4, 70713: 4, 155541: 4, 35842: 4, 35910: 4, 35921: 4, 155450: 4, 35953: 4, 155091: 4, 116787: 4, 155043: 4, 154981: 4, 36121: 4, 36200: 4, 86728: 4, 86680: 4, 154788: 4, 36238: 4, 154663: 4, 36286: 4, 117852: 4, 36709: 4, 36722: 4, 154592: 4, 34657: 4, 156274: 4, 86418: 4, 88123: 4, 88817: 4, 158285: 4, 158172: 4, 158100: 4, 157594: 4, 88729: 4, 32964: 4, 116318: 4, 33049: 4, 88633: 4, 33153: 4, 33163: 4, 33203: 4, 88232: 4, 33422: 4, 87747: 4, 156726: 4, 156673: 4, 33888: 4, 156566: 4, 156551: 4, 33943: 4, 156527: 4, 87859: 4, 34227: 4, 156432: 4, 116763: 4, 34465: 4, 34521: 4, 156343: 4, 36952: 4, 86247: 4, 41538: 4, 152295: 4, 118910: 4, 39453: 4, 119066: 4, 84537: 4, 84527: 4, 152582: 4, 152562: 4, 152524: 4, 84191: 4, 152496: 4, 39974: 4, 40012: 4, 83743: 4, 40134: 4, 40316: 4, 39133: 4, 152205: 4, 152046: 4, 151928: 4, 40417: 4, 40446: 4, 40640: 4, 40647: 4, 40895: 4, 151811: 4, 151806: 4, 151750: 4, 41157: 4, 41312: 4, 119179: 4, 39134: 4, 39106: 4, 86072: 4, 153818: 4, 86017: 4, 37377: 4, 154465: 4, 37454: 4, 86001: 4, 154160: 4, 37586: 4, 154075: 4, 37688: 4, 85950: 4, 153947: 4, 118333: 4, 118418: 4, 37905: 4, 38005: 4, 84753: 4, 153620: 4, 85944: 4, 118524: 4, 85905: 4, 38345: 4, 153400: 4, 153365: 4, 118543: 4, 84867: 4, 153040: 4, 118669: 4, 38789: 4, 118683: 4, 153003: 4, 142904: 4, 78774: 4, 32211: 4, 127813: 4, 64137: 4, 134732: 4, 134705: 4, 64185: 4, 64249: 4, 134621: 4, 134529: 4, 64316: 4, 72451: 4, 134467: 4, 134294: 4, 134137: 4, 64346: 4, 127779: 4, 64625: 4, 134833: 4, 133790: 4, 133786: 4, 127866: 4, 72347: 4, 64726: 4, 64743: 4, 64765: 4, 133424: 4, 133417: 4, 72282: 4, 64769: 4, 133037: 4, 64779: 4, 132846: 4, 64126: 4, 64111: 4, 65004: 4, 62809: 4, 61775: 4, 61852: 4, 62348: 4, 62381: 4, 135833: 4, 135785: 4, 73691: 4, 62457: 4, 62511: 4, 135624: 4, 73532: 4, 135395: 4, 127063: 4, 62662: 4, 135317: 4, 72531: 4, 73479: 4, 73467: 4, 63494: 4, 63545: 4, 73196: 4, 73157: 4, 73076: 4, 127245: 4, 63998: 4, 134999: 4, 134986: 4, 64063: 4, 72882: 4, 64076: 4, 64903: 4, 65027: 4, 61764: 4, 129725: 4, 128588: 4, 71612: 4, 130670: 4, 130493: 4, 68067: 4, 128653: 4, 68227: 4, 128782: 4, 130347: 4, 130215: 4, 130181: 4, 130063: 4, 129988: 4, 68272: 4, 68478: 4, 71703: 4, 128821: 4, 68836: 4, 69076: 4, 129531: 4, 129444: 4, 69180: 4, 71521: 4, 69511: 4, 129238: 4, 69658: 4, 70791: 4, 70205: 4, 128974: 4, 129187: 4, 67694: 4, 130939: 4, 132582: 4, 66337: 4, 128233: 4, 65192: 4, 132425: 4, 132374: 4, 65334: 4, 65350: 4, 65444: 4, 65653: 4, 72028: 4, 132031: 4, 72005: 4, 132006: 4, 131914: 4, 131913: 4, 71897: 4, 67497: 4, 131548: 4, 66708: 4, 128506: 4, 71884: 4, 66945: 4, 71799: 4, 66964: 4, 67034: 4, 67236: 4, 131108: 4, 67298: 4, 71716: 4, 67442: 4, 131021: 4, 135919: 4, 61297: 4, 53189: 4, 56751: 4, 55395: 4, 55454: 4, 55665: 4, 55700: 4, 140357: 4, 55973: 4, 76957: 4, 56201: 4, 76865: 4, 76611: 4, 125027: 4, 76512: 4, 56598: 4, 56707: 4, 76350: 4, 124946: 4, 76070: 4, 125240: 4, 139747: 4, 139642: 4, 125276: 4, 125303: 4, 57354: 4, 139575: 4, 139574: 4, 57379: 4, 57601: 4, 75875: 4, 125440: 4, 57712: 4, 55202: 4, 140822: 4, 57986: 4, 77840: 4, 53254: 4, 78469: 4, 53301: 4, 53332: 4, 78340: 4, 123597: 4, 142103: 4, 53458: 4, 123784: 4, 78236: 4, 142076: 4, 53659: 4, 77971: 4, 77891: 4, 142026: 4, 77045: 4, 54161: 4, 77738: 4, 77710: 4, 141876: 4, 141651: 4, 54429: 4, 124536: 4, 77526: 4, 54740: 4, 141328: 4, 124648: 4, 140947: 4, 77072: 4, 55180: 4, 57949: 4, 75842: 4, 136022: 4, 136616: 4, 126495: 4, 59808: 4, 137348: 4, 74810: 4, 59895: 4, 59944: 4, 60031: 4, 74505: 4, 126671: 4, 136791: 4, 136695: 4, 74238: 4, 136667: 4, 60146: 4, 60178: 4, 59559: 4, 136551: 4, 74176: 4, 60255: 4, 136430: 4, 60400: 4, 60419: 4, 136419: 4, 60439: 4, 60517: 4, 60823: 4, 74172: 4, 136234: 4, 126827: 4, 126883: 4, 137497: 4, 137663: 4, 139273: 4, 138855: 4, 58167: 4, 139221: 4, 139209: 4, 58174: 4, 75691: 4, 75595: 4, 75568: 4, 138955: 4, 58319: 4, 138910: 4, 138892: 4, 58363: 4, 58379: 4, 125826: 4, 138744: 4, 126360: 4, 75355: 4, 138641: 4, 125917: 4, 138437: 4, 75335: 4, 138397: 4, 58515: 4, 138380: 4, 75286: 4, 58644: 4, 138301: 4, 58724: 4, 138132: 4, 126331: 4, 116041: 4, 117156: 4, 116032: 4, 172888: 4, 15213: 4, 172588: 4, 172462: 4, 172377: 4, 15500: 4, 172186: 4, 15822: 4, 15918: 4, 15936: 4, 96913: 4, 96876: 4, 16034: 4, 16110: 4, 96776: 4, 171569: 4, 16585: 4, 171389: 4, 171235: 4, 16713: 4, 108685: 4, 16803: 4, 108747: 4, 171079: 4, 16835: 4, 171026: 4, 16867: 4, 16935: 4, 17058: 4, 17065: 4, 15150: 4, 14998: 4, 170804: 4, 14965: 4, 107675: 4, 175000: 4, 12641: 4, 107726: 4, 13164: 4, 174911: 4, 174723: 4, 13173: 4, 107780: 4, 174642: 4, 174638: 4, 97952: 4, 13709: 4, 174509: 4, 13896: 4, 14007: 4, 108141: 4, 108182: 4, 14281: 4, 14336: 4, 14392: 4, 173856: 4, 14423: 4, 14449: 4, 14808: 4, 173509: 4, 14897: 4, 173301: 4, 173253: 4, 96611: 4, 17277: 4, 12331: 4, 95658: 4, 95269: 4, 169677: 4, 169634: 4, 110227: 4, 95193: 4, 169534: 4, 94984: 4, 169255: 4, 110381: 4, 20350: 4, 20401: 4, 169054: 4, 20409: 4, 20418: 4, 20448: 4, 20622: 4, 94971: 4, 168639: 4, 110771: 4, 168545: 4, 20755: 4, 168408: 4, 20804: 4, 94931: 4, 94865: 4, 168006: 4, 20916: 4, 94840: 4, 21112: 4, 19303: 4, 169770: 4, 109049: 4, 110019: 4, 17353: 4, 170767: 4, 96608: 4, 17507: 4, 170702: 4, 17578: 4, 17724: 4, 96528: 4, 18012: 4, 170612: 4, 170572: 4, 18250: 4, 109367: 4, 109403: 4, 96063: 4, 96019: 4, 170317: 4, 18412: 4, 32184: 4, 95933: 4, 170192: 4, 18714: 4, 18908: 4, 18913: 4, 169934: 4, 95738: 4, 109783: 4, 109971: 4, 169827: 4, 175123: 4, 98535: 4, 167813: 4, 102939: 4, 181666: 4, 102505: 4, 102399: 4, 181411: 4, 4066: 4, 4131: 4, 4164: 4, 4365: 4, 102335: 4, 180865: 4, 4570: 4, 4802: 4, 105360: 4, 102196: 4, 105596: 4, 5048: 4, 5127: 4, 5163: 4, 102034: 4, 5225: 4, 5287: 4, 5333: 4, 5609: 4, 179859: 4, 5639: 4, 105769: 4, 5709: 4, 179648: 4, 101704: 4, 181856: 4, 3416: 4, 179576: 4, 3350: 4, 300: 4, 383: 4, 424: 4, 487: 4, 104404: 4, 183730: 4, 183722: 4, 567: 4, 183597: 4, 595: 4, 776: 4, 104451: 4, 104469: 4, 104059: 4, 183460: 4, 103867: 4, 183171: 4, 1083: 4, 183103: 4, 1558: 4, 1608: 4, 182829: 4, 182781: 4, 1706: 4, 182551: 4, 2090: 4, 104939: 4, 2799: 4, 2855: 4, 105840: 4, 6347: 4, 12112: 4, 99390: 4, 176916: 4, 99298: 4, 176716: 4, 176682: 4, 176658: 4, 176477: 4, 9414: 4, 9440: 4, 9504: 4, 9806: 4, 99067: 4, 106895: 4, 10660: 4, 10985: 4, 107140: 4, 107265: 4, 175886: 4, 175874: 4, 11231: 4, 11325: 4, 107333: 4, 98804: 4, 11456: 4, 11521: 4, 98757: 4, 107394: 4, 11817: 4, 107491: 4, 107514: 4, 8687: 4, 99469: 4, 6497: 4, 99648: 4, 179414: 4, 179408: 4, 106128: 4, 178890: 4, 6840: 4, 100506: 4, 178570: 4, 6894: 4, 6958: 4, 7056: 4, 178107: 4, 7384: 4, 106179: 4, 106198: 4, 178056: 4, 177968: 4, 177934: 4, 106417: 4, 100251: 4, 177638: 4, 7962: 4, 7970: 4, 100119: 4, 100098: 4, 8141: 4, 177531: 4, 8201: 4, 177405: 4, 8250: 4, 94815: 4, 70772: 4, 110890: 4, 24642: 4, 91553: 4, 94781: 4, 26579: 4, 114016: 4, 26761: 4, 91425: 4, 91266: 4, 114304: 4, 163523: 4, 91258: 4, 114365: 4, 163512: 4, 114413: 4, 27616: 4, 27907: 4, 27961: 4, 28072: 4, 91023: 4, 114629: 4, 28430: 4, 28481: 4, 90839: 4, 114655: 4, 162715: 4, 90784: 4, 162641: 4, 29117: 4, 163754: 4, 163776: 4, 113630: 4, 25389: 4, 24697: 4, 92724: 4, 164956: 4, 164905: 4, 24769: 4, 24778: 4, 24835: 4, 92390: 4, 25261: 4, 113062: 4, 91937: 4, 113203: 4, 25405: 4, 163912: 4, 164418: 4, 164348: 4, 91792: 4, 25604: 4, 113537: 4, 164150: 4, 164140: 4, 25957: 4, 25976: 4, 91751: 4, 164036: 4, 91692: 4, 29133: 4, 162519: 4, 162473: 4, 159230: 4, 30933: 4, 89475: 4, 31010: 4, 31053: 4, 31082: 4, 31134: 4, 159787: 4, 115751: 4, 159428: 4, 31261: 4, 31278: 4, 89361: 4, 31551: 4, 160361: 4, 31624: 4, 89179: 4, 31816: 4, 31838: 4, 158997: 4, 115841: 4, 89059: 4, 88879: 4, 32028: 4, 32076: 4, 32110: 4, 32159: 4, 183800: 4, 160507: 4, 29394: 4, 30493: 4, 29408: 4, 90481: 4, 114799: 4, 162137: 4, 29885: 4, 29905: 4, 30072: 4, 30125: 4, 90423: 4, 115062: 4, 90300: 4, 90146: 4, 30554: 4, 160511: 4, 115231: 4, 161346: 4, 161275: 4, 161222: 4, 30560: 4, 115410: 4, 89911: 4, 160939: 4, 30650: 4, 30744: 4, 30746: 4, 30779: 4, 112709: 4, 91532: 4, 93591: 4, 165654: 4, 166753: 4, 23881: 4, 23231: 4, 22023: 4, 111032: 4, 21937: 4, 21895: 4, 166130: 4, 111731: 4, 93269: 4, 93194: 4, 21870: 4, 165932: 4, 93794: 4, 23392: 4, 93872: 4, 94087: 4, 165697: 4, 111054: 4, 93335: 4, 111747: 4, 111749: 4, 165763: 4, 94153: 4, 22200: 4, 23714: 4, 167056: 4, 22409: 4, 94173: 4, 167375: 4, 23664: 4, 93483: 4, 93257: 4, 92883: 4, 21684: 4, 22888: 4, 92798: 4, 21264: 4, 94651: 4, 22981: 4, 23065: 4, 112412: 4, 112280: 4, 23127: 4, 111444: 4, 23138: 4, 93116: 4, 111926: 4, 166220: 4, 165503: 4, 112169: 4, 100575: 3, 72261: 3, 101971: 3, 86947: 3, 233649: 3, 101988: 3, 79687: 3, 233539: 3, 101172: 3, 233745: 3, 228880: 3, 233656: 3, 90358: 3, 87129: 3, 100887: 3, 79854: 3, 101226: 3, 94100: 3, 233648: 3, 232036: 3, 226069: 3, 81845: 3, 86849: 3, 90286: 3, 101369: 3, 101381: 3, 100590: 3, 229912: 3, 240280: 3, 226341: 3, 233731: 3, 82001: 3, 72875: 3, 87147: 3, 79527: 3, 95511: 3, 230599: 3, 87257: 3, 102227: 3, 225154: 3, 240822: 3, 103733: 3, 87875: 3, 232266: 3, 233250: 3, 88012: 3, 94944: 3, 94474: 3, 103761: 3, 103828: 3, 81580: 3, 81564: 3, 71591: 3, 80776: 3, 240883: 3, 236112: 3, 89093: 3, 94513: 3, 94639: 3, 88686: 3, 232522: 3, 88767: 3, 81551: 3, 232611: 3, 94737: 3, 81153: 3, 94455: 3, 225177: 3, 232199: 3, 71940: 3, 232093: 3, 89761: 3, 233444: 3, 72233: 3, 225634: 3, 79982: 3, 229064: 3, 71981: 3, 231518: 3, 89558: 3, 80067: 3, 71967: 3, 80477: 3, 103630: 3, 102542: 3, 102842: 3, 102844: 3, 94290: 3, 225414: 3, 233398: 3, 103028: 3, 229085: 3, 225366: 3, 240687: 3, 103055: 3, 103624: 3, 225612: 3, 239946: 3, 86481: 3, 96545: 3, 97343: 3, 227538: 3, 230968: 3, 83283: 3, 235688: 3, 228073: 3, 231048: 3, 237914: 3, 97906: 3, 75556: 3, 83880: 3, 82102: 3, 91627: 3, 97272: 3, 98104: 3, 91576: 3, 84423: 3, 84426: 3, 75306: 3, 237722: 3, 98207: 3, 230241: 3, 234685: 3, 75251: 3, 239089: 3, 239310: 3, 75764: 3, 83178: 3, 226491: 3, 238186: 3, 76965: 3, 227886: 3, 235394: 3, 238339: 3, 230490: 3, 92664: 3, 235371: 3, 92561: 3, 235356: 3, 77516: 3, 97044: 3, 76259: 3, 82445: 3, 77629: 3, 75951: 3, 238644: 3, 96718: 3, 82859: 3, 97055: 3, 97198: 3, 227672: 3, 238131: 3, 230950: 3, 96659: 3, 83046: 3, 238731: 3, 75032: 3, 237580: 3, 231241: 3, 95888: 3, 73893: 3, 78777: 3, 99281: 3, 237334: 3, 73892: 3, 226847: 3, 99328: 3, 95954: 3, 233955: 3, 233941: 3, 228571: 3, 79150: 3, 235872: 3, 227368: 3, 90694: 3, 231462: 3, 230581: 3, 95741: 3, 73504: 3, 73486: 3, 100256: 3, 73215: 3, 237025: 3, 226548: 3, 240209: 3, 86463: 3, 90971: 3, 99196: 3, 231330: 3, 99165: 3, 98468: 3, 74871: 3, 93427: 3, 84639: 3, 96475: 3, 84831: 3, 78265: 3, 78323: 3, 74595: 3, 74569: 3, 237451: 3, 228189: 3, 85327: 3, 96103: 3, 85669: 3, 230165: 3, 74187: 3, 98825: 3, 231290: 3, 85806: 3, 78518: 3, 227161: 3, 234087: 3, 78619: 3, 78772: 3, 78975: 3, 249933: 3, 70543: 3, 265904: 3, 266642: 3, 266566: 3, 266510: 3, 23642: 3, 23666: 3, 23835: 3, 266328: 3, 24188: 3, 24191: 3, 266126: 3, 24193: 3, 265940: 3, 24348: 3, 265908: 3, 24570: 3, 70238: 3, 265676: 3, 24624: 3, 265595: 3, 24694: 3, 24751: 3, 24768: 3, 24773: 3, 265257: 3, 25351: 3, 25359: 3, 25373: 3, 25454: 3, 25466: 3, 25580: 3, 266764: 3, 266796: 3, 22922: 3, 22809: 3, 20254: 3, 268603: 3, 20294: 3, 20404: 3, 20664: 3, 20668: 3, 20751: 3, 268134: 3, 20806: 3, 20995: 3, 267984: 3, 21155: 3, 21261: 3, 267878: 3, 267811: 3, 21406: 3, 21593: 3, 21860: 3, 267540: 3, 267418: 3, 22121: 3, 22126: 3, 22362: 3, 22605: 3, 22617: 3, 22624: 3, 22657: 3, 22710: 3, 22780: 3, 25856: 3, 264555: 3, 26030: 3, 30411: 3, 30590: 3, 30598: 3, 261768: 3, 30795: 3, 261397: 3, 30889: 3, 261307: 3, 30979: 3, 31230: 3, 260959: 3, 260879: 3, 31355: 3, 31702: 3, 260453: 3, 260364: 3, 31987: 3, 260324: 3, 32003: 3, 259757: 3, 32362: 3, 32412: 3, 32417: 3, 32530: 3, 32793: 3, 259479: 3, 33030: 3, 33114: 3, 33345: 3, 33408: 3, 261888: 3, 30324: 3, 26070: 3, 30183: 3, 264462: 3, 26124: 3, 264397: 3, 26146: 3, 26206: 3, 26443: 3, 26612: 3, 264027: 3, 27222: 3, 263793: 3, 263691: 3, 263534: 3, 263445: 3, 27606: 3, 263272: 3, 28156: 3, 28219: 3, 28373: 3, 29000: 3, 262795: 3, 29015: 3, 29486: 3, 262577: 3, 262574: 3, 262569: 3, 262357: 3, 30131: 3, 262298: 3, 262281: 3, 20062: 3, 20022: 3, 19970: 3, 275923: 3, 5674: 3, 5722: 3, 5920: 3, 5932: 3, 275374: 3, 5942: 3, 5998: 3, 6112: 3, 6505: 3, 6509: 3, 6582: 3, 6604: 3, 6731: 3, 6871: 3, 274719: 3, 274701: 3, 7528: 3, 274637: 3, 7565: 3, 274612: 3, 7930: 3, 274363: 3, 8040: 3, 8290: 3, 8313: 3, 8660: 3, 8955: 3, 9183: 3, 9408: 3, 5555: 3, 5207: 3, 273849: 3, 4896: 3, 566: 3, 278346: 3, 853: 3, 278257: 3, 899: 3, 900: 3, 901: 3, 1688: 3, 1812: 3, 277929: 3, 2197: 3, 2442: 3, 3017: 3, 3192: 3, 277051: 3, 276988: 3, 3467: 3, 3569: 3, 276861: 3, 276859: 3, 276822: 3, 276747: 3, 3693: 3, 276581: 3, 276412: 3, 4420: 3, 4571: 3, 276213: 3, 4838: 3, 273905: 3, 273709: 3, 19935: 3, 270761: 3, 16418: 3, 16749: 3, 16805: 3, 16919: 3, 17073: 3, 270051: 3, 269852: 3, 17330: 3, 17391: 3, 269787: 3, 269692: 3, 18016: 3, 269578: 3, 18167: 3, 18316: 3, 18323: 3, 18333: 3, 18366: 3, 18385: 3, 18429: 3, 18519: 3, 18710: 3, 18722: 3, 18922: 3, 268939: 3, 18963: 3, 268882: 3, 18995: 3, 19220: 3, 270714: 3, 15962: 3, 9974: 3, 15230: 3, 10619: 3, 10836: 3, 11038: 3, 11198: 3, 11206: 3, 11399: 3, 11435: 3, 272887: 3, 11709: 3, 272722: 3, 272708: 3, 12143: 3, 272516: 3, 12282: 3, 12362: 3, 12756: 3, 13060: 3, 13347: 3, 271681: 3, 13380: 3, 13867: 3, 14116: 3, 271516: 3, 14517: 3, 271374: 3, 271364: 3, 15040: 3, 271135: 3, 271086: 3, 33590: 3, 259258: 3, 33633: 3, 56213: 3, 247720: 3, 56579: 3, 57072: 3, 247211: 3, 247176: 3, 57180: 3, 247108: 3, 57229: 3, 57265: 3, 57305: 3, 246782: 3, 57697: 3, 57726: 3, 57989: 3, 57999: 3, 58231: 3, 58252: 3, 58290: 3, 246400: 3, 58397: 3, 246318: 3, 58473: 3, 58482: 3, 58485: 3, 58641: 3, 58709: 3, 245978: 3, 58834: 3, 59034: 3, 247739: 3, 247848: 3, 245746: 3, 247978: 3, 53236: 3, 249146: 3, 249128: 3, 249071: 3, 249064: 3, 53376: 3, 248967: 3, 53390: 3, 248821: 3, 248810: 3, 248775: 3, 248727: 3, 53851: 3, 53934: 3, 54095: 3, 54145: 3, 54205: 3, 54218: 3, 248539: 3, 54497: 3, 54648: 3, 54731: 3, 54812: 3, 248325: 3, 55021: 3, 248250: 3, 248209: 3, 248170: 3, 55197: 3, 245864: 3, 245703: 3, 249256: 3, 243585: 3, 243490: 3, 243363: 3, 64629: 3, 243276: 3, 243141: 3, 65056: 3, 65752: 3, 242752: 3, 66088: 3, 66255: 3, 66370: 3, 242558: 3, 242500: 3, 242414: 3, 66938: 3, 66956: 3, 242273: 3, 67358: 3, 67542: 3, 67785: 3, 67810: 3, 68050: 3, 241992: 3, 68234: 3, 68491: 3, 68621: 3, 68690: 3, 69310: 3, 70063: 3, 243546: 3, 64120: 3, 59604: 3, 64086: 3, 245499: 3, 59948: 3, 60004: 3, 60080: 3, 60081: 3, 245257: 3, 60083: 3, 60251: 3, 60941: 3, 61021: 3, 61090: 3, 61271: 3, 61524: 3, 62410: 3, 62546: 3, 62592: 3, 62667: 3, 63243: 3, 244285: 3, 63246: 3, 244242: 3, 63404: 3, 63643: 3, 63765: 3, 63849: 3, 63924: 3, 243964: 3, 64073: 3, 243917: 3, 53229: 3, 52987: 3, 34152: 3, 37597: 3, 37689: 3, 37693: 3, 256820: 3, 256633: 3, 38169: 3, 38217: 3, 38248: 3, 38524: 3, 38559: 3, 255979: 3, 255874: 3, 255837: 3, 38762: 3, 255697: 3, 255677: 3, 38832: 3, 38935: 3, 39265: 3, 39523: 3, 39527: 3, 255056: 3, 39608: 3, 39651: 3, 39664: 3, 254867: 3, 254852: 3, 40043: 3, 40367: 3, 254547: 3, 256892: 3, 257012: 3, 40934: 3, 37332: 3, 34230: 3, 34460: 3, 258970: 3, 34581: 3, 34597: 3, 258769: 3, 35179: 3, 35484: 3, 258495: 3, 258462: 3, 258459: 3, 258352: 3, 35612: 3, 258235: 3, 35964: 3, 35966: 3, 257962: 3, 35979: 3, 257810: 3, 257784: 3, 36229: 3, 257714: 3, 257707: 3, 36269: 3, 257591: 3, 36677: 3, 37083: 3, 37164: 3, 37300: 3, 40617: 3, 41324: 3, 52768: 3, 47758: 3, 251170: 3, 47851: 3, 47922: 3, 47929: 3, 48307: 3, 48644: 3, 48899: 3, 48999: 3, 49582: 3, 50165: 3, 50196: 3, 50376: 3, 250413: 3, 50456: 3, 50570: 3, 50832: 3, 50845: 3, 250359: 3, 51099: 3, 51227: 3, 51269: 3, 51440: 3, 250163: 3, 51687: 3, 249791: 3, 52320: 3, 52438: 3, 52574: 3, 52586: 3, 251325: 3, 251352: 3, 41580: 3, 47605: 3, 41687: 3, 41751: 3, 41831: 3, 41897: 3, 42025: 3, 42333: 3, 42718: 3, 42852: 3, 43285: 3, 43404: 3, 43407: 3, 253157: 3, 43873: 3, 43925: 3, 44647: 3, 252662: 3, 252628: 3, 252622: 3, 252598: 3, 252560: 3, 45435: 3, 45470: 3, 45507: 3, 45899: 3, 252211: 3, 251975: 3, 46484: 3, 251580: 3, 251442: 3, 104160: 3, 232109: 3, 193744: 3, 215512: 3, 177556: 3, 168804: 3, 122675: 3, 150297: 3, 149893: 3, 123173: 3, 169027: 3, 149802: 3, 187155: 3, 177573: 3, 123410: 3, 123500: 3, 169076: 3, 123617: 3, 123961: 3, 177021: 3, 215136: 3, 124010: 3, 168719: 3, 150468: 3, 126747: 3, 168487: 3, 150911: 3, 191795: 3, 121532: 3, 215953: 3, 168307: 3, 121561: 3, 121667: 3, 150706: 3, 121719: 3, 215683: 3, 215801: 3, 150627: 3, 122352: 3, 168636: 3, 177630: 3, 150516: 3, 150482: 3, 122656: 3, 169181: 3, 148847: 3, 148731: 3, 213790: 3, 176277: 3, 187606: 3, 146585: 3, 213941: 3, 146582: 3, 176110: 3, 213845: 3, 125918: 3, 126026: 3, 169357: 3, 169784: 3, 169877: 3, 146561: 3, 146428: 3, 203935: 3, 146321: 3, 126653: 3, 146319: 3, 125334: 3, 125256: 3, 176357: 3, 203533: 3, 169380: 3, 176894: 3, 124233: 3, 124442: 3, 148559: 3, 148133: 3, 124489: 3, 214890: 3, 147820: 3, 147781: 3, 214821: 3, 124717: 3, 214673: 3, 214657: 3, 214651: 3, 203491: 3, 124988: 3, 191807: 3, 121398: 3, 121275: 3, 117683: 3, 117196: 3, 218276: 3, 117345: 3, 167386: 3, 117418: 3, 117543: 3, 200300: 3, 117581: 3, 117861: 3, 217566: 3, 153570: 3, 167438: 3, 217989: 3, 117877: 3, 217934: 3, 217917: 3, 200556: 3, 167442: 3, 185752: 3, 218404: 3, 116990: 3, 167166: 3, 199167: 3, 199180: 3, 154855: 3, 116210: 3, 199336: 3, 218831: 3, 199353: 3, 199384: 3, 116391: 3, 199491: 3, 192453: 3, 166856: 3, 199562: 3, 199764: 3, 154460: 3, 185683: 3, 154129: 3, 153279: 3, 153079: 3, 191855: 3, 167768: 3, 217117: 3, 178065: 3, 201598: 3, 119579: 3, 119582: 3, 216869: 3, 192083: 3, 151702: 3, 120917: 3, 179553: 3, 201870: 3, 186821: 3, 186831: 3, 121081: 3, 121119: 3, 167794: 3, 216306: 3, 167906: 3, 201575: 3, 152307: 3, 201383: 3, 217252: 3, 200707: 3, 167484: 3, 186115: 3, 118632: 3, 152963: 3, 152960: 3, 118985: 3, 217313: 3, 152958: 3, 179068: 3, 152831: 3, 152827: 3, 186457: 3, 152813: 3, 152726: 3, 201154: 3, 152568: 3, 187731: 3, 204117: 3, 155260: 3, 171165: 3, 140133: 3, 209262: 3, 134835: 3, 206570: 3, 209220: 3, 206573: 3, 209204: 3, 174004: 3, 189665: 3, 171088: 3, 173969: 3, 173881: 3, 209085: 3, 135064: 3, 208969: 3, 135129: 3, 173769: 3, 173654: 3, 209339: 3, 171065: 3, 176037: 3, 174376: 3, 140758: 3, 206300: 3, 132687: 3, 140711: 3, 140478: 3, 206306: 3, 133123: 3, 133192: 3, 140423: 3, 140226: 3, 133569: 3, 140382: 3, 140341: 3, 133958: 3, 140291: 3, 171005: 3, 206441: 3, 134478: 3, 206835: 3, 139598: 3, 206907: 3, 207702: 3, 207570: 3, 207623: 3, 138393: 3, 136477: 3, 136638: 3, 136662: 3, 172865: 3, 136923: 3, 208099: 3, 171506: 3, 137077: 3, 137082: 3, 138259: 3, 137437: 3, 171942: 3, 137480: 3, 171972: 3, 172367: 3, 207417: 3, 136371: 3, 173053: 3, 171774: 3, 135778: 3, 208674: 3, 135872: 3, 207251: 3, 208622: 3, 135957: 3, 135959: 3, 188772: 3, 135988: 3, 136037: 3, 136135: 3, 139031: 3, 173203: 3, 138951: 3, 207356: 3, 208556: 3, 188912: 3, 206204: 3, 132371: 3, 170837: 3, 143668: 3, 144642: 3, 144486: 3, 144219: 3, 212357: 3, 190492: 3, 212240: 3, 212226: 3, 175510: 3, 128942: 3, 170675: 3, 187954: 3, 170558: 3, 129114: 3, 143629: 3, 143609: 3, 143571: 3, 143463: 3, 143429: 3, 144822: 3, 212497: 3, 212607: 3, 145548: 3, 146118: 3, 170092: 3, 127089: 3, 127114: 3, 176005: 3, 204311: 3, 146081: 3, 212991: 3, 190791: 3, 212986: 3, 212984: 3, 145706: 3, 127431: 3, 127490: 3, 127930: 3, 145558: 3, 170181: 3, 211971: 3, 129255: 3, 188421: 3, 174916: 3, 205909: 3, 131246: 3, 131293: 3, 205922: 3, 142024: 3, 141954: 3, 131476: 3, 206013: 3, 131675: 3, 211929: 3, 206045: 3, 210535: 3, 140974: 3, 132152: 3, 170805: 3, 132357: 3, 206160: 3, 140938: 3, 131213: 3, 131039: 3, 210838: 3, 142065: 3, 170699: 3, 205389: 3, 142649: 3, 205502: 3, 129835: 3, 142454: 3, 142300: 3, 130480: 3, 205634: 3, 130485: 3, 174987: 3, 142090: 3, 130915: 3, 131006: 3, 190054: 3, 210912: 3, 205784: 3, 116063: 3, 186736: 3, 115847: 3, 196930: 3, 157208: 3, 163140: 3, 163128: 3, 197609: 3, 197548: 3, 157468: 3, 221185: 3, 223701: 3, 197189: 3, 158509: 3, 185119: 3, 106503: 3, 106534: 3, 156424: 3, 111358: 3, 158589: 3, 106538: 3, 106583: 3, 165838: 3, 193549: 3, 182577: 3, 158791: 3, 194803: 3, 221550: 3, 192960: 3, 182429: 3, 181254: 3, 182881: 3, 157101: 3, 197728: 3, 184272: 3, 164583: 3, 220498: 3, 198243: 3, 113241: 3, 113083: 3, 156540: 3, 163586: 3, 184348: 3, 224003: 3, 163554: 3, 105813: 3, 156609: 3, 156698: 3, 112977: 3, 193661: 3, 112736: 3, 105987: 3, 220724: 3, 156972: 3, 181120: 3, 192844: 3, 112643: 3, 157018: 3, 112243: 3, 111045: 3, 165811: 3, 221701: 3, 182306: 3, 160332: 3, 108271: 3, 108272: 3, 108275: 3, 223034: 3, 110093: 3, 162035: 3, 160714: 3, 195441: 3, 161685: 3, 108478: 3, 222884: 3, 109700: 3, 222363: 3, 222368: 3, 108487: 3, 182212: 3, 165435: 3, 161102: 3, 109012: 3, 109416: 3, 109033: 3, 161443: 3, 182229: 3, 161511: 3, 160242: 3, 165507: 3, 162798: 3, 182157: 3, 110993: 3, 221713: 3, 106821: 3, 196598: 3, 110979: 3, 164966: 3, 165182: 3, 159283: 3, 107283: 3, 110820: 3, 107540: 3, 182367: 3, 165549: 3, 196443: 3, 193336: 3, 184885: 3, 162625: 3, 110572: 3, 195128: 3, 159802: 3, 222041: 3, 107718: 3, 110349: 3, 107852: 3, 165420: 3, 156462: 3, 157192: 3, 224360: 3, 180549: 3, 114785: 3, 198711: 3, 166363: 3, 105295: 3, 219260: 3, 185359: 3, 198969: 3, 164513: 3, 164307: 3, 105324: 3, 114611: 3, 114601: 3, 219259: 3, 115589: 3, 198692: 3, 193768: 3, 180383: 3, 166569: 3, 183665: 3, 115752: 3, 114983: 3, 185402: 3, 183776: 3, 166390: 3, 198790: 3, 192692: 3, 105114: 3, 115286: 3, 115162: 3, 164076: 3, 164061: 3, 105012: 3, 104808: 3, 166540: 3, 105128: 3, 156096: 3, 198842: 3, 194146: 3, 192739: 3, 163689: 3, 180942: 3, 164465: 3, 163655: 3, 115792: 3, 113568: 3, 184270: 3, 105649: 3, 184011: 3, 194534: 3, 113755: 3, 224830: 3, 180280: 3, 193746: 3, 219132: 3, 114210: 3, 115754: 3, 185408: 3, 114255: 3, 193786: 2, 29835: 2, 190134: 2, 58516: 2, 248922: 2, 30202: 2, 262208: 2, 195714: 2, 190265: 2, 249015: 2, 250333: 2, 205648: 2, 58629: 2, 165316: 2, 51944: 2, 265014: 2, 170568: 2, 161873: 2, 24558: 2, 262642: 2, 25674: 2, 17453: 2, 245867: 2, 28790: 2, 28602: 2, 145145: 2, 269867: 2, 205804: 2, 53545: 2, 165444: 2, 50824: 2, 193867: 2, 195488: 2, 25695: 2, 195016: 2, 195034: 2, 162690: 2, 190056: 2, 170208: 2, 245750: 2, 171859: 2, 51777: 2, 144110: 2, 170310: 2, 142274: 2, 25561: 2, 18002: 2, 246024: 2, 205360: 2, 15922: 2, 205355: 2, 25893: 2, 269701: 2, 29648: 2, 270776: 2, 207721: 2, 52525: 2, 265692: 2, 170469: 2, 52497: 2, 250192: 2, 264780: 2, 143683: 2, 162092: 2, 269714: 2, 24585: 2, 59266: 2, 59208: 2, 162260: 2, 138372: 2, 138220: 2, 195321: 2, 249826: 2, 205505: 2, 264892: 2, 171783: 2, 250153: 2, 53150: 2, 143976: 2, 164191: 2, 205153: 2, 17789: 2, 170519: 2, 142735: 2, 249235: 2, 142772: 2, 51449: 2, 57247: 2, 138467: 2, 56066: 2, 140161: 2, 263805: 2, 56442: 2, 193664: 2, 206972: 2, 206979: 2, 27287: 2, 27363: 2, 206531: 2, 27538: 2, 246757: 2, 246671: 2, 163533: 2, 263601: 2, 263585: 2, 56045: 2, 26432: 2, 27551: 2, 55955: 2, 194637: 2, 26346: 2, 189536: 2, 264329: 2, 139300: 2, 139369: 2, 263852: 2, 138690: 2, 26548: 2, 139904: 2, 57214: 2, 206693: 2, 139907: 2, 57157: 2, 16492: 2, 26711: 2, 139967: 2, 26751: 2, 57148: 2, 265201: 2, 57109: 2, 263872: 2, 57002: 2, 264124: 2, 163681: 2, 16708: 2, 25041: 2, 57686: 2, 171134: 2, 56718: 2, 24945: 2, 246794: 2, 139480: 2, 55687: 2, 27573: 2, 27593: 2, 17224: 2, 162962: 2, 263300: 2, 17180: 2, 269988: 2, 248419: 2, 263238: 2, 141086: 2, 162917: 2, 207384: 2, 269986: 2, 54704: 2, 138886: 2, 204507: 2, 263186: 2, 206701: 2, 141543: 2, 263159: 2, 269916: 2, 194957: 2, 193533: 2, 194964: 2, 164965: 2, 142039: 2, 162747: 2, 265031: 2, 17172: 2, 270070: 2, 246478: 2, 207095: 2, 16137: 2, 17045: 2, 25298: 2, 247958: 2, 55511: 2, 164944: 2, 163886: 2, 263357: 2, 171594: 2, 265498: 2, 139102: 2, 248033: 2, 55375: 2, 170982: 2, 163925: 2, 55217: 2, 264463: 2, 164008: 2, 24767: 2, 189844: 2, 27809: 2, 27890: 2, 145198: 2, 47861: 2, 145527: 2, 152291: 2, 151602: 2, 21357: 2, 151786: 2, 192042: 2, 21490: 2, 34223: 2, 40559: 2, 254498: 2, 254539: 2, 23280: 2, 254543: 2, 151861: 2, 201579: 2, 254665: 2, 40276: 2, 151546: 2, 156395: 2, 201519: 2, 201470: 2, 152401: 2, 39681: 2, 198491: 2, 198515: 2, 34566: 2, 255014: 2, 23271: 2, 21828: 2, 258907: 2, 167759: 2, 255205: 2, 254268: 2, 191968: 2, 167600: 2, 41892: 2, 43052: 2, 268191: 2, 150697: 2, 168337: 2, 202040: 2, 157118: 2, 42511: 2, 42362: 2, 150951: 2, 150960: 2, 167944: 2, 156971: 2, 253859: 2, 201908: 2, 156765: 2, 151470: 2, 21116: 2, 23408: 2, 197961: 2, 254036: 2, 192835: 2, 33763: 2, 201806: 2, 151093: 2, 151312: 2, 191885: 2, 245729: 2, 33905: 2, 201763: 2, 151408: 2, 198612: 2, 198621: 2, 50330: 2, 37034: 2, 153927: 2, 256864: 2, 258277: 2, 266820: 2, 166460: 2, 192230: 2, 154031: 2, 167012: 2, 192277: 2, 37431: 2, 267172: 2, 267162: 2, 267120: 2, 166904: 2, 155454: 2, 37850: 2, 22747: 2, 154633: 2, 36621: 2, 35951: 2, 36613: 2, 154646: 2, 154679: 2, 155317: 2, 154810: 2, 266858: 2, 155287: 2, 22885: 2, 258083: 2, 155237: 2, 35518: 2, 35490: 2, 39379: 2, 192716: 2, 167492: 2, 39241: 2, 34864: 2, 200814: 2, 198699: 2, 22012: 2, 258588: 2, 200679: 2, 200650: 2, 153032: 2, 255782: 2, 38775: 2, 255789: 2, 200631: 2, 38674: 2, 155650: 2, 22015: 2, 153158: 2, 256034: 2, 35458: 2, 38555: 2, 267372: 2, 155982: 2, 38389: 2, 155733: 2, 153541: 2, 155669: 2, 38162: 2, 38029: 2, 153621: 2, 157313: 2, 253352: 2, 253331: 2, 18945: 2, 47987: 2, 47982: 2, 269031: 2, 204044: 2, 24217: 2, 199030: 2, 160431: 2, 24204: 2, 160346: 2, 47819: 2, 47786: 2, 146468: 2, 269009: 2, 268988: 2, 203829: 2, 251085: 2, 47401: 2, 261214: 2, 47329: 2, 47315: 2, 47291: 2, 160101: 2, 251506: 2, 261120: 2, 47256: 2, 47250: 2, 47030: 2, 160077: 2, 47017: 2, 160062: 2, 30771: 2, 251050: 2, 202073: 2, 261775: 2, 269309: 2, 30406: 2, 165457: 2, 50104: 2, 145612: 2, 50007: 2, 165499: 2, 250645: 2, 204391: 2, 250695: 2, 261941: 2, 204366: 2, 161361: 2, 193352: 2, 261769: 2, 48339: 2, 49177: 2, 161065: 2, 49043: 2, 250912: 2, 204205: 2, 250935: 2, 30727: 2, 269105: 2, 48468: 2, 160769: 2, 48421: 2, 250987: 2, 204141: 2, 48342: 2, 46826: 2, 46706: 2, 251730: 2, 44362: 2, 31841: 2, 268584: 2, 31978: 2, 23650: 2, 45002: 2, 191428: 2, 252676: 2, 158852: 2, 44924: 2, 44892: 2, 149035: 2, 252783: 2, 149325: 2, 192937: 2, 149366: 2, 146649: 2, 260239: 2, 32049: 2, 32058: 2, 196898: 2, 168841: 2, 202213: 2, 158559: 2, 158454: 2, 150364: 2, 158347: 2, 158339: 2, 158077: 2, 32575: 2, 259488: 2, 260484: 2, 45148: 2, 159050: 2, 196656: 2, 169681: 2, 46394: 2, 146804: 2, 46312: 2, 251955: 2, 147037: 2, 19609: 2, 252034: 2, 252045: 2, 159333: 2, 19611: 2, 165609: 2, 147414: 2, 147744: 2, 260936: 2, 252279: 2, 24145: 2, 45584: 2, 193220: 2, 31406: 2, 169626: 2, 147804: 2, 45460: 2, 31594: 2, 147878: 2, 31614: 2, 203031: 2, 165781: 2, 45208: 2, 172122: 2, 135061: 2, 207936: 2, 5834: 2, 218325: 2, 86931: 2, 218452: 2, 116950: 2, 218526: 2, 87600: 2, 116786: 2, 275414: 2, 116744: 2, 85280: 2, 233397: 2, 5790: 2, 116705: 2, 5777: 2, 233251: 2, 116676: 2, 87956: 2, 116674: 2, 86837: 2, 179624: 2, 86683: 2, 5956: 2, 85294: 2, 234286: 2, 85379: 2, 85409: 2, 118542: 2, 6330: 2, 6273: 2, 217681: 2, 233995: 2, 118010: 2, 85999: 2, 117912: 2, 86136: 2, 185990: 2, 185795: 2, 233798: 2, 275317: 2, 275531: 2, 179853: 2, 88243: 2, 90134: 2, 90170: 2, 90279: 2, 115081: 2, 115045: 2, 231612: 2, 115006: 2, 4816: 2, 180569: 2, 90830: 2, 91001: 2, 180571: 2, 91244: 2, 220081: 2, 180898: 2, 113821: 2, 113723: 2, 113612: 2, 115214: 2, 90088: 2, 88278: 2, 180522: 2, 88631: 2, 185580: 2, 232773: 2, 218848: 2, 115973: 2, 88946: 2, 219073: 2, 5375: 2, 275825: 2, 5331: 2, 89634: 2, 180436: 2, 180509: 2, 5204: 2, 89905: 2, 232048: 2, 219294: 2, 234342: 2, 85268: 2, 220435: 2, 7630: 2, 215832: 2, 177673: 2, 236593: 2, 80623: 2, 121493: 2, 80693: 2, 80768: 2, 274456: 2, 81279: 2, 85097: 2, 81332: 2, 274602: 2, 81360: 2, 216249: 2, 274605: 2, 121176: 2, 236033: 2, 236032: 2, 79933: 2, 186850: 2, 79916: 2, 79842: 2, 78352: 2, 123231: 2, 215529: 2, 215548: 2, 237318: 2, 237299: 2, 78941: 2, 237257: 2, 237132: 2, 122625: 2, 274368: 2, 274383: 2, 79477: 2, 79506: 2, 122037: 2, 79590: 2, 122011: 2, 120709: 2, 81901: 2, 81982: 2, 83428: 2, 217262: 2, 84111: 2, 186446: 2, 178919: 2, 84308: 2, 234788: 2, 119107: 2, 217292: 2, 84553: 2, 118856: 2, 84742: 2, 118848: 2, 217458: 2, 186293: 2, 84902: 2, 234544: 2, 186041: 2, 83457: 2, 83314: 2, 216679: 2, 83258: 2, 7426: 2, 186678: 2, 274772: 2, 274779: 2, 82123: 2, 235591: 2, 119386: 2, 119369: 2, 82659: 2, 119199: 2, 7155: 2, 7079: 2, 82769: 2, 217134: 2, 7072: 2, 217212: 2, 178269: 2, 91719: 2, 4292: 2, 237518: 2, 106682: 2, 98865: 2, 99001: 2, 99115: 2, 2189: 2, 99227: 2, 2084: 2, 1928: 2, 106777: 2, 106632: 2, 228095: 2, 99386: 2, 99434: 2, 226654: 2, 99954: 2, 106434: 2, 223734: 2, 184496: 2, 277982: 2, 98860: 2, 2363: 2, 2411: 2, 98668: 2, 108997: 2, 227898: 2, 2853: 2, 277562: 2, 227768: 2, 227721: 2, 222918: 2, 108379: 2, 97833: 2, 108123: 2, 107984: 2, 98135: 2, 98256: 2, 2462: 2, 98443: 2, 107616: 2, 98656: 2, 1467: 2, 106018: 2, 1161: 2, 105358: 2, 625: 2, 224241: 2, 105313: 2, 105298: 2, 105286: 2, 184266: 2, 105187: 2, 225286: 2, 103348: 2, 408: 2, 104795: 2, 103699: 2, 224572: 2, 104607: 2, 104532: 2, 224635: 2, 104517: 2, 102232: 2, 105381: 2, 100832: 2, 102158: 2, 226361: 2, 105974: 2, 226336: 2, 183141: 2, 105881: 2, 1063: 2, 226209: 2, 105851: 2, 226184: 2, 226109: 2, 101234: 2, 105795: 2, 184319: 2, 101699: 2, 183446: 2, 101739: 2, 101824: 2, 222638: 2, 222622: 2, 220471: 2, 93711: 2, 3799: 2, 221124: 2, 221190: 2, 230145: 2, 111704: 2, 3757: 2, 230052: 2, 93691: 2, 93726: 2, 222621: 2, 93740: 2, 93769: 2, 276704: 2, 229754: 2, 93855: 2, 3669: 2, 111238: 2, 111210: 2, 111953: 2, 111954: 2, 230317: 2, 3965: 2, 4260: 2, 113277: 2, 92336: 2, 230776: 2, 230757: 2, 92388: 2, 92399: 2, 4138: 2, 92659: 2, 112857: 2, 276538: 2, 220757: 2, 230460: 2, 4090: 2, 230413: 2, 230405: 2, 112069: 2, 181598: 2, 276866: 2, 276875: 2, 110265: 2, 228867: 2, 110128: 2, 95287: 2, 222217: 2, 182164: 2, 3326: 2, 3142: 2, 109639: 2, 2996: 2, 222391: 2, 95995: 2, 109333: 2, 96346: 2, 96402: 2, 277509: 2, 109247: 2, 109180: 2, 110235: 2, 3374: 2, 229478: 2, 228913: 2, 94547: 2, 229417: 2, 110988: 2, 94691: 2, 229386: 2, 276928: 2, 3538: 2, 221946: 2, 229283: 2, 229282: 2, 3471: 2, 182025: 2, 229102: 2, 3462: 2, 94978: 2, 182101: 2, 277107: 2, 215304: 2, 235891: 2, 187989: 2, 70940: 2, 70345: 2, 70569: 2, 175331: 2, 241152: 2, 12122: 2, 70796: 2, 175367: 2, 271511: 2, 71076: 2, 12081: 2, 272763: 2, 264997: 2, 71568: 2, 63783: 2, 212027: 2, 272640: 2, 11690: 2, 209195: 2, 134884: 2, 123501: 2, 129563: 2, 14087: 2, 129345: 2, 69593: 2, 69600: 2, 212002: 2, 69945: 2, 134886: 2, 14201: 2, 12246: 2, 188529: 2, 70066: 2, 175559: 2, 63650: 2, 187810: 2, 208786: 2, 62680: 2, 208791: 2, 128362: 2, 135383: 2, 132531: 2, 240375: 2, 62575: 2, 72163: 2, 135469: 2, 11279: 2, 127453: 2, 72863: 2, 127250: 2, 14573: 2, 273038: 2, 212636: 2, 175738: 2, 128543: 2, 63405: 2, 135185: 2, 135280: 2, 71728: 2, 71761: 2, 135296: 2, 63166: 2, 128365: 2, 62929: 2, 244375: 2, 240577: 2, 11464: 2, 135359: 2, 175752: 2, 241531: 2, 175329: 2, 129572: 2, 66842: 2, 209891: 2, 66423: 2, 131744: 2, 64803: 2, 66428: 2, 243206: 2, 131311: 2, 13223: 2, 242397: 2, 242364: 2, 131296: 2, 209685: 2, 209657: 2, 133654: 2, 131883: 2, 64806: 2, 68811: 2, 174683: 2, 242964: 2, 13682: 2, 132522: 2, 132373: 2, 65377: 2, 210273: 2, 242824: 2, 271615: 2, 242812: 2, 132275: 2, 188295: 2, 64948: 2, 65844: 2, 210420: 2, 174140: 2, 272073: 2, 242248: 2, 64183: 2, 64247: 2, 130396: 2, 64186: 2, 68308: 2, 243768: 2, 68422: 2, 134776: 2, 174962: 2, 129718: 2, 211491: 2, 129665: 2, 129611: 2, 272462: 2, 241569: 2, 175068: 2, 134663: 2, 68073: 2, 64344: 2, 209389: 2, 12388: 2, 242018: 2, 134031: 2, 64373: 2, 130882: 2, 67796: 2, 64440: 2, 12734: 2, 64589: 2, 133868: 2, 12828: 2, 13032: 2, 73091: 2, 72276: 2, 242999: 2, 60787: 2, 238823: 2, 187290: 2, 136420: 2, 214990: 2, 208481: 2, 125655: 2, 60461: 2, 60476: 2, 125734: 2, 238887: 2, 213919: 2, 238921: 2, 136362: 2, 77808: 2, 125885: 2, 75339: 2, 75293: 2, 75127: 2, 208540: 2, 77676: 2, 61043: 2, 239106: 2, 75083: 2, 172713: 2, 176105: 2, 59852: 2, 75783: 2, 208450: 2, 136439: 2, 75833: 2, 238461: 2, 124776: 2, 9224: 2, 76748: 2, 15093: 2, 9289: 2, 60028: 2, 273914: 2, 77400: 2, 176804: 2, 214581: 2, 76300: 2, 125237: 2, 77469: 2, 245312: 2, 176668: 2, 76148: 2, 214851: 2, 124692: 2, 136909: 2, 214389: 2, 136851: 2, 172962: 2, 271142: 2, 125540: 2, 213703: 2, 237962: 2, 244790: 2, 137601: 2, 239642: 2, 74164: 2, 176062: 2, 176047: 2, 8584: 2, 74088: 2, 273252: 2, 8344: 2, 11192: 2, 126973: 2, 177363: 2, 213207: 2, 127014: 2, 239847: 2, 11201: 2, 127084: 2, 237558: 2, 213141: 2, 62100: 2, 62151: 2, 240100: 2, 208648: 2, 62475: 2, 59534: 2, 189227: 2, 73469: 2, 73224: 2, 177330: 2, 10917: 2, 213491: 2, 59734: 2, 10570: 2, 74929: 2, 126404: 2, 74837: 2, 74825: 2, 59763: 2, 61494: 2, 61497: 2, 187626: 2, 213518: 2, 213598: 2, 77825: 2, 124089: 2, 10681: 2, 77886: 2, 74466: 2, 239551: 2, 76866: 2, 173632: 2, 61783: 2, 278668: 1, 183758: 1, 265004: 1, 278637: 1, 172601: 1, 189813: 1, 278565: 1, 3355: 1, 24342: 1, 182183: 1, 24301: 1, 271020: 1, 387: 1, 24211: 1, 184030: 1, 15964: 1, 174568: 1, 16319: 1, 2954: 1, 182382: 1, 171435: 1, 164682: 1, 164706: 1, 173875: 1, 184608: 1, 277879: 1, 188598: 1, 188618: 1, 277923: 1, 14320: 1, 265447: 1, 16237: 1, 16449: 1, 173652: 1, 16258: 1, 277954: 1, 182987: 1, 270692: 1, 14914: 1, 271173: 1, 183739: 1, 278449: 1, 16005: 1, 24462: 1, 15076: 1, 174081: 1, 24515: 1, 171020: 1, 164524: 1, 278529: 1, 741: 1, 2622: 1, 850: 1, 183541: 1, 184292: 1, 182727: 1, 24838: 1, 193696: 1, 24612: 1, 265626: 1, 277563: 1, 169101: 1, 277087: 1, 24172: 1, 169905: 1, 167756: 1, 190871: 1, 178485: 1, 10546: 1, 178181: 1, 274988: 1, 21750: 1, 9850: 1, 190955: 1, 7181: 1, 274812: 1, 274811: 1, 192068: 1, 7400: 1, 10590: 1, 176100: 1, 21918: 1, 22192: 1, 22532: 1, 179641: 1, 11260: 1, 22296: 1, 18886: 1, 273133: 1, 170158: 1, 10750: 1, 167403: 1, 192172: 1, 6249: 1, 22022: 1, 269060: 1, 179444: 1, 21469: 1, 7418: 1, 267789: 1, 186905: 1, 9188: 1, 169558: 1, 9029: 1, 8844: 1, 191709: 1, 8765: 1, 187108: 1, 191020: 1, 168815: 1, 268328: 1, 191578: 1, 274293: 1, 187163: 1, 20345: 1, 7916: 1, 268074: 1, 176254: 1, 177932: 1, 190997: 1, 186685: 1, 274645: 1, 187536: 1, 15542: 1, 19522: 1, 7547: 1, 19885: 1, 167790: 1, 274609: 1, 19815: 1, 268022: 1, 21070: 1, 7882: 1, 269250: 1, 175822: 1, 175759: 1, 12576: 1, 188162: 1, 12754: 1, 190082: 1, 12657: 1, 192895: 1, 190169: 1, 272415: 1, 190033: 1, 276602: 1, 181233: 1, 266580: 1, 4114: 1, 170701: 1, 269727: 1, 23631: 1, 170791: 1, 181011: 1, 188287: 1, 24082: 1, 181997: 1, 24027: 1, 193148: 1, 276904: 1, 165759: 1, 17247: 1, 272052: 1, 271988: 1, 181532: 1, 181496: 1, 276813: 1, 181476: 1, 272002: 1, 175189: 1, 180981: 1, 190709: 1, 166719: 1, 179904: 1, 11639: 1, 11590: 1, 275631: 1, 5669: 1, 166689: 1, 187871: 1, 5490: 1, 18671: 1, 179793: 1, 185679: 1, 22648: 1, 267103: 1, 175754: 1, 180164: 1, 5416: 1, 266719: 1, 18038: 1, 190347: 1, 180779: 1, 165840: 1, 4769: 1, 276275: 1, 185390: 1, 190443: 1, 190627: 1, 269510: 1, 170545: 1, 187932: 1, 180406: 1, 275909: 1, 170229: 1, 224897: 1, 250275: 1, 25413: 1, 123950: 1, 123350: 1, 78761: 1, 122765: 1, 237268: 1, 78997: 1, 237170: 1, 122660: 1, 215739: 1, 79315: 1, 79340: 1, 79920: 1, 79997: 1, 80077: 1, 121424: 1, 121345: 1, 123553: 1, 78089: 1, 125641: 1, 78067: 1, 125474: 1, 125274: 1, 76122: 1, 76158: 1, 76426: 1, 125224: 1, 238538: 1, 238241: 1, 238159: 1, 77530: 1, 77678: 1, 237966: 1, 77753: 1, 124096: 1, 237734: 1, 216110: 1, 216155: 1, 81540: 1, 121070: 1, 82752: 1, 82939: 1, 235113: 1, 83096: 1, 119168: 1, 83589: 1, 119146: 1, 119115: 1, 234816: 1, 217275: 1, 84854: 1, 84869: 1, 85067: 1, 234406: 1, 118587: 1, 82702: 1, 235303: 1, 82578: 1, 119884: 1, 236057: 1, 81611: 1, 81689: 1, 81731: 1, 216579: 1, 120599: 1, 82082: 1, 216965: 1, 119748: 1, 235736: 1, 216861: 1, 82144: 1, 235604: 1, 235475: 1, 75771: 1, 75482: 1, 118538: 1, 211057: 1, 67992: 1, 242029: 1, 242008: 1, 211212: 1, 130430: 1, 68473: 1, 68758: 1, 68887: 1, 69056: 1, 211979: 1, 241268: 1, 129056: 1, 70740: 1, 129002: 1, 241036: 1, 67838: 1, 130923: 1, 126170: 1, 67494: 1, 132826: 1, 132735: 1, 65398: 1, 242828: 1, 242742: 1, 132030: 1, 66467: 1, 66555: 1, 210625: 1, 131243: 1, 67053: 1, 242262: 1, 67322: 1, 67351: 1, 131023: 1, 241012: 1, 241011: 1, 240951: 1, 71358: 1, 73829: 1, 213324: 1, 73991: 1, 74089: 1, 74113: 1, 126733: 1, 74189: 1, 74500: 1, 126588: 1, 74782: 1, 74801: 1, 126531: 1, 74959: 1, 213707: 1, 239241: 1, 239854: 1, 213109: 1, 127134: 1, 212610: 1, 128790: 1, 128611: 1, 212416: 1, 128574: 1, 128557: 1, 212591: 1, 128427: 1, 127164: 1, 72169: 1, 240440: 1, 128077: 1, 127993: 1, 127719: 1, 72999: 1, 217571: 1, 86103: 1, 25673: 1, 109278: 1, 222906: 1, 96925: 1, 108448: 1, 227517: 1, 98254: 1, 107645: 1, 98474: 1, 98707: 1, 223375: 1, 107382: 1, 107042: 1, 99126: 1, 223503: 1, 223525: 1, 226945: 1, 228111: 1, 222457: 1, 94804: 1, 228372: 1, 94897: 1, 110783: 1, 110724: 1, 110459: 1, 95072: 1, 95095: 1, 95098: 1, 95172: 1, 228883: 1, 95593: 1, 222298: 1, 228666: 1, 95902: 1, 95909: 1, 95915: 1, 99268: 1, 106803: 1, 223593: 1, 226638: 1, 225721: 1, 102322: 1, 102349: 1, 102832: 1, 224316: 1, 105175: 1, 225403: 1, 103024: 1, 225343: 1, 105098: 1, 103490: 1, 224564: 1, 225065: 1, 103849: 1, 104168: 1, 225799: 1, 225834: 1, 105714: 1, 100668: 1, 100355: 1, 226517: 1, 106338: 1, 106173: 1, 100519: 1, 106086: 1, 100964: 1, 105745: 1, 101191: 1, 101559: 1, 101666: 1, 224064: 1, 225935: 1, 101796: 1, 110853: 1, 110919: 1, 218005: 1, 218843: 1, 232626: 1, 116070: 1, 116031: 1, 232308: 1, 89188: 1, 89216: 1, 89339: 1, 115724: 1, 89493: 1, 89610: 1, 89870: 1, 115538: 1, 89891: 1, 89917: 1, 90072: 1, 88797: 1, 88395: 1, 229444: 1, 232925: 1, 86263: 1, 117722: 1, 117548: 1, 233714: 1, 218360: 1, 116873: 1, 87400: 1, 87776: 1, 233409: 1, 218621: 1, 87943: 1, 87975: 1, 88066: 1, 88116: 1, 116669: 1, 90139: 1, 231494: 1, 219609: 1, 114699: 1, 112220: 1, 93161: 1, 221033: 1, 93370: 1, 111657: 1, 93595: 1, 93790: 1, 111310: 1, 93837: 1, 229721: 1, 111288: 1, 111254: 1, 94194: 1, 94445: 1, 111027: 1, 93018: 1, 92909: 1, 92865: 1, 91423: 1, 219722: 1, 90829: 1, 114654: 1, 91047: 1, 114592: 1, 114466: 1, 91478: 1, 230511: 1, 220344: 1, 91777: 1, 91882: 1, 112986: 1, 230635: 1, 220753: 1, 133034: 1, 133567: 1, 243387: 1, 199898: 1, 200093: 1, 153957: 1, 153849: 1, 200238: 1, 256413: 1, 153496: 1, 38321: 1, 153466: 1, 153416: 1, 38589: 1, 255880: 1, 38595: 1, 152973: 1, 38994: 1, 200876: 1, 37654: 1, 154362: 1, 258425: 1, 154560: 1, 155585: 1, 35713: 1, 155511: 1, 35954: 1, 154882: 1, 36413: 1, 199431: 1, 199510: 1, 36822: 1, 257450: 1, 36961: 1, 199566: 1, 37113: 1, 199572: 1, 199590: 1, 39287: 1, 39400: 1, 39488: 1, 255133: 1, 42143: 1, 42178: 1, 253670: 1, 42491: 1, 150799: 1, 42721: 1, 42831: 1, 150695: 1, 42940: 1, 43325: 1, 253277: 1, 43645: 1, 43726: 1, 43909: 1, 43920: 1, 42055: 1, 150973: 1, 41842: 1, 40748: 1, 39588: 1, 152357: 1, 40563: 1, 151843: 1, 201654: 1, 201657: 1, 201673: 1, 41837: 1, 41198: 1, 41351: 1, 41586: 1, 41602: 1, 41738: 1, 254022: 1, 35552: 1, 35487: 1, 134076: 1, 27673: 1, 263112: 1, 162775: 1, 28519: 1, 28525: 1, 195085: 1, 162248: 1, 162200: 1, 195322: 1, 29743: 1, 30144: 1, 195653: 1, 161652: 1, 30246: 1, 195716: 1, 161577: 1, 163052: 1, 163072: 1, 35079: 1, 27612: 1, 194129: 1, 264416: 1, 163914: 1, 163751: 1, 26616: 1, 264149: 1, 26938: 1, 26939: 1, 26949: 1, 27214: 1, 163529: 1, 263740: 1, 27228: 1, 163521: 1, 263644: 1, 262014: 1, 30507: 1, 161101: 1, 161098: 1, 31984: 1, 158688: 1, 158615: 1, 32196: 1, 32955: 1, 157068: 1, 259288: 1, 33597: 1, 259249: 1, 156502: 1, 258952: 1, 156161: 1, 34644: 1, 34776: 1, 258556: 1, 158867: 1, 159156: 1, 159211: 1, 260961: 1, 160871: 1, 160636: 1, 30814: 1, 196129: 1, 160196: 1, 159783: 1, 260950: 1, 260647: 1, 159308: 1, 260902: 1, 31342: 1, 260865: 1, 159259: 1, 31421: 1, 43955: 1, 44020: 1, 149838: 1, 206652: 1, 246823: 1, 139513: 1, 57838: 1, 246678: 1, 207000: 1, 139286: 1, 58156: 1, 139222: 1, 139182: 1, 58390: 1, 207669: 1, 58790: 1, 138280: 1, 58869: 1, 137766: 1, 139634: 1, 56998: 1, 149153: 1, 56874: 1, 248300: 1, 248289: 1, 54917: 1, 55086: 1, 206187: 1, 140826: 1, 248079: 1, 55641: 1, 247873: 1, 56135: 1, 56276: 1, 247736: 1, 56425: 1, 139991: 1, 56797: 1, 59113: 1, 59147: 1, 245802: 1, 137678: 1, 135766: 1, 62753: 1, 62954: 1, 63182: 1, 135321: 1, 135241: 1, 63252: 1, 63812: 1, 243991: 1, 63918: 1, 135006: 1, 209154: 1, 209155: 1, 134890: 1, 243899: 1, 135911: 1, 244747: 1, 244804: 1, 59967: 1, 245698: 1, 59438: 1, 59463: 1, 59838: 1, 137327: 1, 137283: 1, 60014: 1, 61049: 1, 136676: 1, 245231: 1, 136585: 1, 60586: 1, 60978: 1, 244833: 1, 54828: 1, 206042: 1, 206026: 1, 50157: 1, 251449: 1, 203820: 1, 47534: 1, 47581: 1, 47635: 1, 47669: 1, 146466: 1, 146261: 1, 204124: 1, 48474: 1, 48787: 1, 204285: 1, 49415: 1, 146025: 1, 250625: 1, 47232: 1, 46483: 1, 46481: 1, 148621: 1, 202407: 1, 252719: 1, 148989: 1, 45122: 1, 45136: 1, 252601: 1, 148154: 1, 251877: 1, 252328: 1, 45757: 1, 147492: 1, 203502: 1, 252111: 1, 203542: 1, 50131: 1, 204458: 1, 141373: 1, 145000: 1, 52968: 1, 53225: 1, 205503: 1, 142474: 1, 142129: 1, 142110: 1, 248915: 1, 53420: 1, 205745: 1, 205783: 1, 53533: 1, 248772: 1, 53594: 1, 142041: 1, 205969: 1, 52834: 1, 52606: 1, 142974: 1, 204968: 1, 144943: 1, 144120: 1, 104236: 1, 250242: 1, 250227: 1, 204959: 1, 204972: 1, 143214: 1, 205037: 1, 51913: 1, 143646: 1, 143636: 1, 52036: 1, 52441: 1, 8: 1}\n"
     ]
    }
   ],
   "source": [
    "print(dict(filter_super_users))"
   ]
  },
  {
   "cell_type": "code",
   "execution_count": 85,
   "metadata": {},
   "outputs": [],
   "source": [
    "import json"
   ]
  },
  {
   "cell_type": "code",
   "execution_count": 86,
   "metadata": {},
   "outputs": [],
   "source": [
    "class JsonEncoder(json.JSONEncoder):\n",
    "    \"\"\"Convert numpy classes to JSON serializable objects.\"\"\"\n",
    "\n",
    "    def default(self, obj):\n",
    "        if isinstance(obj, (np.integer, np.floating, np.bool_)):\n",
    "            return obj.item()\n",
    "        elif isinstance(obj, np.ndarray):\n",
    "            return obj.tolist()\n",
    "        else:\n",
    "            return super(JsonEncoder, self).default(obj)\n",
    "        \n",
    "    "
   ]
  },
  {
   "cell_type": "code",
   "execution_count": 87,
   "metadata": {},
   "outputs": [],
   "source": [
    "with open(\"../boycott_files/bcrossing_user_to_num_ratings.json\",\"w\") as file:\n",
    "    json.dump(dict(filter_super_users),file,ensure_ascii=False, cls=JsonEncoder)"
   ]
  },
  {
   "cell_type": "code",
   "execution_count": 88,
   "metadata": {},
   "outputs": [],
   "source": [
    "data = filter_book_ratings.groupby('book_id').book_rating.sum()"
   ]
  },
  {
   "cell_type": "code",
   "execution_count": 89,
   "metadata": {},
   "outputs": [],
   "source": [
    "data = dict(data)\n",
    "data = sorted(data.items(),key = lambda x:x[1],reverse = True)"
   ]
  },
  {
   "cell_type": "code",
   "execution_count": 90,
   "metadata": {},
   "outputs": [],
   "source": [
    "from pandas.core.frame import DataFrame\n",
    "five_percent=int(0.05*len(filter_books))\n",
    "\n",
    "df = []\n",
    "for item in data[:five_percent]:\n",
    "    df.append(item[0])\n",
    "\n",
    "df = DataFrame([df])\n",
    "\n",
    "df.to_csv(\"../boycott_files/bcrossing_top_five_percent_movies.csv\",header=None)"
   ]
  },
  {
   "cell_type": "code",
   "execution_count": 91,
   "metadata": {},
   "outputs": [
    {
     "name": "stdout",
     "output_type": "stream",
     "text": [
      "[    1.     6.    12.    61.   122.   614.  1229.  2458.  3687.  4917.\n",
      "  6146.  7375.  8605.  9834. 11063. 12170. 12280.]\n",
      "12293\n"
     ]
    }
   ],
   "source": [
    "import numpy as np\n",
    "np.set_printoptions(suppress=True)\n",
    "size_percent=np.array([0.0001,0.0005,0.001,0.005,0.01,0.05,0.1,0.2,0.3,0.4,0.5,0.6,0.7,0.8,0.9,0.99,0.999])\n",
    "size=np.floor(len(filter_users)*size_percent)\n",
    "print(size)\n",
    "print(len(filter_users))"
   ]
  },
  {
   "cell_type": "code",
   "execution_count": 92,
   "metadata": {},
   "outputs": [
    {
     "name": "stdout",
     "output_type": "stream",
     "text": [
      "The 30 countries with the most users are:\n",
      "Index([' usa', ' canada', ' germany', ' united kingdom', ' australia',\n",
      "       ' spain', ' france', ' portugal', ' netherlands', ' switzerland',\n",
      "       ' malaysia', ' italy', ' austria', ' new zealand', ' singapore',\n",
      "       ' finland', ' romania', ' philippines', ' ireland', ' japan', ' brazil',\n",
      "       ' sweden', ' belgium', ' denmark', ' china', ' england, united kingdom',\n",
      "       ' israel', ' mexico', ' hong kong', ' norway', ' greece', ' iran',\n",
      "       ' dominican republic', ' poland', ' kuwait', ' united states',\n",
      "       ' illinois, usa', ' south africa', ' n/a', ' india', ' bulgaria', ' ,',\n",
      "       ' virginia, usa', ' hungary', ' costa rica', ' bahamas',\n",
      "       ' euskal herria', ' egypt', ' universe', ' florida, usa'],\n",
      "      dtype='object')\n",
      "The 30 countries with the most users are:\n",
      " usa                        8532\n",
      " canada                     1160\n",
      " germany                     432\n",
      " united kingdom              376\n",
      " australia                   216\n",
      " spain                       208\n",
      " france                      153\n",
      " portugal                     93\n",
      " netherlands                  67\n",
      " switzerland                  65\n",
      " malaysia                     62\n",
      " italy                        46\n",
      " austria                      45\n",
      " new zealand                  40\n",
      " singapore                    26\n",
      " finland                      23\n",
      " romania                      19\n",
      " philippines                  18\n",
      " ireland                      18\n",
      " japan                        15\n",
      " brazil                       11\n",
      " sweden                       11\n",
      " belgium                       8\n",
      " denmark                       8\n",
      " china                         8\n",
      " england, united kingdom       8\n",
      " israel                        7\n",
      " mexico                        7\n",
      " hong kong                     6\n",
      " norway                        5\n",
      " greece                        5\n",
      " iran                          5\n",
      " dominican republic            4\n",
      " poland                        4\n",
      " kuwait                        4\n",
      " united states                 3\n",
      " illinois, usa                 3\n",
      " south africa                  3\n",
      " n/a                           3\n",
      " india                         3\n",
      " bulgaria                      2\n",
      " ,                             2\n",
      " virginia, usa                 2\n",
      " hungary                       2\n",
      " costa rica                    2\n",
      " bahamas                       2\n",
      " euskal herria                 2\n",
      " egypt                         2\n",
      " universe                      2\n",
      " florida, usa                  2\n",
      "Name: country, dtype: int64\n"
     ]
    }
   ],
   "source": [
    "filter_top_countries1 = filter_users.country.value_counts()[:50]\n",
    "print(f'The 30 countries with the most users are:\\n{filter_top_countries1.keys()}')\n",
    "print(f'The 30 countries with the most users are:\\n{filter_top_countries1}')"
   ]
  },
  {
   "cell_type": "code",
   "execution_count": 98,
   "metadata": {},
   "outputs": [
    {
     "name": "stdout",
     "output_type": "stream",
     "text": [
      "The 30 countries with the most users are:\n",
      "Index([' usa', ' canada', ' united kingdom', ' germany', ' spain',\n",
      "       ' australia', ' n/a', ' france', ' portugal', ' malaysia',\n",
      "       ' netherlands', ' switzerland', ' new zealand', ' italy', ' austria',\n",
      "       ' singapore', ' philippines', ' romania', ' brazil', ' iran',\n",
      "       ' ireland', ' dominican republic', ' sweden', ' belgium', ' finland',\n",
      "       ' japan', ' china', ' england, united kingdom', ' norway', ' ohio, usa',\n",
      "       ' mexico', ' argentina', ' poland', ' denmark', ' israel', ' hong kong',\n",
      "       ' far away...', ' south africa', ' new york, georgia, usa', ' us',\n",
      "       ' greece', ', portugal', ' taiwan', ' india', ' universe', ' kuwait',\n",
      "       ' aruba', ' canary islands, spain', ' florida, usa', ' united state'],\n",
      "      dtype='object', name='country')\n",
      "The 30 countries with the most users are:\n",
      "country\n",
      " usa                        261746\n",
      " canada                      35527\n",
      " united kingdom              14411\n",
      " germany                     12147\n",
      " spain                        7116\n",
      " australia                    6976\n",
      " n/a                          6955\n",
      " france                       4633\n",
      " portugal                     3359\n",
      " malaysia                     2145\n",
      " netherlands                  1889\n",
      " switzerland                  1876\n",
      " new zealand                  1763\n",
      " italy                        1527\n",
      " austria                      1093\n",
      " singapore                     735\n",
      " philippines                   542\n",
      " romania                       463\n",
      " brazil                        433\n",
      " iran                          430\n",
      " ireland                       414\n",
      " dominican republic            379\n",
      " sweden                        367\n",
      " belgium                       362\n",
      " finland                       339\n",
      " japan                         328\n",
      " china                         311\n",
      " england, united kingdom       289\n",
      " norway                        268\n",
      " ohio, usa                     226\n",
      " mexico                        177\n",
      " argentina                     177\n",
      " poland                        157\n",
      " denmark                       142\n",
      " israel                        124\n",
      " hong kong                     108\n",
      " far away...                   101\n",
      " south africa                   97\n",
      " new york, georgia, usa         96\n",
      " us                             92\n",
      " greece                         90\n",
      ", portugal                      84\n",
      " taiwan                         82\n",
      " india                          82\n",
      " universe                       81\n",
      " kuwait                         72\n",
      " aruba                          64\n",
      " canary islands, spain          64\n",
      " florida, usa                   61\n",
      " united state                   60\n",
      "Name: book_id, dtype: int64\n"
     ]
    }
   ],
   "source": [
    "filter_top_countries2 = books_users_ratings.groupby('country').book_id.count().sort_values(ascending=False)[:50]\n",
    "\n",
    "\n",
    "print(f'The 30 countries with the most users are:\\n{filter_top_countries2.keys()}')\n",
    "print(f'The 30 countries with the most users are:\\n{filter_top_countries2}')\n",
    "\n",
    "\n"
   ]
  },
  {
   "cell_type": "code",
   "execution_count": 99,
   "metadata": {},
   "outputs": [],
   "source": [
    "filter_users.to_csv(\"users1.csv\")\n",
    "filter_books.to_csv(\"books.csv\")\n",
    "filter_book_ratings.to_csv(\"ratings.csv\")"
   ]
  },
  {
   "cell_type": "code",
   "execution_count": 100,
   "metadata": {},
   "outputs": [],
   "source": [
    "import pandas as pd\n",
    "import numpy as np\n",
    "df=pd.read_csv('users1.csv')\n",
    "\n",
    "df['state']=np.nan\n",
    "for i in range(len(df)):\n",
    "    if df.loc[i,'country'] ==' usa':\n",
    "        df.loc[i,'state']=0\n",
    "    elif df.loc[i,'country']==' canada':\n",
    "        df.loc[i,'state']=1    \n",
    "    elif df.loc[i,'country']==' germany':\n",
    "        df.loc[i,'state']=2\n",
    "    elif df.loc[i,'country']==' united kingdom':\n",
    "        df.loc[i,'state']=3\n",
    "    elif df.loc[i,'country']== ' australia':\n",
    "        df.loc[i,'state']=4\n",
    "    elif df.loc[i,'country']==' spain':\n",
    "        df.loc[i,'state']=5\n",
    "    elif df.loc[i,'country']==' france':\n",
    "        df.loc[i,'state']=6\n",
    "    elif df.loc[i,'country']==' portugal':\n",
    "        df.loc[i,'state']=7\n",
    "    elif df.loc[i,'country']==' netherlands':\n",
    "        df.loc[i,'state']=8    \n",
    "    elif df.loc[i,'country']==' switzerland':\n",
    "        df.loc[i,'state']=9\n",
    "    elif df.loc[i,'country']==' malaysia':\n",
    "        df.loc[i,'state']=10\n",
    "    elif df.loc[i,'country']==' italy':\n",
    "        df.loc[i,'state']=11\n",
    "    elif df.loc[i,'country']==' austria':\n",
    "        df.loc[i,'state']=12\n",
    "    elif df.loc[i,'country']==' new zealand':\n",
    "        df.loc[i,'state']=13\n",
    "    elif df.loc[i,'country']==' singapore':\n",
    "        df.loc[i,'state']=14  \n",
    "    elif df.loc[i,'country']==' finland':\n",
    "        df.loc[i,'state']=15\n",
    "    elif df.loc[i,'country']== ' romania':\n",
    "        df.loc[i,'state']=16\n",
    "    elif df.loc[i,'country']==' philippines':\n",
    "        df.loc[i,'state']=17\n",
    "    elif df.loc[i,'country']==' ireland':\n",
    "        df.loc[i,'state']=18\n",
    "    elif df.loc[i,'country']==' japan':\n",
    "        df.loc[i,'state']=19   \n",
    "df['state'] = df['state'].astype('Int64')\n",
    "df.to_csv('users.csv',index=0)\n"
   ]
  },
  {
   "cell_type": "code",
   "execution_count": 101,
   "metadata": {},
   "outputs": [
    {
     "data": {
      "text/html": [
       "<div>\n",
       "<style scoped>\n",
       "    .dataframe tbody tr th:only-of-type {\n",
       "        vertical-align: middle;\n",
       "    }\n",
       "\n",
       "    .dataframe tbody tr th {\n",
       "        vertical-align: top;\n",
       "    }\n",
       "\n",
       "    .dataframe thead th {\n",
       "        text-align: right;\n",
       "    }\n",
       "</style>\n",
       "<table border=\"1\" class=\"dataframe\">\n",
       "  <thead>\n",
       "    <tr style=\"text-align: right;\">\n",
       "      <th></th>\n",
       "      <th>Unnamed: 0</th>\n",
       "      <th>user_id</th>\n",
       "      <th>age</th>\n",
       "      <th>country</th>\n",
       "      <th>state</th>\n",
       "    </tr>\n",
       "  </thead>\n",
       "  <tbody>\n",
       "    <tr>\n",
       "      <th>1000</th>\n",
       "      <td>346882</td>\n",
       "      <td>82893</td>\n",
       "      <td>40.0</td>\n",
       "      <td>usa</td>\n",
       "      <td>0</td>\n",
       "    </tr>\n",
       "    <tr>\n",
       "      <th>1001</th>\n",
       "      <td>349008</td>\n",
       "      <td>83443</td>\n",
       "      <td>NaN</td>\n",
       "      <td>NaN</td>\n",
       "      <td>&lt;NA&gt;</td>\n",
       "    </tr>\n",
       "    <tr>\n",
       "      <th>1002</th>\n",
       "      <td>354372</td>\n",
       "      <td>85502</td>\n",
       "      <td>NaN</td>\n",
       "      <td>usa</td>\n",
       "      <td>0</td>\n",
       "    </tr>\n",
       "    <tr>\n",
       "      <th>1003</th>\n",
       "      <td>357275</td>\n",
       "      <td>86123</td>\n",
       "      <td>NaN</td>\n",
       "      <td>canada</td>\n",
       "      <td>1</td>\n",
       "    </tr>\n",
       "    <tr>\n",
       "      <th>1004</th>\n",
       "      <td>357666</td>\n",
       "      <td>86189</td>\n",
       "      <td>NaN</td>\n",
       "      <td>usa</td>\n",
       "      <td>0</td>\n",
       "    </tr>\n",
       "    <tr>\n",
       "      <th>...</th>\n",
       "      <td>...</td>\n",
       "      <td>...</td>\n",
       "      <td>...</td>\n",
       "      <td>...</td>\n",
       "      <td>...</td>\n",
       "    </tr>\n",
       "    <tr>\n",
       "      <th>1195</th>\n",
       "      <td>26626</td>\n",
       "      <td>6280</td>\n",
       "      <td>46.0</td>\n",
       "      <td>spain</td>\n",
       "      <td>5</td>\n",
       "    </tr>\n",
       "    <tr>\n",
       "      <th>1196</th>\n",
       "      <td>1082855</td>\n",
       "      <td>259057</td>\n",
       "      <td>15.0</td>\n",
       "      <td>spain</td>\n",
       "      <td>5</td>\n",
       "    </tr>\n",
       "    <tr>\n",
       "      <th>1197</th>\n",
       "      <td>514643</td>\n",
       "      <td>124888</td>\n",
       "      <td>25.0</td>\n",
       "      <td>spain</td>\n",
       "      <td>5</td>\n",
       "    </tr>\n",
       "    <tr>\n",
       "      <th>1198</th>\n",
       "      <td>741671</td>\n",
       "      <td>179624</td>\n",
       "      <td>31.0</td>\n",
       "      <td>spain</td>\n",
       "      <td>5</td>\n",
       "    </tr>\n",
       "    <tr>\n",
       "      <th>1199</th>\n",
       "      <td>181359</td>\n",
       "      <td>39467</td>\n",
       "      <td>35.0</td>\n",
       "      <td>spain</td>\n",
       "      <td>5</td>\n",
       "    </tr>\n",
       "  </tbody>\n",
       "</table>\n",
       "<p>200 rows × 5 columns</p>\n",
       "</div>"
      ],
      "text/plain": [
       "      Unnamed: 0  user_id   age  country  state\n",
       "1000      346882    82893  40.0      usa      0\n",
       "1001      349008    83443   NaN      NaN   <NA>\n",
       "1002      354372    85502   NaN      usa      0\n",
       "1003      357275    86123   NaN   canada      1\n",
       "1004      357666    86189   NaN      usa      0\n",
       "...          ...      ...   ...      ...    ...\n",
       "1195       26626     6280  46.0    spain      5\n",
       "1196     1082855   259057  15.0    spain      5\n",
       "1197      514643   124888  25.0    spain      5\n",
       "1198      741671   179624  31.0    spain      5\n",
       "1199      181359    39467  35.0    spain      5\n",
       "\n",
       "[200 rows x 5 columns]"
      ]
     },
     "execution_count": 101,
     "metadata": {},
     "output_type": "execute_result"
    }
   ],
   "source": [
    "df[1000:1200]"
   ]
  },
  {
   "cell_type": "code",
   "execution_count": 102,
   "metadata": {},
   "outputs": [
    {
     "name": "stdout",
     "output_type": "stream",
     "text": [
      "There are 0 entries with empty strings, and 476 NaN entries in the Country field\n",
      "0.03872122346050598\n"
     ]
    }
   ],
   "source": [
    "#Missing values for age\n",
    "\n",
    "empty_string_country1 = df[df.country == ''].country.count()\n",
    "nan_country1 = df.country.isnull().sum()\n",
    "print(f'There are {empty_string_country1} entries with empty strings, and {nan_country1} NaN entries in the Country field')\n",
    "\n",
    "print((empty_string_country1+nan_country1)/df.user_id.count())"
   ]
  },
  {
   "cell_type": "code",
   "execution_count": 103,
   "metadata": {},
   "outputs": [
    {
     "name": "stdout",
     "output_type": "stream",
     "text": [
      "There are 0 entries with empty strings, and 3703 NaN entries in the Country field\n",
      "0.3012283413324656\n"
     ]
    }
   ],
   "source": [
    "#Missing values for age\n",
    "empty_string_age = df[df.age == ''].age.count()\n",
    "nan_age = df.age.isnull().sum()\n",
    "print(f'There are {empty_string_age} entries with empty strings, and {nan_age} NaN entries in the Country field')\n",
    "print((empty_string_age+nan_age)/df.user_id.count())"
   ]
  },
  {
   "cell_type": "code",
   "execution_count": 104,
   "metadata": {
    "scrolled": true
   },
   "outputs": [
    {
     "name": "stdout",
     "output_type": "stream",
     "text": [
      "12293\n",
      "13768\n",
      "145888\n",
      "90421\n"
     ]
    }
   ],
   "source": [
    "# prepare for viz_constants.py\n",
    "\n",
    "num_users = filter_users.user_id.count()\n",
    "num_ratings =filter_book_ratings.book_rating.count()\n",
    "num_items=filter_books.book_id.count()\n",
    "num_hits =filter_books_users_ratings[(filter_books_users_ratings['book_rating']>=4.0)].book_rating.count()\n",
    "print(num_users)\n",
    "print(num_items)\n",
    "print(num_ratings)\n",
    "print(num_hits)"
   ]
  },
  {
   "cell_type": "markdown",
   "metadata": {},
   "source": [
    "# References"
   ]
  },
  {
   "cell_type": "markdown",
   "metadata": {},
   "source": [
    "1. http://blog.ethanrosenthal.com/2015/11/02/intro-to-collaborative-filtering/\n",
    "2. https://cambridgespark.com/content/tutorials/implementing-your-own-recommender-systems-in-Python/index.html\n",
    "3. https://towardsdatascience.com/building-a-recommendation-system-for-fragrance-5b00de3829da"
   ]
  },
  {
   "cell_type": "code",
   "execution_count": null,
   "metadata": {},
   "outputs": [],
   "source": []
  }
 ],
 "metadata": {
  "kernelspec": {
   "display_name": "Python 3 (ipykernel)",
   "language": "python",
   "name": "python3"
  },
  "language_info": {
   "codemirror_mode": {
    "name": "ipython",
    "version": 3
   },
   "file_extension": ".py",
   "mimetype": "text/x-python",
   "name": "python",
   "nbconvert_exporter": "python",
   "pygments_lexer": "ipython3",
   "version": "3.9.13"
  }
 },
 "nbformat": 4,
 "nbformat_minor": 2
}
